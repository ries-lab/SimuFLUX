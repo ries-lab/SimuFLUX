{
 "cells": [
  {
   "cell_type": "code",
   "execution_count": null,
   "metadata": {},
   "outputs": [],
   "source": [
    "## RUN THIS CELL IF AND ONLY IF THIS IS OPEN IN GOOGLE COLAB\n",
    "!git clone https://github.com/ries-lab/SimuFLUX.git\n",
    "%cd SimuFLUX/python/examples"
   ]
  },
  {
   "cell_type": "code",
   "execution_count": null,
   "metadata": {},
   "outputs": [],
   "source": [
    "%matplotlib inline\n",
    "\n",
    "import sys\n",
    "import os\n",
    "from pathlib import Path\n",
    "\n",
    "SCRIPT_DIR = Path(os.getcwd()).parent\n",
    "sys.path.append(os.path.dirname(SCRIPT_DIR))"
   ]
  },
  {
   "cell_type": "code",
   "execution_count": null,
   "metadata": {},
   "outputs": [],
   "source": [
    "import matplotlib.pyplot as plt\n",
    "import numpy as np\n",
    "\n",
    "from python.psfs import PsfDonut2D\n",
    "from python.estimators import est_qLSQiter2D\n",
    "from python.fluorophores import FlBlinkBleach\n",
    "from python.simulators import Simulator"
   ]
  },
  {
   "cell_type": "code",
   "execution_count": null,
   "metadata": {},
   "outputs": [],
   "source": [
    "fl = FlBlinkBleach()\n",
    "sim = Simulator(fluorophores=fl)\n",
    "sim.fluorophores.fast_toff = 0.1  # off-time ms\n",
    "sim.fluorophores.fast_ton = 0.1  # on-time ms"
   ]
  },
  {
   "cell_type": "code",
   "execution_count": null,
   "metadata": {},
   "outputs": [],
   "source": [
    "repetitions = 1  # how often to repeat the pattern scan\n",
    "L = 75\n",
    "pointdwelltimerep = 0.1  # ms, for all repetitions\n",
    "pointdwelltime=pointdwelltimerep/repetitions  # ms\n",
    "orbitpoints = 4\n",
    "probecenter = True\n",
    "psf_donut = PsfDonut2D()\n",
    "sim.definePattern(\"donut\", \n",
    "                  psf_donut, \n",
    "                  makepattern = \"orbitscan\", \n",
    "                  orbitpoints = orbitpoints,\n",
    "                  probecenter = probecenter,\n",
    "                  orbitL = L,\n",
    "                  pointdwelltime = pointdwelltime,\n",
    "                  laserpower = 100,\n",
    "                  repetitions = repetitions)\n",
    "sim.defineComponent(\"estsq\", \"estimator\", est_qLSQiter2D, parameters=[L,probecenter], dim=(0,1))\n",
    "out = sim.runSequence([\"donut\", \"estsq\"])\n",
    "sim.summarize_results(out)"
   ]
  },
  {
   "cell_type": "code",
   "execution_count": null,
   "metadata": {},
   "outputs": [],
   "source": [
    "## plot std vs repetitions\n",
    "allrepetitions = np.arange(25)+1\n",
    "stdx = np.zeros((len(allrepetitions),1))\n",
    "stdy = np.zeros((len(allrepetitions),1))\n",
    "stdxrel = np.zeros((len(allrepetitions),1))\n",
    "stdyrel = np.zeros((len(allrepetitions),1))\n",
    "biasx = np.zeros((len(allrepetitions),1))\n",
    "biasy = np.zeros((len(allrepetitions),1))\n",
    "\n",
    "for k in range(len(allrepetitions)):\n",
    "    pointdwelltime=pointdwelltimerep/allrepetitions[k]  # us\n",
    "    sim.definePattern(\"donut4\", \n",
    "                      psf_donut, \n",
    "                      makepattern = \"orbitscan\", \n",
    "                      orbitpoints = orbitpoints,\n",
    "                      probecenter = probecenter,\n",
    "                      orbitL = L,\n",
    "                      pointdwelltime = pointdwelltime,\n",
    "                      laserpower = 100,\n",
    "                      repetitions = allrepetitions[k])\n",
    "    out = sim.runSequence([\"donut4\", \"estsq\"], maxlocs=3000)\n",
    "    bright = out.loc.phot > np.quantile(out.loc.phot,0.1)  # filter out localizations that are too dim, \n",
    "                                                           # outliers from fluorophores that are mostly off\n",
    "    converged = (np.abs(out.loc.xnm)<L) & (np.abs(out.loc.ynm)<L)  # estimator is artificially bound by +/-L. Here we \n",
    "                                                                   # remove localizations where the estimator converged to this limit.\n",
    "    sr=sim.summarize_results(out, filter=bright&converged, display=False)\n",
    "    stdx[k] = sr.std[0]\n",
    "    stdy[k] = sr.std[1]\n",
    "    stdxrel[k] = stdx[k]/sr.sCRB[0]\n",
    "    stdyrel[k] = stdy[k]/sr.sCRB[1]\n",
    "    biasx[k] = sr.bias[0]\n",
    "    biasy[k] = sr.bias[1]\n"
   ]
  },
  {
   "cell_type": "code",
   "execution_count": null,
   "metadata": {},
   "outputs": [],
   "source": [
    "plt.figure()\n",
    "plt.plot(allrepetitions,stdxrel,allrepetitions,stdyrel,allrepetitions,allrepetitions*0+1,'k')\n",
    "plt.xlabel('repetitions')\n",
    "plt.ylabel('std/sCRB')\n",
    "plt.title(\"flickering fluorophores, mitigation by repetitive scanning\")"
   ]
  },
  {
   "cell_type": "code",
   "execution_count": null,
   "metadata": {},
   "outputs": [],
   "source": []
  }
 ],
 "metadata": {
  "kernelspec": {
   "display_name": "expansion",
   "language": "python",
   "name": "python3"
  },
  "language_info": {
   "codemirror_mode": {
    "name": "ipython",
    "version": 3
   },
   "file_extension": ".py",
   "mimetype": "text/x-python",
   "name": "python",
   "nbconvert_exporter": "python",
   "pygments_lexer": "ipython3",
   "version": "3.11.10"
  }
 },
 "nbformat": 4,
 "nbformat_minor": 2
}
