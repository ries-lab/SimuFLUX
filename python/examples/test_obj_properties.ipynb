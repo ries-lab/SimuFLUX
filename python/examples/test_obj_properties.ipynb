{
 "cells": [
  {
   "cell_type": "code",
   "execution_count": 2,
   "metadata": {},
   "outputs": [],
   "source": [
    "class Agent:\n",
    "    def __init__(self):\n",
    "        self.propa = None\n",
    "        self.propb = None\n",
    "\n",
    "    def calc(self, input):\n",
    "        out = input*self.propa\n",
    "        self.propb = out\n",
    "        return out\n",
    "    \n",
    "    def calcdirect(self, input, propa):\n",
    "        return input*propa"
   ]
  },
  {
   "cell_type": "code",
   "execution_count": 3,
   "metadata": {},
   "outputs": [
    {
     "name": "stdout",
     "output_type": "stream",
     "text": [
      "property: 0.074 s, direct: 0.058 s, ratio: 1.2784786702963213\n",
      "         1000044 function calls in 0.206 seconds\n",
      "\n",
      "   Ordered by: internal time\n",
      "\n",
      "   ncalls  tottime  percall  cumtime  percall filename:lineno(function)\n",
      "        1    0.119    0.119    0.206    0.206 /var/folders/kd/wrptvww96j9_ltf5ds0590ww0000gn/T/ipykernel_58050/4072605316.py:1(<module>)\n",
      "  1000000    0.086    0.000    0.086    0.000 /var/folders/kd/wrptvww96j9_ltf5ds0590ww0000gn/T/ipykernel_58050/3409481836.py:6(calc)\n",
      "        2    0.000    0.000    0.000    0.000 {built-in method builtins.compile}\n",
      "        2    0.000    0.000    0.000    0.000 /Users/zachcm/miniforge3/envs/expansion/lib/python3.11/codeop.py:120(__call__)\n",
      "        2    0.000    0.000    0.206    0.103 /Users/zachcm/miniforge3/envs/expansion/lib/python3.11/site-packages/IPython/core/interactiveshell.py:3541(run_code)\n",
      "        2    0.000    0.000    0.000    0.000 /Users/zachcm/miniforge3/envs/expansion/lib/python3.11/site-packages/traitlets/traitlets.py:676(__get__)\n",
      "        2    0.000    0.000    0.000    0.000 /Users/zachcm/miniforge3/envs/expansion/lib/python3.11/contextlib.py:299(helper)\n",
      "        2    0.000    0.000    0.000    0.000 /Users/zachcm/miniforge3/envs/expansion/lib/python3.11/contextlib.py:104(__init__)\n",
      "        2    0.000    0.000    0.206    0.103 {built-in method builtins.exec}\n",
      "        4    0.000    0.000    0.000    0.000 {built-in method builtins.next}\n",
      "        2    0.000    0.000    0.000    0.000 /Users/zachcm/miniforge3/envs/expansion/lib/python3.11/site-packages/traitlets/traitlets.py:629(get)\n",
      "        2    0.000    0.000    0.000    0.000 /Users/zachcm/miniforge3/envs/expansion/lib/python3.11/contextlib.py:141(__exit__)\n",
      "        4    0.000    0.000    0.000    0.000 /Users/zachcm/miniforge3/envs/expansion/lib/python3.11/site-packages/IPython/core/compilerop.py:180(extra_flags)\n",
      "        2    0.000    0.000    0.000    0.000 /Users/zachcm/miniforge3/envs/expansion/lib/python3.11/site-packages/IPython/core/interactiveshell.py:3493(compare)\n",
      "        4    0.000    0.000    0.000    0.000 {built-in method builtins.getattr}\n",
      "        2    0.000    0.000    0.000    0.000 /Users/zachcm/miniforge3/envs/expansion/lib/python3.11/contextlib.py:132(__enter__)\n",
      "        2    0.000    0.000    0.000    0.000 /Users/zachcm/miniforge3/envs/expansion/lib/python3.11/site-packages/IPython/core/interactiveshell.py:1277(user_global_ns)\n",
      "        1    0.000    0.000    0.000    0.000 {method 'disable' of '_lsprof.Profiler' objects}\n",
      "        4    0.000    0.000    0.000    0.000 /Users/zachcm/miniforge3/envs/expansion/lib/python3.11/typing.py:2287(cast)\n",
      "        2    0.000    0.000    0.000    0.000 {method 'get' of 'dict' objects}\n",
      "\n",
      "\n",
      "\n",
      "['__class__', '__delattr__', '__dict__', '__dir__', '__doc__', '__eq__', '__format__', '__ge__', '__getattribute__', '__getstate__', '__gt__', '__hash__', '__init__', '__init_subclass__', '__le__', '__lt__', '__module__', '__ne__', '__new__', '__reduce__', '__reduce_ex__', '__repr__', '__setattr__', '__sizeof__', '__str__', '__subclasshook__', '__weakref__', 'add', 'all_callees', 'calc_callees', 'dump_stats', 'eval_print_amount', 'fcn_list', 'files', 'get_print_list', 'get_sort_arg_defs', 'get_stats_profile', 'get_top_level_stats', 'init', 'load_stats', 'max_name_len', 'prim_calls', 'print_call_heading', 'print_call_line', 'print_callees', 'print_callers', 'print_line', 'print_stats', 'print_title', 'reverse_order', 'sort_arg_dict', 'sort_arg_dict_default', 'sort_stats', 'sort_type', 'stats', 'stream', 'strip_dirs', 'top_level', 'total_calls', 'total_tt']\n",
      "['__class__', '__del__', '__delattr__', '__dict__', '__dir__', '__doc__', '__enter__', '__eq__', '__exit__', '__format__', '__ge__', '__getattribute__', '__getstate__', '__gt__', '__hash__', '__init__', '__init_subclass__', '__iter__', '__le__', '__lt__', '__ne__', '__new__', '__next__', '__reduce__', '__reduce_ex__', '__repr__', '__setattr__', '__setstate__', '__sizeof__', '__str__', '__subclasshook__', '_checkClosed', '_checkReadable', '_checkSeekable', '_checkWritable', 'close', 'closed', 'detach', 'encoding', 'errors', 'fileno', 'flush', 'getvalue', 'isatty', 'line_buffering', 'newlines', 'read', 'readable', 'readline', 'readlines', 'seek', 'seekable', 'tell', 'truncate', 'writable', 'write', 'writelines']\n"
     ]
    }
   ],
   "source": [
    "import time\n",
    "import cProfile, pstats, io\n",
    "from pstats import SortKey\n",
    "\n",
    "a = Agent()\n",
    "a.propa = 5\n",
    "nmax = 1000000 \n",
    "\n",
    "tic = time.time()\n",
    "for k in range(nmax):\n",
    "    a.calc(3)\n",
    "toc = time.time()\n",
    "dur = toc - tic\n",
    "\n",
    "tic = time.time()\n",
    "val = a.propa\n",
    "for k in range(nmax):\n",
    "    a.calcdirect(3, val)\n",
    "toc = time.time()\n",
    "dur2 = toc - tic\n",
    "\n",
    "print(f\"property: {dur:.3f} s, direct: {dur2:.3f} s, ratio: {dur/dur2}\")\n",
    "\n",
    "# Now repeat with the cProfiler\n",
    "pr = cProfile.Profile()\n",
    "pr.enable()\n",
    "for k in range(nmax):\n",
    "    a.calc(3)\n",
    "pr.disable()\n",
    "s = io.StringIO()\n",
    "sortby = SortKey.TIME\n",
    "ps = pstats.Stats(pr, stream=s).sort_stats(sortby)\n",
    "ps.print_stats()\n",
    "print(s.getvalue())\n",
    "print(dir(ps))\n",
    "print(dir(s))\n"
   ]
  },
  {
   "cell_type": "code",
   "execution_count": 10,
   "metadata": {},
   "outputs": [
    {
     "name": "stdout",
     "output_type": "stream",
     "text": [
      "(1000000, 1000000, 0.08620061400000001, 0.08620061400000001, {('/var/folders/kd/wrptvww96j9_ltf5ds0590ww0000gn/T/ipykernel_58050/4072605316.py', 1, '<module>'): (1000000, 1000000, 0.08620061400000001, 0.08620061400000001)})\n"
     ]
    }
   ],
   "source": [
    "for key in ps.stats.keys():\n",
    "    if key[2] == \"calc\":\n",
    "        print(ps.stats[key])"
   ]
  },
  {
   "cell_type": "code",
   "execution_count": 12,
   "metadata": {},
   "outputs": [
    {
     "name": "stdout",
     "output_type": "stream",
     "text": [
      "('~', 0, \"<method 'get' of 'dict' objects>\")\n",
      "('~', 0, '<built-in method builtins.compile>')\n",
      "('~', 0, '<built-in method builtins.exec>')\n",
      "('~', 0, '<built-in method builtins.getattr>')\n",
      "('~', 0, '<built-in method builtins.next>')\n",
      "('/Users/zachcm/miniforge3/envs/expansion/lib/python3.11/contextlib.py', 132, '__enter__')\n",
      "('/Users/zachcm/miniforge3/envs/expansion/lib/python3.11/contextlib.py', 104, '__init__')\n",
      "('/Users/zachcm/miniforge3/envs/expansion/lib/python3.11/contextlib.py', 299, 'helper')\n",
      "('/Users/zachcm/miniforge3/envs/expansion/lib/python3.11/typing.py', 2287, 'cast')\n",
      "('/Users/zachcm/miniforge3/envs/expansion/lib/python3.11/site-packages/traitlets/traitlets.py', 676, '__get__')\n",
      "('~', 0, \"<method 'disable' of '_lsprof.Profiler' objects>\")\n",
      "('/Users/zachcm/miniforge3/envs/expansion/lib/python3.11/codeop.py', 120, '__call__')\n",
      "('/Users/zachcm/miniforge3/envs/expansion/lib/python3.11/site-packages/IPython/core/compilerop.py', 180, 'extra_flags')\n",
      "('/Users/zachcm/miniforge3/envs/expansion/lib/python3.11/site-packages/IPython/core/interactiveshell.py', 3493, 'compare')\n",
      "('/Users/zachcm/miniforge3/envs/expansion/lib/python3.11/site-packages/IPython/core/interactiveshell.py', 1277, 'user_global_ns')\n",
      "('/var/folders/kd/wrptvww96j9_ltf5ds0590ww0000gn/T/ipykernel_58050/4072605316.py', 1, '<module>')\n",
      "('/var/folders/kd/wrptvww96j9_ltf5ds0590ww0000gn/T/ipykernel_58050/3409481836.py', 6, 'calc')\n",
      "('/Users/zachcm/miniforge3/envs/expansion/lib/python3.11/site-packages/traitlets/traitlets.py', 629, 'get')\n",
      "('/Users/zachcm/miniforge3/envs/expansion/lib/python3.11/contextlib.py', 141, '__exit__')\n",
      "('/Users/zachcm/miniforge3/envs/expansion/lib/python3.11/site-packages/IPython/core/interactiveshell.py', 3541, 'run_code')\n"
     ]
    }
   ],
   "source": [
    "for key in ps.stats.keys():\n",
    "    print(key)"
   ]
  },
  {
   "cell_type": "code",
   "execution_count": null,
   "metadata": {},
   "outputs": [],
   "source": []
  }
 ],
 "metadata": {
  "kernelspec": {
   "display_name": "expansion",
   "language": "python",
   "name": "python3"
  },
  "language_info": {
   "codemirror_mode": {
    "name": "ipython",
    "version": 3
   },
   "file_extension": ".py",
   "mimetype": "text/x-python",
   "name": "python",
   "nbconvert_exporter": "python",
   "pygments_lexer": "ipython3",
   "version": "3.11.10"
  }
 },
 "nbformat": 4,
 "nbformat_minor": 2
}
