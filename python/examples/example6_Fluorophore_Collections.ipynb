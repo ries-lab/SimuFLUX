{
 "cells": [
  {
   "cell_type": "code",
   "execution_count": null,
   "metadata": {},
   "outputs": [],
   "source": [
    "%matplotlib widget\n",
    "\n",
    "import sys\n",
    "import os\n",
    "from pathlib import Path\n",
    "\n",
    "SCRIPT_DIR = Path(os.getcwd()).parent\n",
    "sys.path.append(os.path.dirname(SCRIPT_DIR))"
   ]
  },
  {
   "cell_type": "code",
   "execution_count": null,
   "metadata": {},
   "outputs": [],
   "source": [
    "import numpy as np\n",
    "import matplotlib.pyplot as plt\n",
    "\n",
    "from python.fluorophores import FlStatic, FlCollection, FlCollectionBlinking\n",
    "from python.psfs import PsfVectorial\n",
    "from python.estimators import est_quad2Diter\n",
    "from python.simulators import Simulator\n",
    "from python.simulators import SimSequencefile\n",
    "from python.tools import makeNPC"
   ]
  },
  {
   "cell_type": "markdown",
   "metadata": {},
   "source": [
    "## Simulate several fluorophores in a fluorophore collection"
   ]
  },
  {
   "cell_type": "code",
   "execution_count": null,
   "metadata": {},
   "outputs": [],
   "source": [
    "## two fluorophores\n",
    "fl1 = FlStatic()\n",
    "fl2 = FlStatic()\n",
    "\n",
    "psf_vec = PsfVectorial()\n",
    "psf_vec.setpinhole(AU=1)\n",
    "\n",
    "fc = FlCollection()\n",
    "fc.add([fl1, fl2])\n",
    "\n",
    "sim=Simulator(fluorophores=fc) # make a simulator and attach fluorophore"
   ]
  },
  {
   "cell_type": "code",
   "execution_count": null,
   "metadata": {},
   "outputs": [],
   "source": [
    "numberOfLocalizations = 1000\n",
    "orbitpoints = 4\n",
    "probecenter = True\n",
    "L = 75\n",
    "sim.definePattern(\"donut\", psf_vec, \n",
    "                  phasemask = \"vortex\", \n",
    "                  makepattern = \"orbitscan\", \n",
    "                  orbitpoints = orbitpoints,\n",
    "                  probecenter = probecenter,\n",
    "                  orbitL = L,\n",
    "                  laserpower = 100)\n",
    "sim.defineComponent(\"estdonut\", \"estimator\",est_quad2Diter, parameters=[L,probecenter], dim=(0,1))"
   ]
  },
  {
   "cell_type": "code",
   "execution_count": null,
   "metadata": {},
   "outputs": [],
   "source": [
    "seq = [\"donut\", \"estdonut\"]\n",
    "out = sim.runSequence(seq,maxlocs=numberOfLocalizations)\n",
    "stats = sim.summarize_results(out)"
   ]
  },
  {
   "cell_type": "code",
   "execution_count": null,
   "metadata": {},
   "outputs": [],
   "source": [
    "x = np.arange(0,750+20,20) # 0:20:750;\n",
    "\n",
    "fig = plt.figure()\n",
    "ax = fig.add_subplot(121)\n",
    "\n",
    "sim.scan_fov(seq, x, dimplot=0, dimscan=0, fluorophorenumber=1,\n",
    "             ax1=[\"std\",\"rmse\",\"sCRB\",\"bias\"],\n",
    "             title=\"scan second fluorophore in x\", \n",
    "             tag=\"x\")"
   ]
  },
  {
   "cell_type": "code",
   "execution_count": null,
   "metadata": {},
   "outputs": [],
   "source": [
    "# now z-dependence\n",
    "fl1.pos = [0, 0, 0]\n",
    "fl2.pos = [100, 0, 0]\n",
    "z = np.arange(0, 1050, 50)  # 0:50:1000;\n",
    "\n",
    "ax = fig.add_subplot(122)\n",
    "sim.scan_fov(seq, z, dimplot=0, dimscan=2, fluorophorenumber=1,\n",
    "             ax1=[\"std\",\"rmse\",\"sCRB\",\"bias\"],\n",
    "             title=\"scan second fluorophore in z\",\n",
    "             tag=\"z\")"
   ]
  },
  {
   "cell_type": "markdown",
   "metadata": {},
   "source": [
    "## Imaging of blinking fluorophores with Abberior sequence\n"
   ]
  },
  {
   "cell_type": "code",
   "execution_count": null,
   "metadata": {},
   "outputs": [],
   "source": [
    "# make abberior simulator\n",
    "sim = SimSequencefile()\n",
    "sim.posgalvo = [0, 0, 0]\n",
    "sim.posEOD = [0, 0, 0]\n",
    "sim.time = 0\n",
    "sim.background = 0\n",
    "fname = os.path.join(SCRIPT_DIR, \"examples\", \"Imaging_2D.json\")\n",
    "sim.loadsequence(fname) # only sequence file, then simple gauss and donut PSFs are used (fast)\n",
    "sim.makescoutingpattern(np.array([[-100, -100], [400, 250]]))"
   ]
  },
  {
   "cell_type": "code",
   "execution_count": null,
   "metadata": {},
   "outputs": [],
   "source": [
    "# make fake NPCs\n",
    "\n",
    "# make a fluorophore collection with blinking fluorophores\n",
    "\n",
    "\n",
    "photonbudget=[800, 5000]\n",
    "reactivations = [0, 3]\n",
    "titles=[\"PALM\", \"dSTORM\"]\n",
    "\n",
    "for k in range(len(photonbudget)):\n",
    "    fc = FlCollectionBlinking()\n",
    "    # set parameterst for caged fluorophore, PAFP or similar\n",
    "    laserpower = 5\n",
    "    switchpar = {}\n",
    "    switchpar['brightness'] = 100*laserpower\n",
    "    switchpar['toffsmlm'] = 10*1e3  # on-switching time in ms\n",
    "    switchpar['photonbudget'] = photonbudget[k]\n",
    "    switchpar['tonsmlm'] = 1e8  #  ms stays on, only bleached\n",
    "    switchpar['activations'] = reactivations[k] # re activations\n",
    "    switchpar['starton'] = 0 # fluorophores start in random on / off state, determined by tonsmlm, toffsmlm\n",
    "    fc.setpar(**switchpar)\n",
    "\n",
    "    # add fake NPCs\n",
    "    fc.addstatic(makeNPC(pos=[0, 0, 0]))\n",
    "    # add more NPCs at positions dpos\n",
    "    fc.addstatic(makeNPC(pos=[250, 50, 0]))\n",
    "    fc.addstatic(makeNPC(pos=[50, 150, 0]))\n",
    "\n",
    "    sim.fluorophores = fc\n",
    "    out = sim.scoutingSequence(maxrep=5000)\n",
    "\n",
    "    #plot results\n",
    "\n",
    "    vld = (out.loc.vld==1) & (out.loc.itr==max(out.loc.itr))\n",
    "    vldcfr = vld & (out.loc.cfr<0.1)\n",
    "    notvld = ~vld & ~vldcfr\n",
    "    fig, ax = plt.subplots(1,1)\n",
    "    ax.plot(sim.scoutingcoordinates[:,0],sim.scoutingcoordinates[:,1],'k+')\n",
    "    ax.plot(out.loc.xnm[notvld],out.loc.ynm[notvld],'c.')\n",
    "    ax.plot(out.loc.xnm[vld],out.loc.ynm[vld],'m.')\n",
    "    ax.plot(out.loc.xnm[vldcfr],out.loc.ynm[vldcfr],'bx')\n",
    "    posfl=out.fluorophores.pos[-1,...].squeeze()\n",
    "    ax.plot(posfl[:,0],posfl[:,1],'ro')\n",
    "    ax.set_aspect('equal')\n",
    "    ax.legend(['scouting','not vld', 'last itr vld','last itr vld +cfr', 'fluorophore'])\n",
    "    ax.set_title(titles[k])\n"
   ]
  },
  {
   "cell_type": "code",
   "execution_count": null,
   "metadata": {},
   "outputs": [],
   "source": []
  }
 ],
 "metadata": {
  "kernelspec": {
   "display_name": "expansion",
   "language": "python",
   "name": "python3"
  },
  "language_info": {
   "codemirror_mode": {
    "name": "ipython",
    "version": 3
   },
   "file_extension": ".py",
   "mimetype": "text/x-python",
   "name": "python",
   "nbconvert_exporter": "python",
   "pygments_lexer": "ipython3",
   "version": "3.11.10"
  }
 },
 "nbformat": 4,
 "nbformat_minor": 2
}
