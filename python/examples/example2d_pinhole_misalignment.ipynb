{
 "cells": [
  {
   "cell_type": "code",
   "execution_count": null,
   "metadata": {},
   "outputs": [],
   "source": [
    "%matplotlib widget\n",
    "\n",
    "import sys\n",
    "import os\n",
    "from pathlib import Path\n",
    "\n",
    "SCRIPT_DIR = Path(os.getcwd()).parent\n",
    "sys.path.append(os.path.dirname(SCRIPT_DIR))"
   ]
  },
  {
   "cell_type": "code",
   "execution_count": null,
   "metadata": {},
   "outputs": [],
   "source": [
    "import numpy as np\n",
    "import matplotlib.pyplot as plt\n",
    "from matplotlib.gridspec import GridSpec\n",
    "\n",
    "from python.fluorophores import FlStatic\n",
    "from python.psfs import PsfVectorial\n",
    "from python.estimators import est_qLSQiter2D\n",
    "from python.simulators import Simulator"
   ]
  },
  {
   "cell_type": "code",
   "execution_count": null,
   "metadata": {},
   "outputs": [],
   "source": [
    "psf_vecph = PsfVectorial()\n",
    "pinholepos = np.arange(0, 500, 100)  # um\n",
    "\n",
    "stdx = np.zeros((len(pinholepos),3))\n",
    "crb1 = np.zeros((len(pinholepos),3))\n",
    "biasx = np.zeros((len(pinholepos),3))\n",
    "rmsex = np.zeros((len(pinholepos),3))\n",
    "phot = np.zeros((len(pinholepos)))"
   ]
  },
  {
   "cell_type": "code",
   "execution_count": null,
   "metadata": {},
   "outputs": [],
   "source": [
    "fl = FlStatic(brightness=1000)  # define a static fluorophore\n",
    "fl.pos = [0, 0, 0]\n",
    "\n",
    "sim = Simulator(fluorophores=fl)\n",
    "\n",
    "numberOfLocalizations=1000\n",
    "\n",
    "# define scan pattern\n",
    "L = 75\n",
    "zeroposx = np.atleast_2d(np.array([-1,1,0])*L/2)\n",
    "probecenter = True  # should we also probe the center?\n",
    "orbitpoints = 6\n",
    "laserpower = 5  # relative, increases brightness\n",
    "pointdwelltime = 0.1  # ms, measurement time in each point\n",
    "repetitions = 1  # how often to repeat the pattern scan\n",
    "\n",
    "sim.defineComponent(\"estdonut\", \"estimator\", est_qLSQiter2D, parameters=[L, probecenter], dim=(0,1))"
   ]
  },
  {
   "cell_type": "code",
   "execution_count": null,
   "metadata": {},
   "outputs": [],
   "source": [
    "psfall = []\n",
    "for k in range(len(pinholepos)):\n",
    "    psf_vecph.setpinhole(AU=1, offset=[pinholepos[k], 0])\n",
    "    sim.definePattern(\"ph_misaligned\", \n",
    "                      psf_vecph, \n",
    "                      phasemask=\"vortex\", \n",
    "                      makepattern=\"orbitscan\", \n",
    "                      orbitpoints=orbitpoints,\n",
    "                      probecenter=probecenter,\n",
    "                      orbitL=L,\n",
    "                      pointdwelltime=0.1,\n",
    "                      laserpower=laserpower,\n",
    "                      repetitions=repetitions)\n",
    "    stack, gridv = psf_vecph.imagestack(\"vortex\")\n",
    "    psfall.append(stack)\n",
    "    seq = [\"ph_misaligned\", \"estdonut\"]\n",
    "    out=sim.runSequence(seq, maxlocs=10000)\n",
    "    sr=sim.summarize_results(out)\n",
    "    stdx[k,:] = sr.std\n",
    "    crb1[k,:] = sr.sCRB1\n",
    "    biasx[k,:] = sr.bias\n",
    "    rmsex[k,:] = sr.rmse\n",
    "    phot[k] = sr.phot\n",
    "\n",
    "zind=2\n",
    "stdxrel=stdx/crb1[0,:]*np.sqrt(phot)[...,None]  # normalized to perfectly aligned phaseplate and photon numbers\n",
    "rmserel=rmsex/crb1[0,:]*np.sqrt(phot)[...,None]  # normalized to perfectly aligned phaseplate and photon numbers\n",
    "crbrel = crb1/crb1[0,:]\n",
    "crb = crb1/np.sqrt(phot)[...,None]\n",
    "\n",
    "psfall = np.stack(psfall,axis=3)  # to array"
   ]
  },
  {
   "cell_type": "code",
   "execution_count": null,
   "metadata": {},
   "outputs": [],
   "source": [
    "fig = plt.figure(figsize=(10,5))\n",
    "gs = GridSpec(2, 3, figure=fig)\n",
    "\n",
    "ax = fig.add_subplot(gs[0,0])\n",
    "ax.plot(pinholepos,stdxrel[:,0].T,'k')\n",
    "ax.plot(pinholepos,stdxrel[:,1].T,'k--')\n",
    "ax.set_xlabel('misalignment of pinhole (nm)')\n",
    "ax.set_ylabel('std / CRB aligned')\n",
    "ax.set_title(\"Standard deviation\")\n",
    "ax.legend([\"x\",\"y\"])\n",
    "ax.set_ylim([0.9,1.1])\n",
    "\n",
    "ax = fig.add_subplot(gs[0,2])\n",
    "ax.plot(pinholepos,biasx[:,0],'k')\n",
    "ax.plot(pinholepos,biasx[:,1],'k--')\n",
    "ax.set_xlabel('misalignment of pinhole (nm)')\n",
    "ax.set_ylabel('bias (nm)')\n",
    "ax.set_title(\"Bias\")\n",
    "ax.set_ylim([-1,1])\n",
    "\n",
    "ax = fig.add_subplot(gs[0,1])\n",
    "ax.plot(pinholepos,rmserel[:,0].T,'k') \n",
    "ax.plot(pinholepos,rmserel[:,1].T,'k--')\n",
    "ax.set_xlabel('misalignment of pinhole (nm)')\n",
    "ax.set_ylabel('rmse / CRB aligned')\n",
    "ax.set_title(\"Root mean square error (rmse)\")\n",
    "ax.set_ylim([0.9,1.1])\n"
   ]
  },
  {
   "cell_type": "code",
   "execution_count": null,
   "metadata": {},
   "outputs": [],
   "source": [
    "indz0 = np.where(gridv[2] >= 0)[0][0].astype(int)\n",
    "for k in range(len(pinholepos)):\n",
    "    if k==0:\n",
    "        psfx = psfall[:,:,indz0,k]\n",
    "    else:\n",
    "        psfx = np.hstack([psfx,psfall[:,:,indz0,k]])\n",
    "ax = fig.add_subplot(gs[1,:])\n",
    "ax.imshow(psfx)\n",
    "ax.axis('off')\n",
    "ax.set_title('misalignment')\n"
   ]
  },
  {
   "cell_type": "code",
   "execution_count": null,
   "metadata": {},
   "outputs": [],
   "source": [
    "fig.tight_layout()"
   ]
  },
  {
   "cell_type": "code",
   "execution_count": null,
   "metadata": {},
   "outputs": [],
   "source": []
  }
 ],
 "metadata": {
  "kernelspec": {
   "display_name": "expansion",
   "language": "python",
   "name": "python3"
  },
  "language_info": {
   "codemirror_mode": {
    "name": "ipython",
    "version": 3
   },
   "file_extension": ".py",
   "mimetype": "text/x-python",
   "name": "python",
   "nbconvert_exporter": "python",
   "pygments_lexer": "ipython3",
   "version": "3.11.10"
  }
 },
 "nbformat": 4,
 "nbformat_minor": 2
}
