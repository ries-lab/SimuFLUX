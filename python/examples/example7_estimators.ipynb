{
 "cells": [
  {
   "cell_type": "code",
   "execution_count": null,
   "metadata": {},
   "outputs": [],
   "source": [
    "%matplotlib widget\n",
    "\n",
    "import sys\n",
    "import os\n",
    "from pathlib import Path\n",
    "\n",
    "SCRIPT_DIR = Path(os.getcwd()).parent\n",
    "sys.path.append(os.path.dirname(SCRIPT_DIR))"
   ]
  },
  {
   "cell_type": "code",
   "execution_count": null,
   "metadata": {},
   "outputs": [],
   "source": [
    "import numpy as np\n",
    "import matplotlib.pyplot as plt\n",
    "\n",
    "from python.fluorophores import FlStatic\n",
    "from python.psfs import PsfVectorial\n",
    "from python.estimators import est_donut2d\n",
    "from python.estimators import est_quad2Diter\n",
    "from python.estimators import est_quadraticdirect1D\n",
    "from python.estimators import est_quadraticdirectnobg1D\n",
    "from python.estimators import est_quadraticdirectbg1D\n",
    "from python.estimators import backgroundsubtractor\n",
    "from python.simulators import Simulator\n",
    "from python.tools import imx"
   ]
  },
  {
   "cell_type": "code",
   "execution_count": null,
   "metadata": {},
   "outputs": [],
   "source": [
    "psf_vec = PsfVectorial()\n",
    "psf_vec.setpinhole(AU=1)"
   ]
  },
  {
   "cell_type": "code",
   "execution_count": null,
   "metadata": {},
   "outputs": [],
   "source": [
    "fl = FlStatic()\n",
    "fl.brightness = 10000  # very bright to look at bias\n",
    "fl.pos = [20, 0, 0]\n",
    "sim = Simulator(fluorophores=fl)"
   ]
  },
  {
   "cell_type": "code",
   "execution_count": null,
   "metadata": {},
   "outputs": [],
   "source": [
    "numberOfLocalizations = 1000\n",
    "L = 75\n",
    "orbitpoints = 4\n",
    "laserpower = 100\n",
    "xcoords = np.arange(0,L*0.75,2)\n",
    "probecenter = True\n",
    "sim.definePattern(\"donut\", psf_vec, \n",
    "                  phasemask=\"vortex\", \n",
    "                  makepattern=\"orbitscan\", \n",
    "                  orbitpoints=orbitpoints,\n",
    "                  probecenter=probecenter,\n",
    "                  orbitL=L,\n",
    "                  laserpower=laserpower)"
   ]
  },
  {
   "cell_type": "markdown",
   "metadata": {},
   "source": [
    "## No background, simple estimator"
   ]
  },
  {
   "cell_type": "code",
   "execution_count": null,
   "metadata": {},
   "outputs": [],
   "source": [
    "ax1v = \"pos\" \n",
    "sim.defineComponent(\"estdonut\", \"estimator\", est_donut2d, parameters=[sim.patterns[\"donut\"].pos, L, 360], dim=(0,1))\n",
    "seq=[\"donut\", \"estdonut\"]\n",
    "psf_vec.zerooffset = 0\n",
    "\n",
    "fig = plt.figure()\n",
    "ax = fig.add_subplot(121)\n",
    "statout = sim.scan_fov(seq, xcoords, maxlocs=numberOfLocalizations, \n",
    "                       display=True, ax1=ax1v, clearfigure=True,\n",
    "                       tag=\"simple est\")"
   ]
  },
  {
   "cell_type": "code",
   "execution_count": null,
   "metadata": {},
   "outputs": [],
   "source": [
    "# iterative\n",
    "sim.defineComponent(\"estiter\", \"estimator\", est_quad2Diter, parameters=[L,probecenter,30], dim=(0,1))\n",
    "seq = [\"donut\", \"estiter\"]\n",
    "statout = sim.scan_fov(seq, xcoords, maxlocs=numberOfLocalizations, \n",
    "                       display=True, ax1=ax1v, clearfigure=False, \n",
    "                       tag=\"iterative est\")"
   ]
  },
  {
   "cell_type": "code",
   "execution_count": null,
   "metadata": {},
   "outputs": [],
   "source": [
    "# no background, direct estimator\n",
    "sim.defineComponent(\"estdirect\", \"estimator\", est_quadraticdirect1D, parameters=[L], dim=0)\n",
    "seq = [\"donut\", \"estdirect\"]\n",
    "statout=sim.scan_fov(seq, xcoords, maxlocs=numberOfLocalizations, \n",
    "                     display=True, ax1=ax1v, clearfigure=False, \n",
    "                     tag=\"direct lsq\", title=\"comparison of estimators\")"
   ]
  },
  {
   "cell_type": "code",
   "execution_count": null,
   "metadata": {},
   "outputs": [],
   "source": [
    "sim.defineComponent(\"estimator2p\", \"estimator\", est_quadraticdirectnobg1D, parameters=[L,probecenter], dim=0)\n",
    "seq = [\"donut\", \"estimator2p\"]\n",
    "statout=sim.scan_fov(seq,xcoords, maxlocs=numberOfLocalizations, \n",
    "                     display=True, ax1=ax1v, clearfigure=False, \n",
    "                     tag=\"direct eq\")"
   ]
  },
  {
   "cell_type": "code",
   "execution_count": null,
   "metadata": {},
   "outputs": [],
   "source": [
    "ax = plt.gca() \n",
    "if ax1v==\"pos\":\n",
    "    ax.plot([0, L],[0, L],'k--')\n",
    "ax.set_ylim(bottom=0)"
   ]
  },
  {
   "cell_type": "markdown",
   "metadata": {},
   "source": [
    "## Explore impact of background on estimator"
   ]
  },
  {
   "cell_type": "code",
   "execution_count": null,
   "metadata": {},
   "outputs": [],
   "source": [
    "# no background\n",
    "fl.brightness = 1000\n",
    "fl.pos = [30, 30, 0]\n",
    "sim.background = 0\n",
    "sim.defineComponent(\"estdonut\", \"estimator\",est_quad2Diter, parameters=[L,probecenter], dim=(0,1))\n",
    "seq = [\"donut\", \"estdonut\"]\n",
    "psf_vec.zerooffset=0\n",
    "\n",
    "ax = plt.subplot(122)\n",
    "statout=sim.scan_fov(seq, xcoords, maxlocs=numberOfLocalizations, \n",
    "                     display=True, ax1=ax1v, tag=\"no bg\")"
   ]
  },
  {
   "cell_type": "code",
   "execution_count": null,
   "metadata": {},
   "outputs": [],
   "source": [
    "# background, \n",
    "sim.background = 50\n",
    "statout = sim.scan_fov(seq, xcoords, maxlocs=numberOfLocalizations, \n",
    "                       display=True, ax1=ax1v, clearfigure=False, tag=\"bg\")"
   ]
  },
  {
   "cell_type": "code",
   "execution_count": null,
   "metadata": {},
   "outputs": [],
   "source": [
    "# background subtracted,\n",
    "sim.background_estimated=sim.background*laserpower  # in general, the GT background is not known but needs to be calibrated \n",
    "\n",
    "sim.defineComponent(\"bg\", \"background\", backgroundsubtractor, parameters=[\"background_estimated\"])\n",
    "seq = [\"donut\", \"bg\", \"estdonut\"]\n",
    "psf_vec.zerooffset = 0\n",
    "statout = sim.scan_fov(seq, xcoords, maxlocs=numberOfLocalizations, \n",
    "                       display=True, ax1=ax1v, clearfigure=False,\n",
    "                       tag=\"bg est\", title=\"estimator bias from background\")"
   ]
  },
  {
   "cell_type": "code",
   "execution_count": null,
   "metadata": {},
   "outputs": [],
   "source": [
    "sim.defineComponent(\"estimatorbg\", \"estimator\", est_quadraticdirectbg1D, parameters=[L], dim=0)\n",
    "seq = [\"donut\", \"estimatorbg\"]\n",
    "statout=sim.scan_fov(seq, xcoords, maxlocs=numberOfLocalizations, \n",
    "                     display=True, ax1=ax1v, clearfigure=False,\n",
    "                     tag=\"bg fit par\", title=\"estimator bias from background\")"
   ]
  },
  {
   "cell_type": "code",
   "execution_count": null,
   "metadata": {},
   "outputs": [],
   "source": [
    "if ax1v==\"pos\":\n",
    "    ax.plot([0, L],[0, L],'k--')"
   ]
  }
 ],
 "metadata": {
  "kernelspec": {
   "display_name": "expansion",
   "language": "python",
   "name": "python3"
  },
  "language_info": {
   "codemirror_mode": {
    "name": "ipython",
    "version": 3
   },
   "file_extension": ".py",
   "mimetype": "text/x-python",
   "name": "python",
   "nbconvert_exporter": "python",
   "pygments_lexer": "ipython3",
   "version": "3.11.10"
  }
 },
 "nbformat": 4,
 "nbformat_minor": 2
}
