{
 "cells": [
  {
   "cell_type": "code",
   "execution_count": null,
   "metadata": {},
   "outputs": [],
   "source": [
    "## RUN THIS CELL IF AND ONLY IF THIS IS OPEN IN GOOGLE COLAB\n",
    "!git clone https://github.com/ries-lab/SimuFLUX.git\n",
    "%cd SimuFLUX/python/examples"
   ]
  },
  {
   "cell_type": "code",
   "execution_count": null,
   "metadata": {},
   "outputs": [],
   "source": [
    "%matplotlib inline\n",
    "\n",
    "import sys\n",
    "import os\n",
    "from pathlib import Path\n",
    "\n",
    "SCRIPT_DIR = Path(os.getcwd()).parent\n",
    "sys.path.append(os.path.dirname(SCRIPT_DIR))"
   ]
  },
  {
   "cell_type": "code",
   "execution_count": null,
   "metadata": {},
   "outputs": [],
   "source": [
    "import numpy as np\n",
    "import matplotlib.pyplot as plt\n",
    "\n",
    "from python.fluorophores import FlStatic\n",
    "from python.psfs import PsfVectorial\n",
    "from python.estimators import est_donutLSQ1_2D\n",
    "from python.estimators import est_qLSQiter2D\n",
    "from python.estimators import est_qDirectFitBg1D\n",
    "from python.estimators import est_qMLE1D\n",
    "from python.estimators import est_GaussLSQ1_2D\n",
    "from python.estimators import backgroundsubtractor\n",
    "from python.simulators import Simulator"
   ]
  },
  {
   "cell_type": "code",
   "execution_count": null,
   "metadata": {},
   "outputs": [],
   "source": [
    "psf_vec = PsfVectorial()\n",
    "psf_vec.setpinhole(AU=1)"
   ]
  },
  {
   "cell_type": "code",
   "execution_count": null,
   "metadata": {},
   "outputs": [],
   "source": [
    "fl = FlStatic()\n",
    "fl.brightness = 10000  # very bright to look at bias\n",
    "fl.pos = [0, 0, 0]\n",
    "sim = Simulator(fluorophores=fl)"
   ]
  },
  {
   "cell_type": "code",
   "execution_count": null,
   "metadata": {},
   "outputs": [],
   "source": [
    "numberOfLocalizations = 1000\n",
    "L = 75\n",
    "orbitpoints = 4\n",
    "laserpower = 100\n",
    "# xcoords = np.arange(0,L*0.75,2)\n",
    "xcoords = np.arange(0,L+5,5)\n",
    "probecenter = True\n",
    "sim.definePattern(\"donut\", psf_vec, \n",
    "                  phasemask=\"vortex\", \n",
    "                  makepattern=\"orbitscan\", \n",
    "                  orbitpoints=orbitpoints,\n",
    "                  probecenter=probecenter,\n",
    "                  orbitL=L,\n",
    "                  laserpower=laserpower)"
   ]
  },
  {
   "cell_type": "markdown",
   "metadata": {},
   "source": [
    "## No background, simple estimator"
   ]
  },
  {
   "cell_type": "code",
   "execution_count": null,
   "metadata": {},
   "outputs": [],
   "source": [
    "ax1v = \"pos\" \n",
    "sim.defineComponent(\"estdonut\", \"estimator\", est_donutLSQ1_2D, parameters=[sim.patterns[\"donut\"].pos, L, 360], dim=(0,1))\n",
    "seq=[\"donut\", \"estdonut\"]\n",
    "psf_vec.zerooffset = 0\n",
    "\n",
    "fig = plt.figure()\n",
    "ax = fig.add_subplot(121)\n",
    "statout = sim.scan_fov(seq, xcoords, maxlocs=numberOfLocalizations, \n",
    "                       display=True, ax1=ax1v, clearfigure=True,\n",
    "                       tag=\"simple est\")\n",
    "phottxt = f\"photons. Simple: {statout.phot[0]}\""
   ]
  },
  {
   "cell_type": "code",
   "execution_count": null,
   "metadata": {},
   "outputs": [],
   "source": [
    "# iterative\n",
    "sim.defineComponent(\"estiter\", \"estimator\", est_qLSQiter2D, parameters=[L,probecenter,20], dim=(0,1))\n",
    "seq = [\"donut\", \"estiter\"]\n",
    "statout = sim.scan_fov(seq, xcoords, maxlocs=numberOfLocalizations, \n",
    "                       display=True, ax1=ax1v, clearfigure=False, \n",
    "                       tag=\"iterative est\")\n",
    "phottxt += f\", iter: {statout.phot[0]}\""
   ]
  },
  {
   "cell_type": "code",
   "execution_count": null,
   "metadata": {},
   "outputs": [],
   "source": [
    "sim.defineComponent(\"estimator2p\", \"estimator\", est_qDirectFitBg1D, parameters=[L,probecenter], dim=0)\n",
    "seq = [\"donut\", \"estimator2p\"]\n",
    "statout=sim.scan_fov(seq, xcoords, maxlocs=numberOfLocalizations, \n",
    "                     display=True, ax1=ax1v, clearfigure=False, \n",
    "                     tag=\"direct eq\")\n",
    "phottxt += f\", direct: {statout.phot[0]}\""
   ]
  },
  {
   "cell_type": "code",
   "execution_count": null,
   "metadata": {},
   "outputs": [],
   "source": [
    "sim.defineComponent(\"estimatorMLE\", \"estimator\", est_qMLE1D, parameters=[L], dim=0)\n",
    "seq = [\"donut\", \"estimatorMLE\"]\n",
    "statout=sim.scan_fov(seq, xcoords, maxlocs=numberOfLocalizations, \n",
    "                     display=True, ax1=ax1v, clearfigure=False, \n",
    "                     tag=\"MLE\")\n",
    "phottxt += f\", MLE: {statout.phot[0]}\""
   ]
  },
  {
   "cell_type": "code",
   "execution_count": null,
   "metadata": {},
   "outputs": [],
   "source": [
    "LG = L*2\n",
    "sim.definePattern(\"gauss\", psf_vec, \n",
    "                  phasemask=\"flat\", \n",
    "                  makepattern=\"orbitscan\", \n",
    "                  orbitpoints=orbitpoints,\n",
    "                  probecenter=probecenter,\n",
    "                  orbitL=LG,\n",
    "                  laserpower=laserpower)\n",
    "\n",
    "sim.defineComponent(\"estimatorGauss\", \"estimator\", est_GaussLSQ1_2D, parameters=[sim.patterns[\"gauss\"].pos, LG, 110, probecenter], dim=0)\n",
    "seq = [\"donut\", \"estimatorGauss\"]\n",
    "statout=sim.scan_fov(seq, xcoords, maxlocs=numberOfLocalizations, \n",
    "                     display=True, ax1=ax1v, clearfigure=False, \n",
    "                     tag=\"Gauss\")\n",
    "phottxt += f\", Gauss: {statout.phot[0]}\""
   ]
  },
  {
   "cell_type": "code",
   "execution_count": null,
   "metadata": {},
   "outputs": [],
   "source": [
    "fig.suptitle(phottxt)\n",
    "ax = plt.gca() \n",
    "if ax1v==\"pos\":\n",
    "    ax.plot([0, L],[0, L],'k--')\n",
    "ax.set_ylim([0, 65])\n",
    "ax.set_xlim(right=L*0.75)"
   ]
  },
  {
   "cell_type": "code",
   "execution_count": null,
   "metadata": {},
   "outputs": [],
   "source": [
    "fig.tight_layout()"
   ]
  },
  {
   "cell_type": "markdown",
   "metadata": {},
   "source": [
    "## Explore impact of background on estimator"
   ]
  },
  {
   "cell_type": "code",
   "execution_count": null,
   "metadata": {},
   "outputs": [],
   "source": [
    "# no background\n",
    "fl.brightness = 2000\n",
    "fl.pos = [0, 0, 0]\n",
    "sim.background = 0\n",
    "sim.defineComponent(\"estdonut\", \"estimator\",est_qLSQiter2D, parameters=[L,probecenter], dim=(0,1))\n",
    "seq = [\"donut\", \"estdonut\"]\n",
    "psf_vec.zerooffset=0\n",
    "\n",
    "ax = plt.subplot(122)\n",
    "statout=sim.scan_fov(seq, xcoords, maxlocs=numberOfLocalizations, \n",
    "                     display=True, ax1=ax1v, tag=\"no bg\")\n",
    "photons = statout.phot[0]"
   ]
  },
  {
   "cell_type": "code",
   "execution_count": null,
   "metadata": {},
   "outputs": [],
   "source": [
    "# background, \n",
    "sim.background = fl.brightness/20\n",
    "statout = sim.scan_fov(seq, xcoords, maxlocs=numberOfLocalizations, \n",
    "                       display=True, ax1=ax1v, clearfigure=False, tag=\"bg\")\n",
    "photonsbg = statout.phot[0]"
   ]
  },
  {
   "cell_type": "code",
   "execution_count": null,
   "metadata": {},
   "outputs": [],
   "source": [
    "# background subtracted,\n",
    "sim.background_estimated=sim.background*laserpower  # in general, the GT background is not known but needs to be calibrated \n",
    "\n",
    "sim.defineComponent(\"bg\", \"background\", backgroundsubtractor, parameters=[\"background_estimated\"])\n",
    "seq = [\"donut\", \"bg\", \"estdonut\"]\n",
    "psf_vec.zerooffset = 0\n",
    "statout = sim.scan_fov(seq, xcoords, maxlocs=numberOfLocalizations, \n",
    "                       display=True, ax1=ax1v, clearfigure=False,\n",
    "                       tag=\"bg est\", title=\"estimator bias from background\")"
   ]
  },
  {
   "cell_type": "code",
   "execution_count": null,
   "metadata": {},
   "outputs": [],
   "source": [
    "sim.background_estimated = 0\n",
    "sim.defineComponent(\"estimatorbg\", \"estimator\", est_qDirectFitBg1D, parameters=[L], dim=0)\n",
    "seq = [\"donut\", \"estimatorbg\"]\n",
    "statout=sim.scan_fov(seq, xcoords, maxlocs=numberOfLocalizations, \n",
    "                     display=True, ax1=ax1v, clearfigure=False,\n",
    "                     tag=\"bg fit par\", title=\"estimator bias from background\")"
   ]
  },
  {
   "cell_type": "code",
   "execution_count": null,
   "metadata": {},
   "outputs": [],
   "source": [
    "if ax1v==\"pos\":\n",
    "    ax.plot([0, L],[0, L],'k--')\n",
    "ax.set_ylim([0, 65])\n",
    "ax.set_xlim(right=L*0.75)"
   ]
  },
  {
   "cell_type": "markdown",
   "metadata": {},
   "source": [
    "## Convergence of the iterative estimator"
   ]
  },
  {
   "cell_type": "code",
   "execution_count": null,
   "metadata": {},
   "outputs": [],
   "source": [
    "fig = plt.figure()\n",
    "ax = fig.add_subplot(111)\n",
    "xcoords = np.arange(0,L+5,5)\n",
    "iters = [1, 2, 3, 4, 5, 6, 7, 8, 10, 15, 20, 30, 50]\n",
    "\n",
    "sim.background = 0\n",
    "sim.background_estimated = 0\n",
    "for it in iters:\n",
    "    sim.defineComponent(\"estiter\", \"estimator\", est_qLSQiter2D, parameters=[L,probecenter,it], dim=(0,1))\n",
    "    seq = [\"donut\", \"estiter\"]\n",
    "    statout=sim.scan_fov(seq, xcoords, maxlocs=numberOfLocalizations, \n",
    "                         display=True, ax1=ax1v, clearfigure=False, tag=f\"iterations: {it}\")\n",
    "statout.phot\n",
    "ax.plot([0, L],[0, L],'k--')\n",
    "ax.set_ylim(bottom=0)\n",
    "fig.tight_layout()"
   ]
  },
  {
   "cell_type": "code",
   "execution_count": null,
   "metadata": {},
   "outputs": [],
   "source": []
  }
 ],
 "metadata": {
  "kernelspec": {
   "display_name": "expansion",
   "language": "python",
   "name": "python3"
  },
  "language_info": {
   "codemirror_mode": {
    "name": "ipython",
    "version": 3
   },
   "file_extension": ".py",
   "mimetype": "text/x-python",
   "name": "python",
   "nbconvert_exporter": "python",
   "pygments_lexer": "ipython3",
   "version": "3.11.10"
  }
 },
 "nbformat": 4,
 "nbformat_minor": 2
}
