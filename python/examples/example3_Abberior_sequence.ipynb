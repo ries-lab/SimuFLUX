{
 "cells": [
  {
   "cell_type": "code",
   "execution_count": null,
   "metadata": {},
   "outputs": [],
   "source": [
    "%matplotlib widget\n",
    "\n",
    "import sys\n",
    "import os\n",
    "from pathlib import Path\n",
    "\n",
    "SCRIPT_DIR = Path(os.getcwd()).parent\n",
    "sys.path.append(os.path.dirname(SCRIPT_DIR))"
   ]
  },
  {
   "cell_type": "code",
   "execution_count": null,
   "metadata": {},
   "outputs": [],
   "source": [
    "import matplotlib.pyplot as plt\n",
    "\n",
    "from python.fluorophores import FlBleach\n",
    "from python.simulators import SimSequencefile"
   ]
  },
  {
   "cell_type": "code",
   "execution_count": null,
   "metadata": {},
   "outputs": [],
   "source": [
    "sim = SimSequencefile()\n",
    "sim.posgalvo = [0, 0, 0]\n",
    "sim.posEOD = [0, 0, 0]\n",
    "\n",
    "laserpower = 1\n",
    "fl = FlBleach()  # define a bleaching fluorophore\n",
    "fl.photonbudget = 200000\n",
    "fl.pos = [200, 50, 0]\n",
    "fl.brightness = 300  # kHz \n",
    "sim.fluorophores = fl\n",
    "sim.background = 0  # a background that is not matched with a proper estimate leads to 'tails'\n",
    "sim.background_estimated = 0  # a similar result is obtained when no background is present but \n",
    "                              # the background is underestimatedd (negative background estimate). \n",
    "                              # This leads to a bias in the estimator and appearance of \"tails\"\n",
    "                              # over-estimation of background leads to instabilities"
   ]
  },
  {
   "cell_type": "code",
   "execution_count": null,
   "metadata": {},
   "outputs": [],
   "source": [
    "fname = os.path.join(SCRIPT_DIR, \"examples\", \"Tracking_2D.json\")\n",
    "fname2 = os.path.join(SCRIPT_DIR, \"settings\", \"PSFvectorial2D.json\") # use a PSF that is defined via a json file\n",
    "sim.loadsequence(fname, fname2)"
   ]
  },
  {
   "cell_type": "code",
   "execution_count": null,
   "metadata": {},
   "outputs": [],
   "source": [
    "# test different confounding factors, otherwise comment out:\n",
    "sim.psfvec.setpar(**{'beadradius': 0*50e-9})  # in m can also lead to tails. Set to zero if no bead used\n",
    "sim.sequence['locLimit'] = 100  # only track for 1000 localizations\n",
    "sim.makepatterns()\n",
    "out = sim.runSequence(repetitions=1)"
   ]
  },
  {
   "cell_type": "code",
   "execution_count": null,
   "metadata": {},
   "outputs": [],
   "source": [
    "plt.figure()\n",
    "plt.plot(out.loc.loccounter, out.loc.xnm)\n",
    "plt.plot(out.loc.loccounter, out.loc.xfl1)\n",
    "plt.plot(out.loc.loccounter, out.loc.xgalvo)\n",
    "plt.plot(out.loc.loccounter, out.loc.xeod)\n",
    "plt.xlabel('time (itr)')\n",
    "plt.ylabel('x position(nm)')\n",
    "plt.legend(['estimated', 'fluorophore','xgalvo','EOD'])\n",
    "indf = (out.loc.itr==max(out.loc.itr)) & (out.loc.vld==1)\n",
    "sim.summarize_results(out, filter=indf.squeeze())  # display summary of simulation"
   ]
  },
  {
   "cell_type": "code",
   "execution_count": null,
   "metadata": {},
   "outputs": [],
   "source": []
  }
 ],
 "metadata": {
  "kernelspec": {
   "display_name": "expansion",
   "language": "python",
   "name": "python3"
  },
  "language_info": {
   "codemirror_mode": {
    "name": "ipython",
    "version": 3
   },
   "file_extension": ".py",
   "mimetype": "text/x-python",
   "name": "python",
   "nbconvert_exporter": "python",
   "pygments_lexer": "ipython3",
   "version": "3.11.10"
  }
 },
 "nbformat": 4,
 "nbformat_minor": 2
}
