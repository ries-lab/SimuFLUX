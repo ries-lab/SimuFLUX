{
 "cells": [
  {
   "cell_type": "code",
   "execution_count": 1,
   "metadata": {},
   "outputs": [],
   "source": [
    "%matplotlib widget\n",
    "\n",
    "import sys\n",
    "import os\n",
    "from pathlib import Path\n",
    "\n",
    "SCRIPT_DIR = Path(os.getcwd()).parent\n",
    "sys.path.append(os.path.dirname(SCRIPT_DIR))"
   ]
  },
  {
   "cell_type": "code",
   "execution_count": null,
   "metadata": {},
   "outputs": [],
   "source": [
    "import numpy as np\n",
    "import matplotlib.pyplot as plt\n",
    "\n",
    "from python.fluorophores import FlStatic\n",
    "from python.fluorophores import FlMoving\n",
    "from python.fluorophores import FlCollectionBlinking\n",
    "from python.psfs import PsfVectorial\n",
    "from python.estimators import est_quad2Diter\n",
    "from python.simulators import Simulator\n",
    "from python.simulators import SimSequencefile\n",
    "from python.tools import makeNPC"
   ]
  },
  {
   "cell_type": "markdown",
   "metadata": {},
   "source": [
    "## Imaging of DNA-PAINT (static fluorophores + diffusive background) "
   ]
  },
  {
   "cell_type": "code",
   "execution_count": 4,
   "metadata": {},
   "outputs": [
    {
     "name": "stdout",
     "output_type": "stream",
     "text": [
      "pinhole63300, vortex0, "
     ]
    },
    {
     "ename": "KeyboardInterrupt",
     "evalue": "",
     "output_type": "error",
     "traceback": [
      "\u001b[0;31m---------------------------------------------------------------------------\u001b[0m",
      "\u001b[0;31mKeyboardInterrupt\u001b[0m                         Traceback (most recent call last)",
      "Cell \u001b[0;32mIn[4], line 18\u001b[0m\n\u001b[1;32m     15\u001b[0m fc\u001b[38;5;241m.\u001b[39madd([fs, fd]);\n\u001b[1;32m     16\u001b[0m sim1\u001b[38;5;241m=\u001b[39mSimulator(fluorophores\u001b[38;5;241m=\u001b[39mfc)\n\u001b[0;32m---> 18\u001b[0m \u001b[43msim1\u001b[49m\u001b[38;5;241;43m.\u001b[39;49m\u001b[43mdefinePattern\u001b[49m\u001b[43m(\u001b[49m\u001b[38;5;124;43m\"\u001b[39;49m\u001b[38;5;124;43mdonut\u001b[39;49m\u001b[38;5;124;43m\"\u001b[39;49m\u001b[43m,\u001b[49m\u001b[43m \u001b[49m\u001b[43mpsf_vec\u001b[49m\u001b[43m,\u001b[49m\u001b[43m \u001b[49m\n\u001b[1;32m     19\u001b[0m \u001b[43m                   \u001b[49m\u001b[43mphasemask\u001b[49m\u001b[38;5;241;43m=\u001b[39;49m\u001b[38;5;124;43m\"\u001b[39;49m\u001b[38;5;124;43mvortex\u001b[39;49m\u001b[38;5;124;43m\"\u001b[39;49m\u001b[43m,\u001b[49m\u001b[43m \u001b[49m\n\u001b[1;32m     20\u001b[0m \u001b[43m                   \u001b[49m\u001b[43mmakepattern\u001b[49m\u001b[38;5;241;43m=\u001b[39;49m\u001b[38;5;124;43m\"\u001b[39;49m\u001b[38;5;124;43morbitscan\u001b[39;49m\u001b[38;5;124;43m\"\u001b[39;49m\u001b[43m,\u001b[49m\u001b[43m \u001b[49m\n\u001b[1;32m     21\u001b[0m \u001b[43m                   \u001b[49m\u001b[43morbitpoints\u001b[49m\u001b[38;5;241;43m=\u001b[39;49m\u001b[38;5;241;43m4\u001b[39;49m\u001b[43m,\u001b[49m\n\u001b[1;32m     22\u001b[0m \u001b[43m                   \u001b[49m\u001b[43mprobecenter\u001b[49m\u001b[38;5;241;43m=\u001b[39;49m\u001b[38;5;28;43;01mTrue\u001b[39;49;00m\u001b[43m,\u001b[49m\n\u001b[1;32m     23\u001b[0m \u001b[43m                   \u001b[49m\u001b[43morbitL\u001b[49m\u001b[38;5;241;43m=\u001b[39;49m\u001b[43mL\u001b[49m\u001b[43m,\u001b[49m\n\u001b[1;32m     24\u001b[0m \u001b[43m                   \u001b[49m\u001b[43mpointdwelltime\u001b[49m\u001b[38;5;241;43m=\u001b[39;49m\u001b[38;5;241;43m0.1\u001b[39;49m\u001b[43m,\u001b[49m\n\u001b[1;32m     25\u001b[0m \u001b[43m                   \u001b[49m\u001b[43mlaserpower\u001b[49m\u001b[38;5;241;43m=\u001b[39;49m\u001b[38;5;241;43m1\u001b[39;49m\u001b[43m,\u001b[49m\n\u001b[1;32m     26\u001b[0m \u001b[43m                   \u001b[49m\u001b[43mrepetitions\u001b[49m\u001b[38;5;241;43m=\u001b[39;49m\u001b[38;5;241;43m1\u001b[39;49m\u001b[43m)\u001b[49m\n\u001b[1;32m     27\u001b[0m fwhm\u001b[38;5;241m=\u001b[39m\u001b[38;5;241m360\u001b[39m  \u001b[38;5;66;03m# size of the donut, needed for proper estimation. \u001b[39;00m\n\u001b[1;32m     28\u001b[0m sim1\u001b[38;5;241m.\u001b[39mdefineComponent(\u001b[38;5;124m\"\u001b[39m\u001b[38;5;124mestdonut\u001b[39m\u001b[38;5;124m\"\u001b[39m, \u001b[38;5;124m\"\u001b[39m\u001b[38;5;124mestimator\u001b[39m\u001b[38;5;124m\"\u001b[39m, est_quad2Diter, parameters\u001b[38;5;241m=\u001b[39m[L,\u001b[38;5;28;01mTrue\u001b[39;00m], dim\u001b[38;5;241m=\u001b[39m(\u001b[38;5;241m0\u001b[39m,\u001b[38;5;241m1\u001b[39m))\n",
      "File \u001b[0;32m~/Code/SimulFLUX/python/simulators/simulator.py:210\u001b[0m, in \u001b[0;36mSimulator.definePattern\u001b[0;34m(self, key, psf, **kwargs)\u001b[0m\n\u001b[1;32m    208\u001b[0m     pattern\u001b[38;5;241m.\u001b[39mpsf\u001b[38;5;241m.\u001b[39mappend(psf)\n\u001b[1;32m    209\u001b[0m     pattern\u001b[38;5;241m.\u001b[39mphasemask\u001b[38;5;241m.\u001b[39mappend(phasemask)\n\u001b[0;32m--> 210\u001b[0m     \u001b[43mpattern\u001b[49m\u001b[38;5;241;43m.\u001b[39;49m\u001b[43mpsf\u001b[49m\u001b[43m[\u001b[49m\u001b[43mk\u001b[49m\u001b[43m]\u001b[49m\u001b[38;5;241;43m.\u001b[39;49m\u001b[43mcalculatePSFs\u001b[49m\u001b[43m(\u001b[49m\u001b[43mphasemask\u001b[49m\u001b[43m,\u001b[49m\u001b[43m \u001b[49m\u001b[43mpattern\u001b[49m\u001b[38;5;241;43m.\u001b[39;49m\u001b[43mzeropos\u001b[49m\u001b[43m[\u001b[49m\u001b[43m:\u001b[49m\u001b[43m,\u001b[49m\u001b[43mk\u001b[49m\u001b[43m]\u001b[49m\u001b[43m)\u001b[49m\n\u001b[1;32m    211\u001b[0m     pattern\u001b[38;5;241m.\u001b[39mlaserpower\u001b[38;5;241m.\u001b[39mappend(kwargs\u001b[38;5;241m.\u001b[39mget(\u001b[38;5;124m\"\u001b[39m\u001b[38;5;124mlaserpower\u001b[39m\u001b[38;5;124m\"\u001b[39m, \u001b[38;5;241m1\u001b[39m))\n\u001b[1;32m    213\u001b[0m pdt \u001b[38;5;241m=\u001b[39m kwargs\u001b[38;5;241m.\u001b[39mget(\u001b[38;5;124m\"\u001b[39m\u001b[38;5;124mpointdwelltime\u001b[39m\u001b[38;5;124m\"\u001b[39m, [\u001b[38;5;241m0.01\u001b[39m])\n",
      "File \u001b[0;32m~/Code/SimulFLUX/python/psfs/psf_vectorial.py:286\u001b[0m, in \u001b[0;36mPsfVectorial.calculatePSFs\u001b[0;34m(self, phasepattern, Lxs, forcecalculation)\u001b[0m\n\u001b[1;32m    284\u001b[0m     xx, yy, zz \u001b[38;5;241m=\u001b[39m range4PSF(PSF, out[\u001b[38;5;124m'\u001b[39m\u001b[38;5;124mdr\u001b[39m\u001b[38;5;124m'\u001b[39m], out[\u001b[38;5;124m'\u001b[39m\u001b[38;5;124mdz\u001b[39m\u001b[38;5;124m'\u001b[39m])\n\u001b[1;32m    285\u001b[0m     \u001b[38;5;66;03m# print(xx.shape, yy.shape, zz.shape, PSF.shape, PSF.dtype, np.sum(np.isnan(PSF)))\u001b[39;00m\n\u001b[0;32m--> 286\u001b[0m     PSFdonut\u001b[38;5;241m.\u001b[39minterp \u001b[38;5;241m=\u001b[39m \u001b[43mRegularGridInterpolator\u001b[49m\u001b[43m(\u001b[49m\u001b[43m(\u001b[49m\u001b[43mxx\u001b[49m\u001b[43m,\u001b[49m\u001b[43m \u001b[49m\u001b[43myy\u001b[49m\u001b[43m,\u001b[49m\u001b[43m \u001b[49m\u001b[43mzz\u001b[49m\u001b[43m)\u001b[49m\u001b[43m,\u001b[49m\u001b[43m \u001b[49m\n\u001b[1;32m    287\u001b[0m \u001b[43m                                              \u001b[49m\u001b[43mPSF\u001b[49m\u001b[43m,\u001b[49m\u001b[43m \u001b[49m\n\u001b[1;32m    288\u001b[0m \u001b[43m                                              \u001b[49m\u001b[43mmethod\u001b[49m\u001b[43m \u001b[49m\u001b[38;5;241;43m=\u001b[39;49m\u001b[43m \u001b[49m\u001b[43mintmethod\u001b[49m\u001b[43m,\u001b[49m\u001b[43m \u001b[49m\n\u001b[1;32m    289\u001b[0m \u001b[43m                                              \u001b[49m\u001b[43mbounds_error\u001b[49m\u001b[43m \u001b[49m\u001b[38;5;241;43m=\u001b[39;49m\u001b[43m \u001b[49m\u001b[43mbounds_error\u001b[49m\u001b[43m,\u001b[49m\n\u001b[1;32m    290\u001b[0m \u001b[43m                                              \u001b[49m\u001b[43mfill_value\u001b[49m\u001b[43m \u001b[49m\u001b[38;5;241;43m=\u001b[39;49m\u001b[43m \u001b[49m\u001b[43mextraolation_method\u001b[49m\u001b[43m)\u001b[49m\n\u001b[1;32m    291\u001b[0m     \u001b[38;5;28mself\u001b[39m\u001b[38;5;241m.\u001b[39mPSFs[key] \u001b[38;5;241m=\u001b[39m PSFdonut\n\u001b[1;32m    292\u001b[0m \u001b[38;5;28;01melse\u001b[39;00m:\n",
      "File \u001b[0;32m~/miniforge3/envs/expansion/lib/python3.11/site-packages/scipy/interpolate/_rgi.py:290\u001b[0m, in \u001b[0;36mRegularGridInterpolator.__init__\u001b[0;34m(self, points, values, method, bounds_error, fill_value, solver, solver_args)\u001b[0m\n\u001b[1;32m    288\u001b[0m     \u001b[38;5;28;01mif\u001b[39;00m solver_args \u001b[38;5;129;01mis\u001b[39;00m \u001b[38;5;28;01mNone\u001b[39;00m:\n\u001b[1;32m    289\u001b[0m         solver_args \u001b[38;5;241m=\u001b[39m {}\n\u001b[0;32m--> 290\u001b[0m     \u001b[38;5;28mself\u001b[39m\u001b[38;5;241m.\u001b[39m_spline \u001b[38;5;241m=\u001b[39m \u001b[38;5;28;43mself\u001b[39;49m\u001b[38;5;241;43m.\u001b[39;49m\u001b[43m_construct_spline\u001b[49m\u001b[43m(\u001b[49m\u001b[43mmethod\u001b[49m\u001b[43m,\u001b[49m\u001b[43m \u001b[49m\u001b[43msolver\u001b[49m\u001b[43m,\u001b[49m\u001b[43m \u001b[49m\u001b[38;5;241;43m*\u001b[39;49m\u001b[38;5;241;43m*\u001b[39;49m\u001b[43msolver_args\u001b[49m\u001b[43m)\u001b[49m\n\u001b[1;32m    291\u001b[0m \u001b[38;5;28;01melse\u001b[39;00m:\n\u001b[1;32m    292\u001b[0m     \u001b[38;5;28;01mif\u001b[39;00m solver \u001b[38;5;129;01mis\u001b[39;00m \u001b[38;5;129;01mnot\u001b[39;00m \u001b[38;5;28;01mNone\u001b[39;00m \u001b[38;5;129;01mor\u001b[39;00m solver_args:\n",
      "File \u001b[0;32m~/miniforge3/envs/expansion/lib/python3.11/site-packages/scipy/interpolate/_rgi.py:301\u001b[0m, in \u001b[0;36mRegularGridInterpolator._construct_spline\u001b[0;34m(self, method, solver, **solver_args)\u001b[0m\n\u001b[1;32m    299\u001b[0m \u001b[38;5;28;01mif\u001b[39;00m solver \u001b[38;5;129;01mis\u001b[39;00m \u001b[38;5;28;01mNone\u001b[39;00m:\n\u001b[1;32m    300\u001b[0m     solver \u001b[38;5;241m=\u001b[39m ssl\u001b[38;5;241m.\u001b[39mgcrotmk\n\u001b[0;32m--> 301\u001b[0m spl \u001b[38;5;241m=\u001b[39m \u001b[43mmake_ndbspl\u001b[49m\u001b[43m(\u001b[49m\n\u001b[1;32m    302\u001b[0m \u001b[43m        \u001b[49m\u001b[38;5;28;43mself\u001b[39;49m\u001b[38;5;241;43m.\u001b[39;49m\u001b[43mgrid\u001b[49m\u001b[43m,\u001b[49m\u001b[43m \u001b[49m\u001b[38;5;28;43mself\u001b[39;49m\u001b[38;5;241;43m.\u001b[39;49m\u001b[43mvalues\u001b[49m\u001b[43m,\u001b[49m\u001b[43m \u001b[49m\u001b[38;5;28;43mself\u001b[39;49m\u001b[38;5;241;43m.\u001b[39;49m\u001b[43m_SPLINE_DEGREE_MAP\u001b[49m\u001b[43m[\u001b[49m\u001b[43mmethod\u001b[49m\u001b[43m]\u001b[49m\u001b[43m,\u001b[49m\n\u001b[1;32m    303\u001b[0m \u001b[43m        \u001b[49m\u001b[43msolver\u001b[49m\u001b[38;5;241;43m=\u001b[39;49m\u001b[43msolver\u001b[49m\u001b[43m,\u001b[49m\u001b[43m \u001b[49m\u001b[38;5;241;43m*\u001b[39;49m\u001b[38;5;241;43m*\u001b[39;49m\u001b[43msolver_args\u001b[49m\n\u001b[1;32m    304\u001b[0m \u001b[43m      \u001b[49m\u001b[43m)\u001b[49m\n\u001b[1;32m    305\u001b[0m \u001b[38;5;28;01mreturn\u001b[39;00m spl\n",
      "File \u001b[0;32m~/miniforge3/envs/expansion/lib/python3.11/site-packages/scipy/interpolate/_ndbspline.py:417\u001b[0m, in \u001b[0;36mmake_ndbspl\u001b[0;34m(points, values, k, solver, **solver_args)\u001b[0m\n\u001b[1;32m    413\u001b[0m     \u001b[38;5;28;01mif\u001b[39;00m \u001b[38;5;124m\"\u001b[39m\u001b[38;5;124matol\u001b[39m\u001b[38;5;124m\"\u001b[39m \u001b[38;5;129;01mnot\u001b[39;00m \u001b[38;5;129;01min\u001b[39;00m solver_args:\n\u001b[1;32m    414\u001b[0m         \u001b[38;5;66;03m# avoid a DeprecationWarning, grumble grumble\u001b[39;00m\n\u001b[1;32m    415\u001b[0m         solver_args[\u001b[38;5;124m\"\u001b[39m\u001b[38;5;124matol\u001b[39m\u001b[38;5;124m\"\u001b[39m] \u001b[38;5;241m=\u001b[39m \u001b[38;5;241m1e-6\u001b[39m\n\u001b[0;32m--> 417\u001b[0m coef \u001b[38;5;241m=\u001b[39m \u001b[43msolver\u001b[49m\u001b[43m(\u001b[49m\u001b[43mmatr\u001b[49m\u001b[43m,\u001b[49m\u001b[43m \u001b[49m\u001b[43mvals\u001b[49m\u001b[43m,\u001b[49m\u001b[43m \u001b[49m\u001b[38;5;241;43m*\u001b[39;49m\u001b[38;5;241;43m*\u001b[39;49m\u001b[43msolver_args\u001b[49m\u001b[43m)\u001b[49m\n\u001b[1;32m    418\u001b[0m coef \u001b[38;5;241m=\u001b[39m coef\u001b[38;5;241m.\u001b[39mreshape(xi_shape \u001b[38;5;241m+\u001b[39m v_shape[ndim:])\n\u001b[1;32m    419\u001b[0m \u001b[38;5;28;01mreturn\u001b[39;00m NdBSpline(t, coef, k)\n",
      "File \u001b[0;32m~/miniforge3/envs/expansion/lib/python3.11/site-packages/scipy/interpolate/_ndbspline.py:344\u001b[0m, in \u001b[0;36m_iter_solve\u001b[0;34m(a, b, solver, **solver_args)\u001b[0m\n\u001b[1;32m    342\u001b[0m     \u001b[38;5;28;01mreturn\u001b[39;00m res\n\u001b[1;32m    343\u001b[0m \u001b[38;5;28;01melse\u001b[39;00m:\n\u001b[0;32m--> 344\u001b[0m     res, info \u001b[38;5;241m=\u001b[39m \u001b[43msolver\u001b[49m\u001b[43m(\u001b[49m\u001b[43ma\u001b[49m\u001b[43m,\u001b[49m\u001b[43m \u001b[49m\u001b[43mb\u001b[49m\u001b[43m,\u001b[49m\u001b[43m \u001b[49m\u001b[38;5;241;43m*\u001b[39;49m\u001b[38;5;241;43m*\u001b[39;49m\u001b[43msolver_args\u001b[49m\u001b[43m)\u001b[49m\n\u001b[1;32m    345\u001b[0m     \u001b[38;5;28;01mif\u001b[39;00m info \u001b[38;5;241m!=\u001b[39m \u001b[38;5;241m0\u001b[39m:\n\u001b[1;32m    346\u001b[0m         \u001b[38;5;28;01mraise\u001b[39;00m \u001b[38;5;167;01mValueError\u001b[39;00m(\u001b[38;5;124mf\u001b[39m\u001b[38;5;124m\"\u001b[39m\u001b[38;5;132;01m{\u001b[39;00msolver\u001b[38;5;250m \u001b[39m\u001b[38;5;132;01m= }\u001b[39;00m\u001b[38;5;124m returns \u001b[39m\u001b[38;5;132;01m{\u001b[39;00minfo\u001b[38;5;250m \u001b[39m\u001b[38;5;132;01m= }\u001b[39;00m\u001b[38;5;124m.\u001b[39m\u001b[38;5;124m\"\u001b[39m)\n",
      "File \u001b[0;32m~/miniforge3/envs/expansion/lib/python3.11/site-packages/scipy/sparse/linalg/_isolve/_gcrotmk.py:383\u001b[0m, in \u001b[0;36mgcrotmk\u001b[0;34m(A, b, x0, rtol, atol, maxiter, M, callback, m, k, CU, discard_C, truncate)\u001b[0m\n\u001b[1;32m    379\u001b[0m beta_tol \u001b[38;5;241m=\u001b[39m \u001b[38;5;28mmax\u001b[39m(atol, rtol \u001b[38;5;241m*\u001b[39m b_norm)\n\u001b[1;32m    381\u001b[0m \u001b[38;5;28;01mif\u001b[39;00m beta \u001b[38;5;241m<\u001b[39m\u001b[38;5;241m=\u001b[39m beta_tol \u001b[38;5;129;01mand\u001b[39;00m (j_outer \u001b[38;5;241m>\u001b[39m \u001b[38;5;241m0\u001b[39m \u001b[38;5;129;01mor\u001b[39;00m CU):\n\u001b[1;32m    382\u001b[0m     \u001b[38;5;66;03m# recompute residual to avoid rounding error\u001b[39;00m\n\u001b[0;32m--> 383\u001b[0m     r \u001b[38;5;241m=\u001b[39m b \u001b[38;5;241m-\u001b[39m \u001b[43mmatvec\u001b[49m\u001b[43m(\u001b[49m\u001b[43mx\u001b[49m\u001b[43m)\u001b[49m\n\u001b[1;32m    384\u001b[0m     beta \u001b[38;5;241m=\u001b[39m nrm2(r)\n\u001b[1;32m    386\u001b[0m \u001b[38;5;28;01mif\u001b[39;00m beta \u001b[38;5;241m<\u001b[39m\u001b[38;5;241m=\u001b[39m beta_tol:\n",
      "File \u001b[0;32m~/miniforge3/envs/expansion/lib/python3.11/site-packages/scipy/sparse/linalg/_interface.py:258\u001b[0m, in \u001b[0;36mLinearOperator.matvec\u001b[0;34m(self, x)\u001b[0m\n\u001b[1;32m    255\u001b[0m \u001b[38;5;28;01mif\u001b[39;00m x\u001b[38;5;241m.\u001b[39mshape \u001b[38;5;241m!=\u001b[39m (N,) \u001b[38;5;129;01mand\u001b[39;00m x\u001b[38;5;241m.\u001b[39mshape \u001b[38;5;241m!=\u001b[39m (N,\u001b[38;5;241m1\u001b[39m):\n\u001b[1;32m    256\u001b[0m     \u001b[38;5;28;01mraise\u001b[39;00m \u001b[38;5;167;01mValueError\u001b[39;00m(\u001b[38;5;124m'\u001b[39m\u001b[38;5;124mdimension mismatch\u001b[39m\u001b[38;5;124m'\u001b[39m)\n\u001b[0;32m--> 258\u001b[0m y \u001b[38;5;241m=\u001b[39m \u001b[38;5;28;43mself\u001b[39;49m\u001b[38;5;241;43m.\u001b[39;49m\u001b[43m_matvec\u001b[49m\u001b[43m(\u001b[49m\u001b[43mx\u001b[49m\u001b[43m)\u001b[49m\n\u001b[1;32m    260\u001b[0m \u001b[38;5;28;01mif\u001b[39;00m \u001b[38;5;28misinstance\u001b[39m(x, np\u001b[38;5;241m.\u001b[39mmatrix):\n\u001b[1;32m    261\u001b[0m     y \u001b[38;5;241m=\u001b[39m asmatrix(y)\n",
      "File \u001b[0;32m~/miniforge3/envs/expansion/lib/python3.11/site-packages/scipy/sparse/linalg/_interface.py:225\u001b[0m, in \u001b[0;36mLinearOperator._matvec\u001b[0;34m(self, x)\u001b[0m\n\u001b[1;32m    215\u001b[0m \u001b[38;5;28;01mdef\u001b[39;00m \u001b[38;5;21m_matvec\u001b[39m(\u001b[38;5;28mself\u001b[39m, x):\n\u001b[1;32m    216\u001b[0m \u001b[38;5;250m    \u001b[39m\u001b[38;5;124;03m\"\"\"Default matrix-vector multiplication handler.\u001b[39;00m\n\u001b[1;32m    217\u001b[0m \n\u001b[1;32m    218\u001b[0m \u001b[38;5;124;03m    If self is a linear operator of shape (M, N), then this method will\u001b[39;00m\n\u001b[0;32m   (...)\u001b[0m\n\u001b[1;32m    223\u001b[0m \u001b[38;5;124;03m    will define matrix-vector multiplication as well.\u001b[39;00m\n\u001b[1;32m    224\u001b[0m \u001b[38;5;124;03m    \"\"\"\u001b[39;00m\n\u001b[0;32m--> 225\u001b[0m     \u001b[38;5;28;01mreturn\u001b[39;00m \u001b[38;5;28;43mself\u001b[39;49m\u001b[38;5;241;43m.\u001b[39;49m\u001b[43mmatmat\u001b[49m\u001b[43m(\u001b[49m\u001b[43mx\u001b[49m\u001b[38;5;241;43m.\u001b[39;49m\u001b[43mreshape\u001b[49m\u001b[43m(\u001b[49m\u001b[38;5;241;43m-\u001b[39;49m\u001b[38;5;241;43m1\u001b[39;49m\u001b[43m,\u001b[49m\u001b[43m \u001b[49m\u001b[38;5;241;43m1\u001b[39;49m\u001b[43m)\u001b[49m\u001b[43m)\u001b[49m\n",
      "File \u001b[0;32m~/miniforge3/envs/expansion/lib/python3.11/site-packages/scipy/sparse/linalg/_interface.py:362\u001b[0m, in \u001b[0;36mLinearOperator.matmat\u001b[0;34m(self, X)\u001b[0m\n\u001b[1;32m    359\u001b[0m     \u001b[38;5;28;01mraise\u001b[39;00m \u001b[38;5;167;01mValueError\u001b[39;00m(\u001b[38;5;124mf\u001b[39m\u001b[38;5;124m'\u001b[39m\u001b[38;5;124mdimension mismatch: \u001b[39m\u001b[38;5;132;01m{\u001b[39;00m\u001b[38;5;28mself\u001b[39m\u001b[38;5;241m.\u001b[39mshape\u001b[38;5;132;01m}\u001b[39;00m\u001b[38;5;124m, \u001b[39m\u001b[38;5;132;01m{\u001b[39;00mX\u001b[38;5;241m.\u001b[39mshape\u001b[38;5;132;01m}\u001b[39;00m\u001b[38;5;124m'\u001b[39m)\n\u001b[1;32m    361\u001b[0m \u001b[38;5;28;01mtry\u001b[39;00m:\n\u001b[0;32m--> 362\u001b[0m     Y \u001b[38;5;241m=\u001b[39m \u001b[38;5;28;43mself\u001b[39;49m\u001b[38;5;241;43m.\u001b[39;49m\u001b[43m_matmat\u001b[49m\u001b[43m(\u001b[49m\u001b[43mX\u001b[49m\u001b[43m)\u001b[49m\n\u001b[1;32m    363\u001b[0m \u001b[38;5;28;01mexcept\u001b[39;00m \u001b[38;5;167;01mException\u001b[39;00m \u001b[38;5;28;01mas\u001b[39;00m e:\n\u001b[1;32m    364\u001b[0m     \u001b[38;5;28;01mif\u001b[39;00m issparse(X) \u001b[38;5;129;01mor\u001b[39;00m is_pydata_spmatrix(X):\n",
      "File \u001b[0;32m~/miniforge3/envs/expansion/lib/python3.11/site-packages/scipy/sparse/linalg/_interface.py:821\u001b[0m, in \u001b[0;36mMatrixLinearOperator._matmat\u001b[0;34m(self, X)\u001b[0m\n\u001b[1;32m    820\u001b[0m \u001b[38;5;28;01mdef\u001b[39;00m \u001b[38;5;21m_matmat\u001b[39m(\u001b[38;5;28mself\u001b[39m, X):\n\u001b[0;32m--> 821\u001b[0m     \u001b[38;5;28;01mreturn\u001b[39;00m \u001b[38;5;28;43mself\u001b[39;49m\u001b[38;5;241;43m.\u001b[39;49m\u001b[43mA\u001b[49m\u001b[38;5;241;43m.\u001b[39;49m\u001b[43mdot\u001b[49m\u001b[43m(\u001b[49m\u001b[43mX\u001b[49m\u001b[43m)\u001b[49m\n",
      "File \u001b[0;32m~/miniforge3/envs/expansion/lib/python3.11/site-packages/scipy/sparse/_base.py:497\u001b[0m, in \u001b[0;36m_spbase.dot\u001b[0;34m(self, other)\u001b[0m\n\u001b[1;32m    495\u001b[0m     \u001b[38;5;28;01mreturn\u001b[39;00m \u001b[38;5;28mself\u001b[39m \u001b[38;5;241m*\u001b[39m other\n\u001b[1;32m    496\u001b[0m \u001b[38;5;28;01melse\u001b[39;00m:\n\u001b[0;32m--> 497\u001b[0m     \u001b[38;5;28;01mreturn\u001b[39;00m \u001b[38;5;28;43mself\u001b[39;49m\u001b[43m \u001b[49m\u001b[38;5;241;43m@\u001b[39;49m\u001b[43m \u001b[49m\u001b[43mother\u001b[49m\n",
      "File \u001b[0;32m~/miniforge3/envs/expansion/lib/python3.11/site-packages/scipy/sparse/_base.py:732\u001b[0m, in \u001b[0;36m_spbase.__matmul__\u001b[0;34m(self, other)\u001b[0m\n\u001b[1;32m    729\u001b[0m \u001b[38;5;28;01mif\u001b[39;00m isscalarlike(other):\n\u001b[1;32m    730\u001b[0m     \u001b[38;5;28;01mraise\u001b[39;00m \u001b[38;5;167;01mValueError\u001b[39;00m(\u001b[38;5;124m\"\u001b[39m\u001b[38;5;124mScalar operands are not allowed, \u001b[39m\u001b[38;5;124m\"\u001b[39m\n\u001b[1;32m    731\u001b[0m                      \u001b[38;5;124m\"\u001b[39m\u001b[38;5;124muse \u001b[39m\u001b[38;5;124m'\u001b[39m\u001b[38;5;124m*\u001b[39m\u001b[38;5;124m'\u001b[39m\u001b[38;5;124m instead\u001b[39m\u001b[38;5;124m\"\u001b[39m)\n\u001b[0;32m--> 732\u001b[0m \u001b[38;5;28;01mreturn\u001b[39;00m \u001b[38;5;28;43mself\u001b[39;49m\u001b[38;5;241;43m.\u001b[39;49m\u001b[43m_matmul_dispatch\u001b[49m\u001b[43m(\u001b[49m\u001b[43mother\u001b[49m\u001b[43m)\u001b[49m\n",
      "File \u001b[0;32m~/miniforge3/envs/expansion/lib/python3.11/site-packages/scipy/sparse/_base.py:619\u001b[0m, in \u001b[0;36m_spbase._matmul_dispatch\u001b[0;34m(self, other)\u001b[0m\n\u001b[1;32m    617\u001b[0m     \u001b[38;5;28;01mreturn\u001b[39;00m \u001b[38;5;28mself\u001b[39m\u001b[38;5;241m.\u001b[39m_matmul_vector(other)\n\u001b[1;32m    618\u001b[0m \u001b[38;5;28;01melif\u001b[39;00m other\u001b[38;5;241m.\u001b[39mshape \u001b[38;5;241m==\u001b[39m (N, \u001b[38;5;241m1\u001b[39m):\n\u001b[0;32m--> 619\u001b[0m     result \u001b[38;5;241m=\u001b[39m \u001b[38;5;28;43mself\u001b[39;49m\u001b[38;5;241;43m.\u001b[39;49m\u001b[43m_matmul_vector\u001b[49m\u001b[43m(\u001b[49m\u001b[43mother\u001b[49m\u001b[38;5;241;43m.\u001b[39;49m\u001b[43mravel\u001b[49m\u001b[43m(\u001b[49m\u001b[43m)\u001b[49m\u001b[43m)\u001b[49m\n\u001b[1;32m    620\u001b[0m     \u001b[38;5;28;01mif\u001b[39;00m \u001b[38;5;28mself\u001b[39m\u001b[38;5;241m.\u001b[39mndim \u001b[38;5;241m==\u001b[39m \u001b[38;5;241m1\u001b[39m:\n\u001b[1;32m    621\u001b[0m         \u001b[38;5;28;01mreturn\u001b[39;00m result\u001b[38;5;241m.\u001b[39mreshape(\u001b[38;5;241m1\u001b[39m)\n",
      "File \u001b[0;32m~/miniforge3/envs/expansion/lib/python3.11/site-packages/scipy/sparse/_compressed.py:526\u001b[0m, in \u001b[0;36m_cs_matrix._matmul_vector\u001b[0;34m(self, other)\u001b[0m\n\u001b[1;32m    524\u001b[0m \u001b[38;5;66;03m# csr_matvec or csc_matvec\u001b[39;00m\n\u001b[1;32m    525\u001b[0m fn \u001b[38;5;241m=\u001b[39m \u001b[38;5;28mgetattr\u001b[39m(_sparsetools, \u001b[38;5;28mself\u001b[39m\u001b[38;5;241m.\u001b[39mformat \u001b[38;5;241m+\u001b[39m \u001b[38;5;124m'\u001b[39m\u001b[38;5;124m_matvec\u001b[39m\u001b[38;5;124m'\u001b[39m)\n\u001b[0;32m--> 526\u001b[0m \u001b[43mfn\u001b[49m\u001b[43m(\u001b[49m\u001b[43mM\u001b[49m\u001b[43m,\u001b[49m\u001b[43m \u001b[49m\u001b[43mN\u001b[49m\u001b[43m,\u001b[49m\u001b[43m \u001b[49m\u001b[38;5;28;43mself\u001b[39;49m\u001b[38;5;241;43m.\u001b[39;49m\u001b[43mindptr\u001b[49m\u001b[43m,\u001b[49m\u001b[43m \u001b[49m\u001b[38;5;28;43mself\u001b[39;49m\u001b[38;5;241;43m.\u001b[39;49m\u001b[43mindices\u001b[49m\u001b[43m,\u001b[49m\u001b[43m \u001b[49m\u001b[38;5;28;43mself\u001b[39;49m\u001b[38;5;241;43m.\u001b[39;49m\u001b[43mdata\u001b[49m\u001b[43m,\u001b[49m\u001b[43m \u001b[49m\u001b[43mother\u001b[49m\u001b[43m,\u001b[49m\u001b[43m \u001b[49m\u001b[43mresult\u001b[49m\u001b[43m)\u001b[49m\n\u001b[1;32m    528\u001b[0m \u001b[38;5;28;01mreturn\u001b[39;00m result[\u001b[38;5;241m0\u001b[39m] \u001b[38;5;28;01mif\u001b[39;00m \u001b[38;5;28mself\u001b[39m\u001b[38;5;241m.\u001b[39mndim \u001b[38;5;241m==\u001b[39m \u001b[38;5;241m1\u001b[39m \u001b[38;5;28;01melse\u001b[39;00m result\n",
      "\u001b[0;31mKeyboardInterrupt\u001b[0m: "
     ]
    }
   ],
   "source": [
    "psf_vec = PsfVectorial()\n",
    "psf_vec.setpinhole(AU=1)\n",
    "\n",
    "L = 75\n",
    "D=30  # um^2/s\n",
    "numberOfLocalizations = 1000\n",
    "\n",
    "fd = FlMoving()\n",
    "fd.makediffusion(D, 0.1, dim=3, boundarybox=[500, 500, 1000])\n",
    "fd.brightness=10000\n",
    "fs = FlStatic()\n",
    "fs.pos = [10, 0, 0]\n",
    "fs.brightness = 10000\n",
    "fc=FlCollectionBlinking()\n",
    "fc.add([fs, fd]);\n",
    "sim1=Simulator(fluorophores=fc)\n",
    "\n",
    "sim1.definePattern(\"donut\", psf_vec, \n",
    "                   phasemask=\"vortex\", \n",
    "                   makepattern=\"orbitscan\", \n",
    "                   orbitpoints=4,\n",
    "                   probecenter=True,\n",
    "                   orbitL=L,\n",
    "                   pointdwelltime=0.1,\n",
    "                   laserpower=1,\n",
    "                   repetitions=1)\n",
    "fwhm=360  # size of the donut, needed for proper estimation. \n",
    "sim1.defineComponent(\"estdonut\", \"estimator\", est_quad2Diter, parameters=[L,True], dim=(0,1))\n",
    "\n",
    "seq = [\"donut\",\"estdonut\"]\n",
    "out=sim1.runSequence(seq, maxlocs=numberOfLocalizations)\n",
    "sim1.summarize_results(out) # display summary of simulation"
   ]
  },
  {
   "cell_type": "markdown",
   "metadata": {},
   "source": [
    "## Imaging of DNA-PAINT (blinking fluorophores + diffusive background) with Abberior scouting sequence"
   ]
  },
  {
   "cell_type": "code",
   "execution_count": null,
   "metadata": {},
   "outputs": [],
   "source": [
    "sim2 = SimSequencefile()\n",
    "sim2.posgalvo = [0, 0, 0]\n",
    "sim2.posEOD = [0, 0, 0]\n",
    "sim2.time = 0\n",
    "fname = os.path.join(SCRIPT_DIR, \"examples\", \"Imaging_2D.json\")\n",
    "fname2 = os.path.join(SCRIPT_DIR, \"settings\", \"PSFvectorial2D.json\") # use a PSF that is defined via a json file\n",
    "sim2.loadsequence(fname, fname2)\n",
    "\n",
    "sim2.makescoutingpattern([[-100, -150], [100, 100]])  # for imaging\n",
    "sim2.sequence.locLimit = 100  # to avoid getting stuck with background fluorophore"
   ]
  },
  {
   "cell_type": "code",
   "execution_count": null,
   "metadata": {},
   "outputs": [],
   "source": [
    "# make a fluorophore collection with blinking fluorophores\n",
    "fc = FlCollectionBlinking()\n",
    "\n",
    "#set parameterst for caged fluorophore, PAFP or similar\n",
    "laserpower = 8\n",
    "switchpar = {}\n",
    "switchpar['brightness'] =100*laserpower\n",
    "switchpar['toffsmlm'] = 15*1e3  # on-switching time in ms\n",
    "switchpar['photonbudget'] = 5000\n",
    "switchpar['tonsmlm'] = 100  #  ms \n",
    "switchpar['activations'] = np.inf  # re activations\n",
    "switchpar['starton'] = -1 # fluorophores start in random on / off state, determined by tonsmlm, toffsmlm\n",
    "fc.setpar(**switchpar)\n",
    "\n",
    "# add fake NPCs\n",
    "fc.add(makeNPC(pos=[0, 0, 0]))\n",
    "\n",
    "# make diffusing molecules, back of the envelope calculations\n",
    "# standard sequences: ~1 nM, fast sequences: 0.2 pM\n",
    "# 1 M = Na/liter, 1 l= (0.1 m)^3 = (0.1 *1e6 um)^3 =1e15 um^3\n",
    "# density of fluorophores (um^-3) for 1nM: 1e-9* 6e23/1e15=0.6 %density of fluorophores, about 1 / um^3\n",
    "# slow sequences, bounding box: 1 um  x 1 um x 2 um: ~ 1 particle\n",
    "# fast sequences: 2 um x 2 um x 2 um: ~1 particle\n",
    "D=30 # um^2/s\n",
    "fd = FlMoving()\n",
    "\n",
    "fd.makediffusion(D, 0.01, dim=3, boundarybox=[500, 500, 1000])\n",
    "fc.add(fd)\n",
    "\n",
    "sim2.fluorophores = fc"
   ]
  },
  {
   "cell_type": "code",
   "execution_count": null,
   "metadata": {},
   "outputs": [],
   "source": [
    "maxtime = 30*1e3  # 10 seconds\n",
    "cfrcutoff = 0.5\n",
    "brightnesses = [0,1] # compare without and with background from diffusing fluorophore\n",
    "titles = [\"imaging strands invisible\", \"diffusive imaging strands\"]\n",
    "\n",
    "for k in range(len(brightnesses)):\n",
    "    sim2.posgalvo = [0, 0, 0]\n",
    "    sim2.posEOD = [0, 0, 0]\n",
    "    sim2.time = 0\n",
    "    fc.reset()  # switch on all fluorophores again\n",
    "    fd.brightness=switchpar.brightness*brightnesses[k]\n",
    "    \n",
    "    out=sim2.scoutingSequence(maxtime=maxtime)\n",
    "    \n",
    "    # plot results\n",
    "    vld = (out.loc.vld==1) & (out.loc.itr==max(out.loc.itr))\n",
    "    vldcfr = vld & (out.loc.cfr<cfrcutoff)\n",
    "    fig = plt.figure()\n",
    "    ax = fig.add_subplot(111)\n",
    "    ax.plot(sim2.scoutingcoordinates[:,0], sim2.scoutingcoordinates[:,1],'k*')\n",
    "    ax.plot(out.loc.xnm(vld),out.loc.ynm(vld),'m.')\n",
    "    ax.plot(out.loc.xnm(vldcfr),out.loc.ynm(vldcfr),'bx')\n",
    "    posfl = out.fluorophores.pos[-1,:-1,:].squeeze() # last one is diffusing\n",
    "    ax.plot(posfl[:,0],posfl[:,1],'ro')\n",
    "    ax.set_aspect('equal')\n",
    "    ax.legend(['scouting', 'last itr vld', 'last itr vld +cfr', 'fluorophore'])\n",
    "    ax.set_title(titles(k))"
   ]
  }
 ],
 "metadata": {
  "kernelspec": {
   "display_name": "expansion",
   "language": "python",
   "name": "python3"
  },
  "language_info": {
   "codemirror_mode": {
    "name": "ipython",
    "version": 3
   },
   "file_extension": ".py",
   "mimetype": "text/x-python",
   "name": "python",
   "nbconvert_exporter": "python",
   "pygments_lexer": "ipython3",
   "version": "3.11.10"
  }
 },
 "nbformat": 4,
 "nbformat_minor": 2
}
