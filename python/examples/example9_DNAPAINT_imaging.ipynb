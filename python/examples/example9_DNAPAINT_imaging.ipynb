{
 "cells": [
  {
   "cell_type": "code",
   "execution_count": null,
   "metadata": {},
   "outputs": [],
   "source": [
    "%matplotlib widget\n",
    "\n",
    "import sys\n",
    "import os\n",
    "from pathlib import Path\n",
    "\n",
    "SCRIPT_DIR = Path(os.getcwd()).parent\n",
    "sys.path.append(os.path.dirname(SCRIPT_DIR))"
   ]
  },
  {
   "cell_type": "code",
   "execution_count": null,
   "metadata": {},
   "outputs": [],
   "source": [
    "import numpy as np\n",
    "import matplotlib.pyplot as plt\n",
    "\n",
    "from python.fluorophores import FlStatic\n",
    "from python.fluorophores import FlMoving\n",
    "from python.fluorophores import FlCollectionBlinking\n",
    "from python.psfs import PsfVectorial\n",
    "from python.estimators import est_quad2Diter\n",
    "from python.simulators import Simulator\n",
    "from python.simulators import SimSequencefile\n",
    "from python.tools import makeNPC"
   ]
  },
  {
   "cell_type": "markdown",
   "metadata": {},
   "source": [
    "## Imaging of DNA-PAINT (static fluorophores + diffusive background) "
   ]
  },
  {
   "cell_type": "code",
   "execution_count": null,
   "metadata": {},
   "outputs": [],
   "source": [
    "psf_vec = PsfVectorial()\n",
    "psf_vec.setpinhole(AU=1)\n",
    "\n",
    "L = 75\n",
    "D=30  # um^2/s\n",
    "numberOfLocalizations = 1000\n",
    "\n",
    "fd = FlMoving()\n",
    "fd.makediffusion(D, 0.1, dim=3, boundarybox=[500, 500, 1000])\n",
    "fd.brightness=10000\n",
    "fs = FlStatic()\n",
    "fs.pos = [10, 0, 0]\n",
    "fs.brightness = 10000\n",
    "fc=FlCollectionBlinking()\n",
    "fc.add([fs, fd])\n",
    "sim1=Simulator(fluorophores=fc)\n",
    "\n",
    "sim1.definePattern(\"donut\", psf_vec, \n",
    "                   phasemask=\"vortex\", \n",
    "                   makepattern=\"orbitscan\", \n",
    "                   orbitpoints=4,\n",
    "                   probecenter=True,\n",
    "                   orbitL=L,\n",
    "                   pointdwelltime=0.1,\n",
    "                   laserpower=1,\n",
    "                   repetitions=1)\n",
    "fwhm=360  # size of the donut, needed for proper estimation. \n",
    "sim1.defineComponent(\"estdonut\", \"estimator\", est_quad2Diter, parameters=[L,True], dim=(0,1))\n",
    "\n",
    "seq = [\"donut\",\"estdonut\"]\n",
    "out=sim1.runSequence(seq, maxlocs=numberOfLocalizations)\n",
    "sim1.summarize_results(out) # display summary of simulation"
   ]
  },
  {
   "cell_type": "markdown",
   "metadata": {},
   "source": [
    "## Imaging of DNA-PAINT (blinking fluorophores + diffusive background) with Abberior scouting sequence"
   ]
  },
  {
   "cell_type": "code",
   "execution_count": null,
   "metadata": {},
   "outputs": [],
   "source": [
    "sim2 = SimSequencefile()\n",
    "sim2.posgalvo = [0, 0, 0]\n",
    "sim2.posEOD = [0, 0, 0]\n",
    "sim2.time = 0\n",
    "fname = os.path.join(SCRIPT_DIR, \"examples\", \"Imaging_2D.json\")\n",
    "fname2 = os.path.join(SCRIPT_DIR, \"settings\", \"PSFvectorial2D.json\") # use a PSF that is defined via a json file\n",
    "sim2.loadsequence(fname, fname2)\n",
    "\n",
    "sim2.makescoutingpattern(np.array([[-100, -150], [100, 100]]))  # for imaging\n",
    "sim2.sequence['locLimit'] = 100  # to avoid getting stuck with background fluorophore"
   ]
  },
  {
   "cell_type": "code",
   "execution_count": null,
   "metadata": {},
   "outputs": [],
   "source": [
    "# make a fluorophore collection with blinking fluorophores\n",
    "fc = FlCollectionBlinking()\n",
    "\n",
    "#set parameterst for caged fluorophore, PAFP or similar\n",
    "laserpower = 8\n",
    "switchpar = {}\n",
    "switchpar['brightness'] =100*laserpower\n",
    "switchpar['toffsmlm'] = 15*1e3  # on-switching time in ms\n",
    "switchpar['photonbudget'] = 5000\n",
    "switchpar['tonsmlm'] = 100  #  ms \n",
    "switchpar['activations'] = 10000  # re activations (should be infinite, but this is too large for np.random.poisson())\n",
    "switchpar['starton'] = -1 # fluorophores start in random on / off state, determined by tonsmlm, toffsmlm\n",
    "fc.setpar(**switchpar)\n",
    "\n",
    "# add fake NPCs\n",
    "fc.add(makeNPC(pos=[0, 0, 0]))\n",
    "\n",
    "# make diffusing molecules, back of the envelope calculations\n",
    "# standard sequences: ~1 nM, fast sequences: 0.2 pM\n",
    "# 1 M = Na/liter, 1 l= (0.1 m)^3 = (0.1 *1e6 um)^3 =1e15 um^3\n",
    "# density of fluorophores (um^-3) for 1nM: 1e-9* 6e23/1e15=0.6 %density of fluorophores, about 1 / um^3\n",
    "# slow sequences, bounding box: 1 um  x 1 um x 2 um: ~ 1 particle\n",
    "# fast sequences: 2 um x 2 um x 2 um: ~1 particle\n",
    "D=30 # um^2/s\n",
    "fd = FlMoving()\n",
    "\n",
    "fd.makediffusion(D, 0.01, dim=3, boundarybox=[500, 500, 1000])\n",
    "fc.add(fd)\n",
    "\n",
    "sim2.fluorophores = fc"
   ]
  },
  {
   "cell_type": "code",
   "execution_count": null,
   "metadata": {},
   "outputs": [],
   "source": [
    "maxtime = 30*1e3  # 10 seconds\n",
    "cfrcutoff = 0.5\n",
    "brightnesses = [0,1] # compare without and with background from diffusing fluorophore\n",
    "titles = [\"imaging strands invisible\", \"diffusive imaging strands\"]\n",
    "\n",
    "for k in range(len(brightnesses)):\n",
    "    sim2.posgalvo = [0, 0, 0]\n",
    "    sim2.posEOD = [0, 0, 0]\n",
    "    sim2.time = 0\n",
    "    fc.reset()  # switch on all fluorophores again\n",
    "    fd.brightness=switchpar['brightness']*brightnesses[k]\n",
    "    \n",
    "    out=sim2.scoutingSequence(maxtime=maxtime)\n",
    "    \n",
    "    # plot results\n",
    "    vld = (out.loc.vld==1) & (out.loc.itr==max(out.loc.itr))\n",
    "    vldcfr = vld & (out.loc.cfr<cfrcutoff)\n",
    "    fig = plt.figure()\n",
    "    ax = fig.add_subplot(111)\n",
    "    ax.plot(sim2.scoutingcoordinates[:,0], sim2.scoutingcoordinates[:,1],'k*')\n",
    "    ax.plot(out.loc.xnm[vld],out.loc.ynm[vld],'m.')\n",
    "    ax.plot(out.loc.xnm[vldcfr],out.loc.ynm[vldcfr],'bx')\n",
    "    posfl = out.fluorophores.pos[-1,:-1,:].squeeze() # last one is diffusing\n",
    "    ax.plot(posfl[:,0],posfl[:,1],'ro')\n",
    "    ax.set_aspect('equal')\n",
    "    ax.legend(['scouting', 'last itr vld', 'last itr vld +cfr', 'fluorophore'])\n",
    "    ax.set_title(titles[k])"
   ]
  },
  {
   "cell_type": "code",
   "execution_count": null,
   "metadata": {},
   "outputs": [],
   "source": []
  }
 ],
 "metadata": {
  "kernelspec": {
   "display_name": "expansion",
   "language": "python",
   "name": "python3"
  },
  "language_info": {
   "codemirror_mode": {
    "name": "ipython",
    "version": 3
   },
   "file_extension": ".py",
   "mimetype": "text/x-python",
   "name": "python",
   "nbconvert_exporter": "python",
   "pygments_lexer": "ipython3",
   "version": "3.11.10"
  }
 },
 "nbformat": 4,
 "nbformat_minor": 2
}
