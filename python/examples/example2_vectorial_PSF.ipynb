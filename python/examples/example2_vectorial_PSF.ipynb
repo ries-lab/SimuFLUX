{
 "cells": [
  {
   "cell_type": "code",
   "execution_count": null,
   "metadata": {},
   "outputs": [],
   "source": [
    "%matplotlib widget\n",
    "\n",
    "import sys\n",
    "import os\n",
    "from pathlib import Path\n",
    "\n",
    "SCRIPT_DIR = Path(os.getcwd()).parent\n",
    "sys.path.append(os.path.dirname(SCRIPT_DIR))"
   ]
  },
  {
   "cell_type": "code",
   "execution_count": null,
   "metadata": {},
   "outputs": [],
   "source": [
    "import numpy as np\n",
    "\n",
    "from python.fluorophores import FlStatic\n",
    "from python.psfs import PsfVectorial\n",
    "from python.estimators import est_quad2Diter\n",
    "from python.simulators import Simulator\n",
    "# from python.mProfile import mProfile"
   ]
  },
  {
   "cell_type": "code",
   "execution_count": null,
   "metadata": {},
   "outputs": [],
   "source": [
    "fl = FlStatic(brightness=1000)  # define a static fluorophore\n",
    "fl.pos = [10, 0, 0]\n",
    "\n",
    "psf_vec = PsfVectorial() \n",
    "psf_vec.zerooffset=0.000  # True zero\n",
    "\n",
    "sim = Simulator(fluorophores=fl)\n",
    "\n",
    "numberOfLocalizations=1000"
   ]
  },
  {
   "cell_type": "code",
   "execution_count": null,
   "metadata": {},
   "outputs": [],
   "source": [
    "# define scan pattern\n",
    "L = 75  # size of scan pattern\n",
    "orbitpoints = 6  # number of probing points in orbit\n",
    "probecenter = True  # should we also probe the center?\n",
    "laserpower = 5  # relative, increases brightness\n",
    "pointdwelltime = 0.1  # ms, measurement time in each point\n",
    "repetitions = 2 # how often to repeat the pattern scan\n",
    "sim.definePattern(\"donut\", psf_vec, \n",
    "                  phasemask=\"vortex\",\n",
    "                  makepattern=\"orbitscan\", \n",
    "                  orbitpoints=orbitpoints,\n",
    "                  probecenter=probecenter, \n",
    "                  orbitL=L, \n",
    "                  pointdwelltime=pointdwelltime, \n",
    "                  laserpower=laserpower, \n",
    "                  repetitions=repetitions)"
   ]
  },
  {
   "cell_type": "code",
   "execution_count": null,
   "metadata": {},
   "outputs": [],
   "source": [
    "# we need an estimator. Define as component\n",
    "sim.defineComponent(\"estdonut\", \"estimator\", est_quad2Diter, parameters=[L, probecenter], dim=(0,1))"
   ]
  },
  {
   "cell_type": "code",
   "execution_count": null,
   "metadata": {},
   "outputs": [],
   "source": [
    "seq = [\"donut\", \"estdonut\"]\n",
    "# mProfile.profileOn(['utilities.py', 'psf.py', 'psf_vectorial.py', 'simulator.py'])\n",
    "\n",
    "out = sim.runSequence(seq, maxlocs=numberOfLocalizations)\n",
    "# mProfile.profileOff()\n",
    "# mProfile.report()\n",
    "# out.loc: localizations\n",
    "# out.fluorophores: position of fluorophores\n",
    "# out.raw: photon measurements\n",
    "\n",
    "sigmaCRB=sim.calculateCRBpattern(\"donut\", dim=(0,1))/np.sqrt(np.mean(out.loc.phot))\n",
    "\n",
    "print(\"vectorial PSF:\")\n",
    "sim.summarize_results(out)\n",
    "\n",
    "psf0 = psf_vec.imagestack(\"vortex\")\n"
   ]
  },
  {
   "cell_type": "code",
   "execution_count": null,
   "metadata": {},
   "outputs": [],
   "source": [
    "from python.tools import imx\n",
    "\n",
    "imx(psf0)"
   ]
  },
  {
   "cell_type": "code",
   "execution_count": null,
   "metadata": {},
   "outputs": [],
   "source": [
    "psf_vec.zerooffset=0.005\n",
    "out=sim.runSequence(seq)\n",
    "print(f\"zero offset = {psf_vec.zerooffset}:\")\n",
    "sim.summarize_results(out)"
   ]
  },
  {
   "cell_type": "code",
   "execution_count": null,
   "metadata": {},
   "outputs": [],
   "source": [
    "psf_vec2 = PsfVectorial()"
   ]
  },
  {
   "cell_type": "code",
   "execution_count": null,
   "metadata": {},
   "outputs": [],
   "source": [
    "# Add Zernike:\n",
    "# Zr[k,0]: n, Zr[k,1]: m, Zr[k,2]: amplitude as fraction of wavelength\n",
    "sys_aberr = {}\n",
    "sys_aberr['Zr'] = np.zeros((2,3))\n",
    "sys_aberr['Zr'][0,0], sys_aberr['Zr'][0,1], sys_aberr['Zr'][0,2] = 4, 0, 0.1   # spherical aberrations\n",
    "sys_aberr['Zr'][1,0], sys_aberr['Zr'][1,1], sys_aberr['Zr'][1,2] = 2, 2, 0.05  # astigmatism\n",
    "psf_vec2.setpar(**sys_aberr)\n",
    "sim.definePattern(\"donut_aber\", psf_vec2, \n",
    "                  phasemask=\"vortex\", \n",
    "                  makepattern=\"orbitscan\", \n",
    "                  orbitpoints=4,\n",
    "                  probecenter=probecenter,\n",
    "                  orbitL=L,\n",
    "                  pointdwelltime=pointdwelltime,\n",
    "                  laserpower=laserpower,\n",
    "                  repetitions=repetitions)\n",
    "seq={\"donut_aber\",\"estdonut\"}\n",
    "out=sim.runSequence(seq)"
   ]
  },
  {
   "cell_type": "code",
   "execution_count": null,
   "metadata": {},
   "outputs": [],
   "source": []
  }
 ],
 "metadata": {
  "kernelspec": {
   "display_name": "expansion",
   "language": "python",
   "name": "python3"
  },
  "language_info": {
   "codemirror_mode": {
    "name": "ipython",
    "version": 3
   },
   "file_extension": ".py",
   "mimetype": "text/x-python",
   "name": "python",
   "nbconvert_exporter": "python",
   "pygments_lexer": "ipython3",
   "version": "3.11.10"
  }
 },
 "nbformat": 4,
 "nbformat_minor": 2
}
