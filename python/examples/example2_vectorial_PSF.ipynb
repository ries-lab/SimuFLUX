{
 "cells": [
  {
   "cell_type": "code",
   "execution_count": null,
   "metadata": {},
   "outputs": [],
   "source": [
    "## RUN THIS CELL IF AND ONLY IF THIS IS OPEN IN GOOGLE COLAB\n",
    "!git clone https://github.com/ries-lab/SimuFLUX.git\n",
    "%cd SimuFLUX/python/examples"
   ]
  },
  {
   "cell_type": "code",
   "execution_count": null,
   "metadata": {},
   "outputs": [],
   "source": [
    "%matplotlib widget\n",
    "\n",
    "import sys\n",
    "import os\n",
    "from pathlib import Path\n",
    "\n",
    "SCRIPT_DIR = Path(os.getcwd()).parent\n",
    "sys.path.append(os.path.dirname(SCRIPT_DIR))"
   ]
  },
  {
   "cell_type": "code",
   "execution_count": null,
   "metadata": {},
   "outputs": [],
   "source": [
    "import numpy as np\n",
    "\n",
    "from python.fluorophores import FlStatic\n",
    "from python.psfs import PsfVectorial\n",
    "from python.estimators import est_qLSQiter1D\n",
    "from python.estimators import est_qLSQiter2D\n",
    "from python.simulators import Simulator\n",
    "from python.tools import imx"
   ]
  },
  {
   "cell_type": "code",
   "execution_count": null,
   "metadata": {},
   "outputs": [],
   "source": [
    "fl = FlStatic(brightness=1000)  # define a static fluorophore\n",
    "fl.pos = [10, 0, 0]\n",
    "\n",
    "psf_vec = PsfVectorial() \n",
    "psf_vec.zerooffset=0.000  # True zero\n",
    "\n",
    "sim = Simulator(fluorophores=fl)\n",
    "\n",
    "numberOfLocalizations=1000"
   ]
  },
  {
   "cell_type": "code",
   "execution_count": null,
   "metadata": {},
   "outputs": [],
   "source": [
    "# define scan pattern\n",
    "L = 75  # size of scan pattern\n",
    "orbitpoints = 6  # number of probing points in orbit\n",
    "probecenter = True  # should we also probe the center?\n",
    "laserpower = 5  # relative, increases brightness\n",
    "pointdwelltime = 0.1  # ms, measurement time in each point\n",
    "repetitions = 2 # how often to repeat the pattern scan\n",
    "\n",
    "sim.definePattern(\"donut\", psf_vec, \n",
    "                  phasemask=\"vortex\",\n",
    "                  makepattern=\"orbitscan\", \n",
    "                  orbitpoints=orbitpoints,\n",
    "                  probecenter=probecenter, \n",
    "                  orbitL=L, \n",
    "                  pointdwelltime=pointdwelltime, \n",
    "                  laserpower=laserpower, \n",
    "                  repetitions=repetitions)"
   ]
  },
  {
   "cell_type": "code",
   "execution_count": null,
   "metadata": {},
   "outputs": [],
   "source": [
    "# we need an estimator. Define as component\n",
    "sim.defineComponent(\"estdonut\", \"estimator\", est_qLSQiter2D, parameters=[L, probecenter], dim=(0,1))"
   ]
  },
  {
   "cell_type": "code",
   "execution_count": null,
   "metadata": {},
   "outputs": [],
   "source": [
    "seq = [\"donut\", \"estdonut\"]\n",
    "\n",
    "out = sim.runSequence(seq, maxlocs=numberOfLocalizations)\n",
    "\n",
    "\n",
    "# out.loc: localizations\n",
    "# out.fluorophores: position of fluorophores\n",
    "# out.raw: photon measurements\n",
    "sigmaCRB=sim.calculateCRBpattern(\"donut\", dim=(0,1))/np.sqrt(np.mean(out.loc.phot))\n",
    "\n",
    "print(\"vectorial PSF:\")\n",
    "sim.summarize_results(out)\n",
    "\n",
    "psf0, _ = psf_vec.imagestack(\"vortex\")"
   ]
  },
  {
   "cell_type": "markdown",
   "metadata": {},
   "source": [
    "## Pinhole\n",
    "We simulate a pinhole in the detection channel."
   ]
  },
  {
   "cell_type": "code",
   "execution_count": null,
   "metadata": {},
   "outputs": [],
   "source": [
    "psf_vecph = PsfVectorial()\n",
    "psf_vecph.setpinhole(AU=1)"
   ]
  },
  {
   "cell_type": "code",
   "execution_count": null,
   "metadata": {},
   "outputs": [],
   "source": [
    "sim.definePattern(\"donut_ph\", psf_vecph, \n",
    "                  phasemask=\"vortex\",\n",
    "                  makepattern=\"orbitscan\", \n",
    "                  orbitpoints=orbitpoints,\n",
    "                  probecenter=probecenter, \n",
    "                  orbitL=L, \n",
    "                  pointdwelltime=pointdwelltime, \n",
    "                  laserpower=laserpower, \n",
    "                  repetitions=repetitions)"
   ]
  },
  {
   "cell_type": "code",
   "execution_count": null,
   "metadata": {},
   "outputs": [],
   "source": [
    "seq = [\"donut_ph\", \"estdonut\"]\n",
    "print(\"pinhole:\")\n",
    "out=sim.runSequence(seq)\n",
    "sim.summarize_results(out)\n",
    "\n",
    "psfph, _ = psf_vecph.imagestack(\"vortex\")"
   ]
  },
  {
   "cell_type": "code",
   "execution_count": null,
   "metadata": {},
   "outputs": [],
   "source": [
    "imx([psf0, psfph])"
   ]
  },
  {
   "cell_type": "markdown",
   "metadata": {},
   "source": [
    "## Misaligned pinhole\n",
    "Now, lets move the pinhole (misalignment)."
   ]
  },
  {
   "cell_type": "code",
   "execution_count": null,
   "metadata": {},
   "outputs": [],
   "source": [
    "psf_vecph2 = PsfVectorial()\n",
    "psf_vecph2.setpinhole(AU=1, offset=[150, 0])"
   ]
  },
  {
   "cell_type": "code",
   "execution_count": null,
   "metadata": {},
   "outputs": [],
   "source": [
    "sim.definePattern(\"donut_ph\", psf_vecph2, \n",
    "                  phasemask=\"vortex\",\n",
    "                  makepattern=\"orbitscan\", \n",
    "                  orbitpoints=orbitpoints,\n",
    "                  probecenter=probecenter, \n",
    "                  orbitL=L, \n",
    "                  pointdwelltime=pointdwelltime, \n",
    "                  laserpower=laserpower, \n",
    "                  repetitions=repetitions)"
   ]
  },
  {
   "cell_type": "code",
   "execution_count": null,
   "metadata": {},
   "outputs": [],
   "source": [
    "seq = [\"donut_ph\", \"estdonut\"]\n",
    "print(\"pinhole misaligned:\")\n",
    "out=sim.runSequence(seq)\n",
    "sim.summarize_results(out)"
   ]
  },
  {
   "cell_type": "code",
   "execution_count": null,
   "metadata": {},
   "outputs": [],
   "source": [
    "# psfph2, _ = psf_vecph2.imagestack(\"vortex\")\n",
    "# imx([psf0, psfph2])"
   ]
  },
  {
   "cell_type": "markdown",
   "metadata": {},
   "source": [
    "## Aberrations\n",
    "Let us change the PSF by adding aberrations. Note, in this case we have to define the pattern again to calculate the PSFs anew. Instead here, we create a second PSF object."
   ]
  },
  {
   "cell_type": "code",
   "execution_count": null,
   "metadata": {},
   "outputs": [],
   "source": [
    "psf_vec2 = PsfVectorial()\n",
    "psf_vec2.setpinhole(AU=1)\n",
    "\n",
    "# Add Zernike:\n",
    "# Zr(k,0): n, Zr(k,1): m, Zr(k,2): amplitude as fraction of wavelength\n",
    "sys_aberr = {}\n",
    "sys_aberr['Zr'] = np.zeros((2,3))\n",
    "sys_aberr['Zr'][0,0], sys_aberr['Zr'][0,1], sys_aberr['Zr'][0,2] = 4, 0, 0.3  # spherical aberrations \n",
    "sys_aberr['Zr'][1,0], sys_aberr['Zr'][1,1], sys_aberr['Zr'][1,2] = 2, 2, 0.05  # astigmatism \n",
    "sys_aberr['maskshift'] = [0,0]\n",
    "psf_vec2.setpar(**sys_aberr)"
   ]
  },
  {
   "cell_type": "code",
   "execution_count": null,
   "metadata": {},
   "outputs": [],
   "source": [
    "sim.definePattern(\"donut_aber\", psf_vec2, \n",
    "                  phasemask=\"vortex\",\n",
    "                  makepattern=\"orbitscan\", \n",
    "                  orbitpoints=4,\n",
    "                  probecenter=probecenter, \n",
    "                  orbitL=L, \n",
    "                  pointdwelltime=pointdwelltime, \n",
    "                  laserpower=laserpower, \n",
    "                  repetitions=repetitions)\n",
    "\n",
    "seq = [\"donut_aber\", \"estdonut\"]\n",
    "out = sim.runSequence(seq)\n",
    "\n",
    "print(\"aberrations:\")\n",
    "sim.summarize_results(out)"
   ]
  },
  {
   "cell_type": "code",
   "execution_count": null,
   "metadata": {},
   "outputs": [],
   "source": [
    "# uncomment to show PSF:\n",
    "# psfab, _ = psf_vec2.imagestack(\"vortex\")\n",
    "# imx([psf0, psfab])"
   ]
  },
  {
   "cell_type": "markdown",
   "metadata": {},
   "source": [
    "## Misaligned phase plate"
   ]
  },
  {
   "cell_type": "code",
   "execution_count": null,
   "metadata": {},
   "outputs": [],
   "source": [
    "# psf_vec2 = PsfVectorial()\n",
    "psf_vec2.setpinhole(AU=1)\n",
    "\n",
    "# Add Zernike:\n",
    "# Zr(k,0): n, Zr(k,1): m, Zr(k,2): amplitude as fraction of wavelength\n",
    "sys_mis = {}\n",
    "sys_mis['Zr'] = np.zeros((2,3))\n",
    "sys_mis['Zr'][0,0], sys_mis['Zr'][0,1], sys_mis['Zr'][0,2] = 4, 0, 0.0  # spherical aberrations \n",
    "sys_mis['Zr'][1,0], sys_mis['Zr'][1,1], sys_mis['Zr'][1,2] = 2, 2, 0.0  # astigmatism \n",
    "sys_mis['maskshift'] = [0.2,0]\n",
    "psf_vec2.setpar(**sys_mis)"
   ]
  },
  {
   "cell_type": "code",
   "execution_count": null,
   "metadata": {},
   "outputs": [],
   "source": [
    "sim.definePattern(\"donut_misaligned\", psf_vec2, \n",
    "                  phasemask=\"vortex\",\n",
    "                  makepattern=\"orbitscan\", \n",
    "                  orbitpoints=orbitpoints,\n",
    "                  probecenter=probecenter, \n",
    "                  orbitL=L, \n",
    "                  pointdwelltime=pointdwelltime, \n",
    "                  laserpower=laserpower, \n",
    "                  repetitions=repetitions)\n",
    "\n",
    "seq = [\"donut_misaligned\", \"estdonut\"]\n",
    "out = sim.runSequence(seq)\n",
    "\n",
    "print(\"misaligned phase plate:\")\n",
    "sim.summarize_results(out)"
   ]
  },
  {
   "cell_type": "code",
   "execution_count": null,
   "metadata": {},
   "outputs": [],
   "source": [
    "# uncomment to show PSF:\n",
    "# psfab, _ = psf_vec2.imagestack(\"vortex\")\n",
    "# imx([psf0, psfab])"
   ]
  },
  {
   "cell_type": "markdown",
   "metadata": {},
   "source": [
    "## Zero offset\n",
    "Now, let's add an offset to the PSF to make the minium non-zero."
   ]
  },
  {
   "cell_type": "code",
   "execution_count": null,
   "metadata": {},
   "outputs": [],
   "source": [
    "psf_vec.zerooffset=0.005\n",
    "out = sim.runSequence(seq)\n",
    "print(f\"zero offset = {psf_vec.zerooffset}:\")\n",
    "sim.summarize_results(out)"
   ]
  },
  {
   "cell_type": "markdown",
   "metadata": {},
   "source": [
    "## Bead size"
   ]
  },
  {
   "cell_type": "code",
   "execution_count": null,
   "metadata": {},
   "outputs": [],
   "source": [
    "psf_vec2.setpinhole(AU=1)\n",
    "\n",
    "# Add Zernike:\n",
    "# Zr(k,0): n, Zr(k,1): m, Zr(k,2): amplitude as fraction of wavelength\n",
    "sys_b = {}\n",
    "sys_b['Zr'] = np.zeros((2,3))\n",
    "sys_b['Zr'][0,0], sys_b['Zr'][0,1], sys_b['Zr'][0,2] = 4, 0, 0.0  # spherical aberrations \n",
    "sys_b['Zr'][1,0], sys_b['Zr'][1,1], sys_b['Zr'][1,2] = 2, 2, 0.0  # astigmatism \n",
    "sys_b['maskshift'] = [0.0,0]\n",
    "sys_b['beadradius'] = 50e-9  # 100 nm beads\n",
    "psf_vec2.setpar(**sys_b)"
   ]
  },
  {
   "cell_type": "code",
   "execution_count": null,
   "metadata": {},
   "outputs": [],
   "source": [
    "sim.definePattern(\"donut_bead\", psf_vec2, \n",
    "                  phasemask=\"vortex\",\n",
    "                  makepattern=\"orbitscan\", \n",
    "                  orbitpoints=orbitpoints,\n",
    "                  probecenter=probecenter, \n",
    "                  orbitL=L, \n",
    "                  pointdwelltime=pointdwelltime, \n",
    "                  laserpower=laserpower, \n",
    "                  repetitions=repetitions)\n",
    "\n",
    "seq = [\"donut_bead\", \"estdonut\"]\n",
    "out = sim.runSequence(seq)\n",
    "\n",
    "print(\"bead size:\")\n",
    "sim.summarize_results(out)"
   ]
  },
  {
   "cell_type": "markdown",
   "metadata": {},
   "source": [
    "## 3D with tophat"
   ]
  },
  {
   "cell_type": "code",
   "execution_count": null,
   "metadata": {},
   "outputs": [],
   "source": [
    "sim.fluorophores.pos = [10, 0, 20]\n",
    "psf_vecth = PsfVectorial()\n",
    "psf_vecth.setpinhole(\"AU\",1)\n",
    "\n",
    "orbitpoints = 4\n",
    "probecenterxy = True\n",
    "probecenterz = True\n",
    "L = 75\n",
    "Lz = 150\n",
    "\n",
    "laserpower = 30"
   ]
  },
  {
   "cell_type": "code",
   "execution_count": null,
   "metadata": {},
   "outputs": [],
   "source": [
    "sim.definePattern(\"tophat_xy\", psf_vecth, \n",
    "                  phasemask=\"tophat\",\n",
    "                  makepattern=\"orbitscan\", \n",
    "                  orbitpoints=orbitpoints,\n",
    "                  probecenter=probecenterxy, \n",
    "                  orbitL=L, \n",
    "                  pointdwelltime=pointdwelltime, \n",
    "                  laserpower=laserpower, \n",
    "                  repetitions=repetitions,\n",
    "                  dim=(0,1))\n",
    "\n",
    "sim.definePattern(\"tophat_z\", psf_vecth, \n",
    "                  phasemask=\"tophat\",\n",
    "                  makepattern=\"zscan\", \n",
    "                  orbitpoints=2,\n",
    "                  probecenter=probecenterz, \n",
    "                  orbitL=Lz, \n",
    "                  pointdwelltime=pointdwelltime, \n",
    "                  laserpower=laserpower, \n",
    "                  repetitions=repetitions,\n",
    "                  dim=(2,))"
   ]
  },
  {
   "cell_type": "code",
   "execution_count": null,
   "metadata": {},
   "outputs": [],
   "source": [
    "sim.defineComponent(\"esttophat_xy\", \"estimator\", est_qLSQiter2D, parameters=[L, probecenter], dim=(0,1))\n",
    "sim.defineComponent(\"esttophat_z\", \"estimator\", est_qLSQiter1D, parameters=[Lz], dim=(2,))"
   ]
  },
  {
   "cell_type": "code",
   "execution_count": null,
   "metadata": {},
   "outputs": [],
   "source": [
    "seq = [\"tophat_xy\", \"esttophat_xy\", \"tophat_z\", \"esttophat_z\"]\n",
    "out=sim.runSequence(seq)\n",
    "\n",
    "print(\"3D with tophat:\")\n",
    "sim.summarize_results(out)"
   ]
  },
  {
   "cell_type": "markdown",
   "metadata": {},
   "source": [
    "## 3D with tophat and vortex"
   ]
  },
  {
   "cell_type": "code",
   "execution_count": null,
   "metadata": {},
   "outputs": [],
   "source": [
    "laserpower=5\n",
    "sim.definePattern(\"donut_xy\", psf_vecth, \n",
    "                  phasemask=\"vortex\",\n",
    "                  makepattern=\"orbitscan\", \n",
    "                  orbitpoints=orbitpoints,\n",
    "                  probecenter=probecenter, \n",
    "                  orbitL=L, \n",
    "                  pointdwelltime=pointdwelltime, \n",
    "                  laserpower=laserpower, \n",
    "                  repetitions=repetitions,\n",
    "                  dim=(0,1))"
   ]
  },
  {
   "cell_type": "code",
   "execution_count": null,
   "metadata": {},
   "outputs": [],
   "source": [
    "seq = [\"donut_xy\", \"estdonut\", \"tophat_z\", \"esttophat_z\"]\n",
    "out=sim.runSequence(seq)\n",
    "\n",
    "print(\"3D with donut and tophat:\")\n",
    "sim.summarize_results(out)"
   ]
  },
  {
   "cell_type": "markdown",
   "metadata": {},
   "source": [
    "## PhaseFlux 3D localization"
   ]
  },
  {
   "cell_type": "code",
   "execution_count": null,
   "metadata": {},
   "outputs": [],
   "source": [
    "sim.fluorophores.pos = [0, 0, 0]\n",
    "psf_vecphaseflux = PsfVectorial()\n",
    "psf_vecphaseflux.setpinhole(\"AU\",1)\n",
    "\n",
    "L = 75\n",
    "Lz = 150\n",
    "fwhm = 450\n",
    "sigmaz = 200\n",
    "laserpower = 5\n",
    "laserpowerz = 30\n",
    "zeroposx = np.atleast_2d(np.array([-1,1,0])*L/2)\n",
    "zeroposz = np.atleast_2d(np.array([-1,1,0])*Lz/2)"
   ]
  },
  {
   "cell_type": "code",
   "execution_count": null,
   "metadata": {},
   "outputs": [],
   "source": [
    "sim.definePattern(\"pf_x\", psf_vecphaseflux, \n",
    "                  phasemask=\"halfmoonx\",\n",
    "                  zeropos = zeroposx,\n",
    "                  pointdwelltime=pointdwelltime, \n",
    "                  laserpower=laserpower, \n",
    "                  repetitions=repetitions,\n",
    "                  dim=(0,))\n",
    "\n",
    "sim.definePattern(\"pf_y\", psf_vecphaseflux, \n",
    "                  phasemask=\"halfmoony\",\n",
    "                  zeropos = zeroposx,\n",
    "                  pointdwelltime=pointdwelltime, \n",
    "                  laserpower=laserpower, \n",
    "                  repetitions=repetitions,\n",
    "                  dim=(1,))\n",
    "\n",
    "sim.definePattern(\"pf_z\", psf_vecphaseflux, \n",
    "                  phasemask=\"tophat\",\n",
    "                  zeropos = zeroposz,\n",
    "                  pointdwelltime=pointdwelltime, \n",
    "                  laserpower=laserpowerz, \n",
    "                  repetitions=repetitions,\n",
    "                  dim=(2,))"
   ]
  },
  {
   "cell_type": "code",
   "execution_count": null,
   "metadata": {},
   "outputs": [],
   "source": [
    "sim.defineComponent(\"est_x\", \"estimator\", est_qLSQiter1D, parameters=[L], dim=(0,))\n",
    "sim.defineComponent(\"est_y\", \"estimator\", est_qLSQiter1D, parameters=[L], dim=(1,))\n",
    "sim.defineComponent(\"est_z\", \"estimator\", est_qLSQiter1D, parameters=[Lz], dim=(2,))"
   ]
  },
  {
   "cell_type": "code",
   "execution_count": null,
   "metadata": {},
   "outputs": [],
   "source": [
    "seq = [\"pf_x\", \"est_x\", \"pf_y\", \"est_y\", \"pf_z\", \"est_z\"]\n",
    "out=sim.runSequence(seq)\n",
    "print(\"PhaseFLUX:\")\n",
    "sim.summarize_results(out)"
   ]
  }
 ],
 "metadata": {
  "kernelspec": {
   "display_name": "expansion",
   "language": "python",
   "name": "python3"
  },
  "language_info": {
   "codemirror_mode": {
    "name": "ipython",
    "version": 3
   },
   "file_extension": ".py",
   "mimetype": "text/x-python",
   "name": "python",
   "nbconvert_exporter": "python",
   "pygments_lexer": "ipython3",
   "version": "3.11.10"
  }
 },
 "nbformat": 4,
 "nbformat_minor": 2
}
