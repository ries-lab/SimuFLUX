{
 "cells": [
  {
   "cell_type": "code",
   "execution_count": null,
   "metadata": {},
   "outputs": [],
   "source": [
    "%matplotlib\n",
    "\n",
    "import sys\n",
    "import os\n",
    "from pathlib import Path\n",
    "\n",
    "SCRIPT_DIR = Path(os.getcwd()).parent\n",
    "sys.path.append(os.path.dirname(SCRIPT_DIR))"
   ]
  },
  {
   "cell_type": "code",
   "execution_count": 2,
   "metadata": {},
   "outputs": [],
   "source": [
    "import numpy as np\n",
    "\n",
    "from python.fluorophores import FlStatic\n",
    "from python.psfs import PsfVectorial\n",
    "from python.estimators import est_donut2d\n",
    "from python.simulators import Simulator\n",
    "from python.mProfile import mProfile"
   ]
  },
  {
   "cell_type": "code",
   "execution_count": 3,
   "metadata": {},
   "outputs": [],
   "source": [
    "fl = FlStatic()  # define a static fluorophore\n",
    "fl.pos = [10, 0, 0]\n",
    "fl.brightness = 1000 # kHz if excited at the center of a Gaussian beam\n",
    "\n",
    "psf_vec = PsfVectorial() \n",
    "\n",
    "sim = Simulator(fl)\n",
    "\n",
    "numberOfLocalizations=1000"
   ]
  },
  {
   "cell_type": "code",
   "execution_count": 4,
   "metadata": {},
   "outputs": [],
   "source": [
    "# define scan pattern\n",
    "L = 75  # size of scan pattern\n",
    "orbitpoints = 6  # number of probing points in orbit\n",
    "probecenter = True  # should we also probe the center?\n",
    "laserpower = 5  # relative, increases brightness\n",
    "pointdwelltime = 0.1  # ms, measurement time in each point\n",
    "repetitions = 2 # how often to repeat the pattern scan\n",
    "sim.definePattern(\"donut\", psf_vec, \n",
    "                  phasemask=\"vortex\",\n",
    "                  makepattern=\"orbitscan\", \n",
    "                  orbitpoints=orbitpoints,\n",
    "                  probecenter=probecenter, \n",
    "                  orbitL=L, \n",
    "                  pointdwelltime=pointdwelltime, \n",
    "                  laserpower=laserpower, \n",
    "                  repetitions=repetitions)"
   ]
  },
  {
   "cell_type": "code",
   "execution_count": 5,
   "metadata": {},
   "outputs": [],
   "source": [
    "# we need an estimator. Define as component\n",
    "fwhm=360  # size of the donut, needed for proper estimation. \n",
    "sim.defineComponent(\"estdonut\", \"estimator\", est_donut2d, parameters=[sim.patterns[\"donut\"].pos, L, fwhm], dim=(0,1))"
   ]
  },
  {
   "cell_type": "code",
   "execution_count": null,
   "metadata": {},
   "outputs": [],
   "source": [
    "seq = [\"donut\", \"estdonut\"]\n",
    "mProfile.profileOn(['utilities.py', 'psf.py', 'psf_vectorial.py', 'simulator.py'])\n",
    "\n",
    "out = sim.runSequence(seq, maxlocs=numberOfLocalizations)\n",
    "mProfile.profileOff()\n",
    "mProfile.report()\n",
    "\n",
    "# sigmaCRB=sim.calculateCRB(\"donut\", dim=(0,1))/np.sqrt(np.mean(out.loc.phot))\n",
    "\n",
    "# # disp('vectorial PSF:')\n",
    "# sim.summarize_results(out)\n",
    "\n",
    "# psf0=psf_vec.imagestack(\"vortex\")"
   ]
  },
  {
   "cell_type": "code",
   "execution_count": null,
   "metadata": {},
   "outputs": [],
   "source": []
  }
 ],
 "metadata": {
  "kernelspec": {
   "display_name": "expansion",
   "language": "python",
   "name": "python3"
  },
  "language_info": {
   "codemirror_mode": {
    "name": "ipython",
    "version": 3
   },
   "file_extension": ".py",
   "mimetype": "text/x-python",
   "name": "python",
   "nbconvert_exporter": "python",
   "pygments_lexer": "ipython3",
   "version": "3.11.10"
  }
 },
 "nbformat": 4,
 "nbformat_minor": 2
}
