{
 "cells": [
  {
   "cell_type": "code",
   "execution_count": 1,
   "metadata": {},
   "outputs": [],
   "source": [
    "%matplotlib widget\n",
    "\n",
    "import sys\n",
    "import os\n",
    "from pathlib import Path\n",
    "\n",
    "SCRIPT_DIR = Path(os.getcwd()).parent\n",
    "sys.path.append(os.path.dirname(SCRIPT_DIR))"
   ]
  },
  {
   "cell_type": "code",
   "execution_count": 2,
   "metadata": {},
   "outputs": [],
   "source": [
    "import numpy as np\n",
    "\n",
    "from python.fluorophores import FlStatic\n",
    "from python.psfs import PsfVectorial\n",
    "from python.estimators import est_quad1Diter\n",
    "from python.estimators import est_quad2Diter\n",
    "from python.simulators import Simulator\n",
    "from python.tools import imx\n",
    "# from python.mProfile import mProfile\n",
    "# import cProfile, pstats, io\n",
    "# from pstats import SortKey"
   ]
  },
  {
   "cell_type": "code",
   "execution_count": 3,
   "metadata": {},
   "outputs": [],
   "source": [
    "fl = FlStatic(brightness=1000)  # define a static fluorophore\n",
    "fl.pos = [10, 0, 0]\n",
    "\n",
    "psf_vec = PsfVectorial() \n",
    "psf_vec.zerooffset=0.000  # True zero\n",
    "\n",
    "sim = Simulator(fluorophores=fl)\n",
    "\n",
    "numberOfLocalizations=1000"
   ]
  },
  {
   "cell_type": "code",
   "execution_count": 4,
   "metadata": {},
   "outputs": [
    {
     "name": "stdout",
     "output_type": "stream",
     "text": [
      "vortex0, "
     ]
    }
   ],
   "source": [
    "# define scan pattern\n",
    "L = 75  # size of scan pattern\n",
    "orbitpoints = 6  # number of probing points in orbit\n",
    "probecenter = True  # should we also probe the center?\n",
    "laserpower = 5  # relative, increases brightness\n",
    "pointdwelltime = 0.1  # ms, measurement time in each point\n",
    "repetitions = 2 # how often to repeat the pattern scan\n",
    "\n",
    "# pr = cProfile.Profile()\n",
    "# pr.enable()\n",
    "\n",
    "sim.definePattern(\"donut\", psf_vec, \n",
    "                  phasemask=\"vortex\",\n",
    "                  makepattern=\"orbitscan\", \n",
    "                  orbitpoints=orbitpoints,\n",
    "                  probecenter=probecenter, \n",
    "                  orbitL=L, \n",
    "                  pointdwelltime=pointdwelltime, \n",
    "                  laserpower=laserpower, \n",
    "                  repetitions=repetitions)\n",
    "\n",
    "# pr.disable()\n",
    "# s = io.StringIO()\n",
    "# sortby = SortKey.TIME\n",
    "# ps = pstats.Stats(pr, stream=s).sort_stats(sortby)\n",
    "# ps.print_stats()\n",
    "# print(s.getvalue())"
   ]
  },
  {
   "cell_type": "code",
   "execution_count": 5,
   "metadata": {},
   "outputs": [],
   "source": [
    "# we need an estimator. Define as component\n",
    "sim.defineComponent(\"estdonut\", \"estimator\", est_quad2Diter, parameters=[L, probecenter], dim=(0,1))"
   ]
  },
  {
   "cell_type": "code",
   "execution_count": 6,
   "metadata": {},
   "outputs": [
    {
     "name": "stdout",
     "output_type": "stream",
     "text": [
      "vectorial PSF:\n",
      "[[14. 23. 52. ... 40. 28.  2.]\n",
      " [17. 15. 31. ... 33. 21.  2.]\n",
      " [21. 19. 38. ... 36. 17.  1.]\n",
      " ...\n",
      " [12. 30. 34. ... 37. 26.  1.]\n",
      " [18. 30. 26. ... 48. 21.  2.]\n",
      " [17. 31. 37. ... 38. 30.  2.]]\n",
      "photch: 15.4, 23.1, 38.5, 44.9, 38.1, 23.2, 2.1 mean(phot): 185.3   photon rate: 264.7 duration ms: 1400.0\n",
      "std:  2.24, 2.09, 0.00 rmse: 2.25, 2.09, 0.00 pos: 9.88, -0.04, 0.00 bias: -0.12, -0.04, 0.00\n",
      "locp: 1.95, 1.95, 0.00 sCRB: 1.92, 2.10, 0.00 sCRB*sqrt(phot): 26.1, 28.6, 0.0\n"
     ]
    }
   ],
   "source": [
    "seq = [\"donut\", \"estdonut\"]\n",
    "# mProfile.profileOn(['psf_vectorial.py', 'effField.py', 'field.py', 'effIntensity.py'])\n",
    "\n",
    "out = sim.runSequence(seq, maxlocs=numberOfLocalizations)\n",
    "\n",
    "\n",
    "# out.loc: localizations\n",
    "# out.fluorophores: position of fluorophores\n",
    "# out.raw: photon measurements\n",
    "sigmaCRB=sim.calculateCRBpattern(\"donut\", dim=(0,1))/np.sqrt(np.mean(out.loc.phot))\n",
    "\n",
    "print(\"vectorial PSF:\")\n",
    "sim.summarize_results(out)\n",
    "\n",
    "psf0, _ = psf_vec.imagestack(\"vortex\")\n",
    "\n",
    "# mProfile.profileOff()\n",
    "# mProfile.report()"
   ]
  },
  {
   "cell_type": "markdown",
   "metadata": {},
   "source": [
    "## Pinhole\n",
    "We simulate a pinhole in the detection channel."
   ]
  },
  {
   "cell_type": "code",
   "execution_count": 7,
   "metadata": {},
   "outputs": [
    {
     "name": "stdout",
     "output_type": "stream",
     "text": [
      "pinhole63300, "
     ]
    }
   ],
   "source": [
    "psf_vecph = PsfVectorial()\n",
    "psf_vecph.setpinhole(AU=1)"
   ]
  },
  {
   "cell_type": "code",
   "execution_count": 8,
   "metadata": {},
   "outputs": [
    {
     "name": "stdout",
     "output_type": "stream",
     "text": [
      "vortex0, "
     ]
    }
   ],
   "source": [
    "sim.definePattern(\"donut_ph\", psf_vecph, \n",
    "                  phasemask=\"vortex\",\n",
    "                  makepattern=\"orbitscan\", \n",
    "                  orbitpoints=orbitpoints,\n",
    "                  probecenter=probecenter, \n",
    "                  orbitL=L, \n",
    "                  pointdwelltime=pointdwelltime, \n",
    "                  laserpower=laserpower, \n",
    "                  repetitions=repetitions)"
   ]
  },
  {
   "cell_type": "code",
   "execution_count": 9,
   "metadata": {},
   "outputs": [
    {
     "name": "stdout",
     "output_type": "stream",
     "text": [
      "pinhole:\n",
      "[[15. 18. 27. ... 26. 22.  2.]\n",
      " [15. 17. 37. ... 29. 15.  1.]\n",
      " [18. 18. 34. ... 42. 23.  2.]\n",
      " ...\n",
      " [15. 16. 35. ... 24. 18.  0.]\n",
      " [14. 17. 27. ... 23. 20.  1.]\n",
      " [11. 15. 23. ... 36. 25.  1.]]\n",
      "photch: 12.9, 19.4, 31.3, 37.7, 31.8, 19.5, 1.8 mean(phot): 154.4   photon rate: 220.6 duration ms: 1400.0\n",
      "std:  2.54, 2.33, 0.00 rmse: 2.55, 2.33, 0.00 pos: 9.80, 0.13, 0.00 bias: -0.20, 0.13, 0.00\n",
      "locp: 2.13, 2.13, 0.00 sCRB: 2.10, 2.30, 0.00 sCRB*sqrt(phot): 26.1, 28.6, 0.0\n"
     ]
    }
   ],
   "source": [
    "seq = [\"donut_ph\", \"estdonut\"]\n",
    "print(\"pinhole:\")\n",
    "out=sim.runSequence(seq)\n",
    "sim.summarize_results(out)\n",
    "\n",
    "psfph, _ = psf_vecph.imagestack(\"vortex\")"
   ]
  },
  {
   "cell_type": "code",
   "execution_count": 10,
   "metadata": {},
   "outputs": [
    {
     "data": {
      "application/vnd.jupyter.widget-view+json": {
       "model_id": "4b7225ed9b8a43c5a7b6c0d6488e5ca4",
       "version_major": 2,
       "version_minor": 0
      },
      "image/png": "[encoded data removed]",
      "text/html": [
       "\n",
       "            <div style=\"display: inline-block;\">\n",
       "                <div class=\"jupyter-widgets widget-label\" style=\"text-align: center;\">\n",
       "                    Figure\n",
       "                </div>\n",
       "                <img src='data:image/png;base64,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' width=640.0/>\n",
       "            </div>\n",
       "        "
      ],
      "text/plain": [
       "Canvas(toolbar=Toolbar(toolitems=[('Home', 'Reset original view', 'home', 'home'), ('Back', 'Back to previous …"
      ]
     },
     "metadata": {},
     "output_type": "display_data"
    },
    {
     "data": {
      "text/plain": [
       "(<Figure size 640x480 with 2 Axes>,\n",
       " [<python.tools.imx.IndexTracker at 0x106d42090>,\n",
       "  <python.tools.imx.IndexTracker at 0x115f7d210>])"
      ]
     },
     "execution_count": 10,
     "metadata": {},
     "output_type": "execute_result"
    }
   ],
   "source": [
    "imx([psf0, psfph])"
   ]
  },
  {
   "cell_type": "markdown",
   "metadata": {},
   "source": [
    "## Misaligned pinhole\n",
    "Now, lets move the pinhole (misalignment)."
   ]
  },
  {
   "cell_type": "code",
   "execution_count": 11,
   "metadata": {},
   "outputs": [
    {
     "name": "stdout",
     "output_type": "stream",
     "text": [
      "pinhole6331500, "
     ]
    }
   ],
   "source": [
    "psf_vecph2 = PsfVectorial()\n",
    "psf_vecph2.setpinhole(AU=1, offset=[150, 0])"
   ]
  },
  {
   "cell_type": "code",
   "execution_count": 12,
   "metadata": {},
   "outputs": [
    {
     "name": "stdout",
     "output_type": "stream",
     "text": [
      "vortex0, "
     ]
    }
   ],
   "source": [
    "sim.definePattern(\"donut_ph\", psf_vecph2, \n",
    "                  phasemask=\"vortex\",\n",
    "                  makepattern=\"orbitscan\", \n",
    "                  orbitpoints=orbitpoints,\n",
    "                  probecenter=probecenter, \n",
    "                  orbitL=L, \n",
    "                  pointdwelltime=pointdwelltime, \n",
    "                  laserpower=laserpower, \n",
    "                  repetitions=repetitions)"
   ]
  },
  {
   "cell_type": "code",
   "execution_count": 13,
   "metadata": {},
   "outputs": [
    {
     "name": "stdout",
     "output_type": "stream",
     "text": [
      "pinhole misaligned:\n",
      "[[10. 20. 35. ... 27. 22.  1.]\n",
      " [ 6. 19. 39. ... 29. 20.  2.]\n",
      " [11. 15. 28. ... 34. 19.  0.]\n",
      " ...\n",
      " [11. 16. 36. ... 37. 20.  1.]\n",
      " [ 8. 13. 34. ... 35. 15.  3.]\n",
      " [10. 17. 33. ... 25. 18.  1.]]\n",
      "photch: 12.9, 19.5, 31.7, 37.9, 32.0, 19.5, 1.9 mean(phot): 155.3   photon rate: 221.8 duration ms: 1400.0\n",
      "std:  2.51, 2.40, 0.00 rmse: 2.51, 2.40, 0.00 pos: 9.91, 0.06, 0.00 bias: -0.09, 0.06, 0.00\n",
      "locp: 2.13, 2.13, 0.00 sCRB: 2.09, 2.30, 0.00 sCRB*sqrt(phot): 26.1, 28.6, 0.0\n"
     ]
    },
    {
     "data": {
      "text/plain": [
       "Summary(photch=array([12.87287287, 19.47247247, 31.70770771, 37.85185185, 31.97297297,\n",
       "       19.50550551,  1.86686687]), bg_photons_gt=np.float64(0.0), bg_photons_est=np.float64(0.0), phot=np.float64(155.25025025025025), phot_signal=np.float64(155.25025025025025), pos=array([9.91169655, 0.06015685, 0.        ]), std=array([2.50545072, 2.39691854, 0.        ]), rmse=array([2.50700635, 2.39767331, 0.        ]), bias=array([-0.08830345,  0.06015685,  0.        ]), locp=array([2.12813961, 2.12813961, 0.        ]), sCRB=array([2.09444604, 2.29695914, 0.        ]), sCRB1=array([26.09668419, 28.61998646,  0.        ]), duration=array([1400.]), stdraw=array([2.50545072, 2.39691854, 0.        ]), efo=None, photrate=np.float64(221.7860717860718))"
      ]
     },
     "execution_count": 13,
     "metadata": {},
     "output_type": "execute_result"
    }
   ],
   "source": [
    "seq = [\"donut_ph\", \"estdonut\"]\n",
    "print(\"pinhole misaligned:\")\n",
    "out=sim.runSequence(seq)\n",
    "sim.summarize_results(out)"
   ]
  },
  {
   "cell_type": "code",
   "execution_count": 14,
   "metadata": {},
   "outputs": [],
   "source": [
    "# psfph2, _ = psf_vecph2.imagestack(\"vortex\")\n",
    "# imx([psf0, psfph2])"
   ]
  },
  {
   "cell_type": "markdown",
   "metadata": {},
   "source": [
    "## Aberrations\n",
    "Let us change the PSF by adding aberrations. Note, in this case we have to define the pattern again to calculate the PSFs anew. Instead here, we create a second PSF object."
   ]
  },
  {
   "cell_type": "code",
   "execution_count": 15,
   "metadata": {},
   "outputs": [
    {
     "name": "stdout",
     "output_type": "stream",
     "text": [
      "pinhole63300, "
     ]
    }
   ],
   "source": [
    "psf_vec2 = PsfVectorial()\n",
    "psf_vec2.setpinhole(AU=1)\n",
    "\n",
    "# Add Zernike:\n",
    "# Zr(k,0): n, Zr(k,1): m, Zr(k,2): amplitude as fraction of wavelength\n",
    "sys_aberr = {}\n",
    "sys_aberr['Zr'] = np.zeros((2,3))\n",
    "sys_aberr['Zr'][0,0], sys_aberr['Zr'][0,1], sys_aberr['Zr'][0,2] = 4, 0, 0.3  # spherical aberrations \n",
    "sys_aberr['Zr'][1,0], sys_aberr['Zr'][1,1], sys_aberr['Zr'][1,2] = 2, 2, 0.05  # astigmatism \n",
    "sys_aberr['maskshift'] = [0,0]\n",
    "psf_vec2.setpar(**sys_aberr)"
   ]
  },
  {
   "cell_type": "code",
   "execution_count": 16,
   "metadata": {},
   "outputs": [
    {
     "name": "stdout",
     "output_type": "stream",
     "text": [
      "vortex0, aberrations:\n",
      "[[ 5. 12. 18. 15.  2.]\n",
      " [ 4. 10. 18. 15.  0.]\n",
      " [ 4.  9. 11. 10.  3.]\n",
      " ...\n",
      " [ 7. 13. 11. 13.  0.]\n",
      " [ 3. 13. 13.  8.  1.]\n",
      " [ 5. 15. 12. 19.  1.]]\n",
      "photch: 6.6, 12.0, 17.5, 13.6, 1.5 mean(phot): 51.4   photon rate: 102.7 duration ms: 1000.0\n",
      "std:  4.58, 4.34, 0.00 rmse: 4.66, 4.54, 0.00 pos: 9.14, 1.31, 0.00 bias: -0.86, 1.31, 0.00\n",
      "locp: 3.70, 3.70, 0.00 sCRB: 4.22, 4.50, 0.00 sCRB*sqrt(phot): 30.2, 32.2, 0.0\n"
     ]
    },
    {
     "data": {
      "text/plain": [
       "Summary(photch=array([ 6.63963964, 12.03303303, 17.52552553, 13.60860861,  1.54954955]), bg_photons_gt=np.float64(0.0), bg_photons_est=np.float64(0.0), phot=np.float64(51.35635635635636), phot_signal=np.float64(51.35635635635636), pos=array([9.14417671, 1.31277101, 0.        ]), std=array([4.5770453 , 4.34268067, 0.        ]), rmse=array([4.65636953, 4.53676571, 0.        ]), bias=array([-0.85582329,  1.31277101,  0.        ]), locp=array([3.70014862, 3.70014862, 0.        ]), sCRB=array([4.2209576 , 4.49707402, 0.        ]), sCRB1=array([30.24879593, 32.22753864,  0.        ]), duration=array([1000.]), stdraw=array([4.5770453 , 4.34268067, 0.        ]), efo=None, photrate=np.float64(102.71271271271272))"
      ]
     },
     "execution_count": 16,
     "metadata": {},
     "output_type": "execute_result"
    }
   ],
   "source": [
    "sim.definePattern(\"donut_aber\", psf_vec2, \n",
    "                  phasemask=\"vortex\",\n",
    "                  makepattern=\"orbitscan\", \n",
    "                  orbitpoints=4,\n",
    "                  probecenter=probecenter, \n",
    "                  orbitL=L, \n",
    "                  pointdwelltime=pointdwelltime, \n",
    "                  laserpower=laserpower, \n",
    "                  repetitions=repetitions)\n",
    "\n",
    "seq = [\"donut_aber\", \"estdonut\"]\n",
    "out = sim.runSequence(seq)\n",
    "\n",
    "print(\"aberrations:\")\n",
    "sim.summarize_results(out)"
   ]
  },
  {
   "cell_type": "code",
   "execution_count": 17,
   "metadata": {},
   "outputs": [],
   "source": [
    "# uncomment to show PSF:\n",
    "# psfab, _ = psf_vec2.imagestack(\"vortex\")\n",
    "# imx([psf0, psfab])"
   ]
  },
  {
   "cell_type": "markdown",
   "metadata": {},
   "source": [
    "## Misaligned phase plate"
   ]
  },
  {
   "cell_type": "code",
   "execution_count": 18,
   "metadata": {},
   "outputs": [
    {
     "name": "stdout",
     "output_type": "stream",
     "text": [
      "pinhole63300, "
     ]
    }
   ],
   "source": [
    "# psf_vec2 = PsfVectorial()\n",
    "psf_vec2.setpinhole(AU=1)\n",
    "\n",
    "# Add Zernike:\n",
    "# Zr(k,0): n, Zr(k,1): m, Zr(k,2): amplitude as fraction of wavelength\n",
    "sys_mis = {}\n",
    "sys_mis['Zr'] = np.zeros((2,3))\n",
    "sys_mis['Zr'][0,0], sys_mis['Zr'][0,1], sys_mis['Zr'][0,2] = 4, 0, 0.0  # spherical aberrations \n",
    "sys_mis['Zr'][1,0], sys_mis['Zr'][1,1], sys_mis['Zr'][1,2] = 2, 2, 0.0  # astigmatism \n",
    "sys_mis['maskshift'] = [0.2,0]\n",
    "psf_vec2.setpar(**sys_mis)"
   ]
  },
  {
   "cell_type": "code",
   "execution_count": 19,
   "metadata": {},
   "outputs": [
    {
     "name": "stdout",
     "output_type": "stream",
     "text": [
      "vortex0, misaligned phase plate:\n",
      "[[98. 73. 23. ... 16. 59. 19.]\n",
      " [68. 62. 21. ... 21. 56. 22.]\n",
      " [61. 49. 17. ... 28. 69. 10.]\n",
      " ...\n",
      " [66. 63. 28. ... 14. 55. 16.]\n",
      " [83. 67. 16. ... 18. 55. 13.]\n",
      " [81. 59. 24. ... 16. 70. 14.]]\n",
      "photch: 80.4, 60.1, 19.9, 0.7, 19.6, 59.6, 17.6 mean(phot): 258.0   photon rate: 368.5 duration ms: 1400.0\n",
      "std:  7.16, 3.31, 0.00 rmse: 45.26, 3.31, 0.00 pos: -34.69, -0.20, 0.00 bias: -44.69, -0.20, 0.00\n",
      "locp: 1.65, 1.65, 0.00 sCRB: 3.18, 2.73, 0.00 sCRB*sqrt(phot): 51.1, 43.8, 0.0\n"
     ]
    },
    {
     "data": {
      "text/plain": [
       "Summary(photch=array([80.37737738, 60.05005005, 19.94794795,  0.67067067, 19.64264264,\n",
       "       59.63263263, 17.63863864]), bg_photons_gt=np.float64(0.0), bg_photons_est=np.float64(0.0), phot=np.float64(257.95995995996), phot_signal=np.float64(257.95995995996), pos=array([-34.68892692,  -0.20220101,   0.        ]), std=array([7.15775634, 3.30777509, 0.        ]), rmse=array([45.25852036,  3.31394951,  0.        ]), bias=array([-44.68892692,  -0.20220101,   0.        ]), locp=array([1.65097356, 1.65097356, 0.        ]), sCRB=array([3.18051081, 2.72788521, 0.        ]), sCRB1=array([51.08260387, 43.81292431,  0.        ]), duration=array([1400.00000001]), stdraw=array([7.15775634, 3.30777509, 0.        ]), efo=None, photrate=np.float64(368.5142285142285))"
      ]
     },
     "execution_count": 19,
     "metadata": {},
     "output_type": "execute_result"
    }
   ],
   "source": [
    "sim.definePattern(\"donut_misaligned\", psf_vec2, \n",
    "                  phasemask=\"vortex\",\n",
    "                  makepattern=\"orbitscan\", \n",
    "                  orbitpoints=orbitpoints,\n",
    "                  probecenter=probecenter, \n",
    "                  orbitL=L, \n",
    "                  pointdwelltime=pointdwelltime, \n",
    "                  laserpower=laserpower, \n",
    "                  repetitions=repetitions)\n",
    "\n",
    "seq = [\"donut_misaligned\", \"estdonut\"]\n",
    "out = sim.runSequence(seq)\n",
    "\n",
    "print(\"misaligned phase plate:\")\n",
    "sim.summarize_results(out)"
   ]
  },
  {
   "cell_type": "code",
   "execution_count": 20,
   "metadata": {},
   "outputs": [],
   "source": [
    "# uncomment to show PSF:\n",
    "# psfab, _ = psf_vec2.imagestack(\"vortex\")\n",
    "# imx([psf0, psfab])"
   ]
  },
  {
   "cell_type": "markdown",
   "metadata": {},
   "source": [
    "## Zero offset\n",
    "Now, let's add an offset to the PSF to make the minium non-zero."
   ]
  },
  {
   "cell_type": "code",
   "execution_count": 21,
   "metadata": {},
   "outputs": [
    {
     "name": "stdout",
     "output_type": "stream",
     "text": [
      "zero offset = 0.005:\n",
      "[[76. 55. 15. ... 17. 51. 19.]\n",
      " [61. 73. 19. ... 24. 58. 12.]\n",
      " [86. 46. 23. ... 14. 77. 15.]\n",
      " ...\n",
      " [82. 62. 27. ... 16. 70. 12.]\n",
      " [74. 56. 17. ... 20. 57. 27.]\n",
      " [75. 50. 18. ... 25. 60. 16.]]\n",
      "photch: 80.1, 59.8, 19.9, 0.7, 19.9, 59.5, 17.3 mean(phot): 257.2   photon rate: 367.5 duration ms: 1400.0\n",
      "std:  7.18, 3.16, 0.00 rmse: 44.46, 3.16, 0.00 pos: -33.88, -0.10, 0.00 bias: -43.88, -0.10, 0.00\n",
      "locp: 1.65, 1.65, 0.00 sCRB: 3.18, 2.73, 0.00 sCRB*sqrt(phot): 51.1, 43.8, 0.0\n"
     ]
    },
    {
     "data": {
      "text/plain": [
       "Summary(photch=array([80.12212212, 59.81081081, 19.93493493,  0.67867868, 19.90990991,\n",
       "       59.51451451, 17.26726727]), bg_photons_gt=np.float64(0.0), bg_photons_est=np.float64(0.0), phot=np.float64(257.23823823823824), phot_signal=np.float64(257.23823823823824), pos=array([-33.87972384,  -0.09883937,   0.        ]), std=array([7.17688613, 3.1605171 , 0.        ]), rmse=array([44.46276936,  3.16206223,  0.        ]), bias=array([-43.87972384,  -0.09883937,   0.        ]), locp=array([1.65328797, 1.65328797, 0.        ]), sCRB=array([3.18496939, 2.73170928, 0.        ]), sCRB1=array([51.08260387, 43.81292431,  0.        ]), duration=array([1400.00000001]), stdraw=array([7.17688613, 3.1605171 , 0.        ]), efo=None, photrate=np.float64(367.48319748319744))"
      ]
     },
     "execution_count": 21,
     "metadata": {},
     "output_type": "execute_result"
    }
   ],
   "source": [
    "psf_vec.zerooffset=0.005\n",
    "out = sim.runSequence(seq)\n",
    "print(f\"zero offset = {psf_vec.zerooffset}:\")\n",
    "sim.summarize_results(out)"
   ]
  },
  {
   "cell_type": "markdown",
   "metadata": {},
   "source": [
    "## Bead size"
   ]
  },
  {
   "cell_type": "code",
   "execution_count": 22,
   "metadata": {},
   "outputs": [
    {
     "name": "stdout",
     "output_type": "stream",
     "text": [
      "pinhole63300, "
     ]
    }
   ],
   "source": [
    "psf_vec2.setpinhole(AU=1)\n",
    "\n",
    "# Add Zernike:\n",
    "# Zr(k,0): n, Zr(k,1): m, Zr(k,2): amplitude as fraction of wavelength\n",
    "sys_b = {}\n",
    "sys_b['Zr'] = np.zeros((2,3))\n",
    "sys_b['Zr'][0,0], sys_b['Zr'][0,1], sys_b['Zr'][0,2] = 4, 0, 0.0  # spherical aberrations \n",
    "sys_b['Zr'][1,0], sys_b['Zr'][1,1], sys_b['Zr'][1,2] = 2, 2, 0.0  # astigmatism \n",
    "sys_b['maskshift'] = [0.0,0]\n",
    "sys_b['beadradius'] = 50e-9  # 100 nm beads\n",
    "psf_vec2.setpar(**sys_b)"
   ]
  },
  {
   "cell_type": "code",
   "execution_count": 23,
   "metadata": {},
   "outputs": [
    {
     "name": "stdout",
     "output_type": "stream",
     "text": [
      "vortex0, bead size:\n",
      "[[24. 39. 56. ... 47. 31. 17.]\n",
      " [31. 38. 41. ... 50. 39. 13.]\n",
      " [25. 38. 40. ... 44. 32. 20.]\n",
      " ...\n",
      " [36. 40. 36. ... 41. 38. 25.]\n",
      " [26. 32. 49. ... 41. 34. 23.]\n",
      " [36. 28. 46. ... 45. 33. 14.]]\n",
      "photch: 28.2, 33.9, 44.9, 50.3, 45.1, 33.9, 17.7 mean(phot): 254.0   photon rate: 362.9 duration ms: 1400.0\n",
      "std:  1.82, 1.84, 0.00 rmse: 4.81, 1.84, 0.00 pos: 5.54, 0.03, 0.00 bias: -4.46, 0.03, 0.00\n",
      "locp: 1.66, 1.66, 0.00 sCRB: 3.40, 3.23, 0.00 sCRB*sqrt(phot): 54.1, 51.5, 0.0\n"
     ]
    },
    {
     "data": {
      "text/plain": [
       "Summary(photch=array([28.15215215, 33.93293293, 44.86586587, 50.33233233, 45.12512513,\n",
       "       33.85485485, 17.73273273]), bg_photons_gt=np.float64(0.0), bg_photons_est=np.float64(0.0), phot=np.float64(253.995995995996), phot_signal=np.float64(253.995995995996), pos=array([5.54168927, 0.03089028, 0.        ]), std=array([1.81855011, 1.83695304, 0.        ]), rmse=array([4.81494123, 1.83721274, 0.        ]), bias=array([-4.45831073,  0.03089028,  0.        ]), locp=array([1.66380657, 1.66380657, 0.        ]), sCRB=array([3.3950024 , 3.23242535, 0.        ]), sCRB1=array([54.10700817, 51.51597686,  0.        ]), duration=array([1400.00000001]), stdraw=array([1.81855011, 1.83695304, 0.        ]), efo=None, photrate=np.float64(362.85142285142285))"
      ]
     },
     "execution_count": 23,
     "metadata": {},
     "output_type": "execute_result"
    }
   ],
   "source": [
    "sim.definePattern(\"donut_bead\", psf_vec2, \n",
    "                  phasemask=\"vortex\",\n",
    "                  makepattern=\"orbitscan\", \n",
    "                  orbitpoints=orbitpoints,\n",
    "                  probecenter=probecenter, \n",
    "                  orbitL=L, \n",
    "                  pointdwelltime=pointdwelltime, \n",
    "                  laserpower=laserpower, \n",
    "                  repetitions=repetitions)\n",
    "\n",
    "seq = [\"donut_bead\", \"estdonut\"]\n",
    "out = sim.runSequence(seq)\n",
    "\n",
    "print(\"bead size:\")\n",
    "sim.summarize_results(out)"
   ]
  },
  {
   "cell_type": "markdown",
   "metadata": {},
   "source": [
    "## 3D with tophat"
   ]
  },
  {
   "cell_type": "code",
   "execution_count": null,
   "metadata": {},
   "outputs": [
    {
     "name": "stdout",
     "output_type": "stream",
     "text": [
      "pinhole63300, "
     ]
    }
   ],
   "source": [
    "sim.fluorophores.pos = [10, 0, 20]\n",
    "psf_vecth = PsfVectorial()\n",
    "psf_vecth.setpinhole(\"AU\",1)\n",
    "\n",
    "orbitpoints = 4\n",
    "probecenterxy = True\n",
    "probecenterz = True\n",
    "L = 75\n",
    "Lz = 150\n",
    "\n",
    "laserpower = 30"
   ]
  },
  {
   "cell_type": "code",
   "execution_count": null,
   "metadata": {},
   "outputs": [],
   "source": [
    "sim.definePattern(\"tophat_xy\", psf_vecth, \n",
    "                  phasemask=\"tophat\",\n",
    "                  makepattern=\"orbitscan\", \n",
    "                  orbitpoints=orbitpoints,\n",
    "                  probecenter=probecenterxy, \n",
    "                  orbitL=L, \n",
    "                  pointdwelltime=pointdwelltime, \n",
    "                  laserpower=laserpower, \n",
    "                  repetitions=repetitions,\n",
    "                  dim=(0,1))\n",
    "\n",
    "sim.definePattern(\"tophat_z\", psf_vecth, \n",
    "                  phasemask=\"tophat\",\n",
    "                  makepattern=\"zscan\", \n",
    "                  orbitpoints=2,\n",
    "                  probecenter=probecenterz, \n",
    "                  orbitL=Lz, \n",
    "                  pointdwelltime=pointdwelltime, \n",
    "                  laserpower=laserpower, \n",
    "                  repetitions=repetitions,\n",
    "                  dim=(2,))"
   ]
  },
  {
   "cell_type": "code",
   "execution_count": null,
   "metadata": {},
   "outputs": [],
   "source": [
    "sim.defineComponent(\"esttophat_xy\", \"estimator\", est_quad2Diter, parameters=[L, probecenter], dim=(0,1))\n",
    "sim.defineComponent(\"esttophat_z\", \"estimator\", est_quad1Diter, parameters=[Lz], dim=(2,))"
   ]
  },
  {
   "cell_type": "code",
   "execution_count": null,
   "metadata": {},
   "outputs": [],
   "source": [
    "seq = [\"tophat_xy\", \"esttophat_xy\", \"tophat_z\", \"esttophat_z\"]\n",
    "out=sim.runSequence(seq)\n",
    "\n",
    "print(\"3D with tophat:\")\n",
    "sim.summarize_results(out)"
   ]
  },
  {
   "cell_type": "markdown",
   "metadata": {},
   "source": [
    "## 3D with tophat and vortex"
   ]
  },
  {
   "cell_type": "code",
   "execution_count": null,
   "metadata": {},
   "outputs": [],
   "source": [
    "laserpower=5\n",
    "sim.definePattern(\"donut_xy\", psf_vecth, \n",
    "                  phasemask=\"vortex\",\n",
    "                  makepattern=\"orbitscan\", \n",
    "                  orbitpoints=orbitpoints,\n",
    "                  probecenter=probecenter, \n",
    "                  orbitL=L, \n",
    "                  pointdwelltime=pointdwelltime, \n",
    "                  laserpower=laserpower, \n",
    "                  repetitions=repetitions,\n",
    "                  dim=(0,1))"
   ]
  },
  {
   "cell_type": "code",
   "execution_count": null,
   "metadata": {},
   "outputs": [],
   "source": [
    "seq = [\"donut_xy\", \"estdonut\", \"tophat_z\", \"esttophat_z\"]\n",
    "out=sim.runSequence(seq)\n",
    "\n",
    "print(\"3D with donut and tophat:\")\n",
    "sim.summarize_results(out)"
   ]
  },
  {
   "cell_type": "markdown",
   "metadata": {},
   "source": [
    "## PhaseFlux 3D localization"
   ]
  },
  {
   "cell_type": "code",
   "execution_count": null,
   "metadata": {},
   "outputs": [],
   "source": [
    "sim.fluorophores.pos = [0, 0, 0]\n",
    "psf_vecphaseflux = PsfVectorial()\n",
    "psf_vecphaseflux.setpinhole(\"AU\",1)\n",
    "\n",
    "L = 75\n",
    "Lz = 150\n",
    "fwhm = 450\n",
    "sigmaz = 200\n",
    "laserpower = 5\n",
    "laserpowerz = 30\n",
    "zeroposx = np.atleast_2d(np.array([-1,1,0])*L/2)\n",
    "zeroposz = np.atleast_2d(np.array([-1,1,0])*Lz/2)"
   ]
  },
  {
   "cell_type": "code",
   "execution_count": null,
   "metadata": {},
   "outputs": [],
   "source": [
    "sim.definePattern(\"pf_x\", psf_vecphaseflux, \n",
    "                  phasemask=\"halfmoonx\",\n",
    "                  zeropos = zeroposx,\n",
    "                  pointdwelltime=pointdwelltime, \n",
    "                  laserpower=laserpower, \n",
    "                  repetitions=repetitions,\n",
    "                  dim=(0,))\n",
    "\n",
    "sim.definePattern(\"pf_y\", psf_vecphaseflux, \n",
    "                  phasemask=\"halfmoony\",\n",
    "                  zeropos = zeroposx,\n",
    "                  pointdwelltime=pointdwelltime, \n",
    "                  laserpower=laserpower, \n",
    "                  repetitions=repetitions,\n",
    "                  dim=(1,))\n",
    "\n",
    "sim.definePattern(\"pf_z\", psf_vecphaseflux, \n",
    "                  phasemask=\"tophat\",\n",
    "                  zeropos = zeroposz,\n",
    "                  pointdwelltime=pointdwelltime, \n",
    "                  laserpower=laserpowerz, \n",
    "                  repetitions=repetitions,\n",
    "                  dim=(2,))"
   ]
  },
  {
   "cell_type": "code",
   "execution_count": null,
   "metadata": {},
   "outputs": [],
   "source": [
    "sim.defineComponent(\"est_x\", \"estimator\", est_quad1Diter, parameters=[L], dim=(0,))\n",
    "sim.defineComponent(\"est_y\", \"estimator\", est_quad1Diter, parameters=[L], dim=(1,))\n",
    "sim.defineComponent(\"est_z\", \"estimator\", est_quad1Diter, parameters=[Lz], dim=(2,))"
   ]
  },
  {
   "cell_type": "code",
   "execution_count": null,
   "metadata": {},
   "outputs": [],
   "source": [
    "seq = [\"pf_x\", \"est_x\", \"pf_y\", \"est_y\", \"pf_z\", \"est_z\"]\n",
    "out=sim.runSequence(seq)\n",
    "print(\"PhaseFLUX:\")\n",
    "sim.summarize_results(out)"
   ]
  }
 ],
 "metadata": {
  "kernelspec": {
   "display_name": "expansion",
   "language": "python",
   "name": "python3"
  },
  "language_info": {
   "codemirror_mode": {
    "name": "ipython",
    "version": 3
   },
   "file_extension": ".py",
   "mimetype": "text/x-python",
   "name": "python",
   "nbconvert_exporter": "python",
   "pygments_lexer": "ipython3",
   "version": "3.11.10"
  }
 },
 "nbformat": 4,
 "nbformat_minor": 2
}
