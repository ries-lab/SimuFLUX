{
 "cells": [
  {
   "cell_type": "code",
   "execution_count": null,
   "metadata": {},
   "outputs": [],
   "source": [
    "%matplotlib widget\n",
    "\n",
    "import sys\n",
    "import os\n",
    "from pathlib import Path\n",
    "\n",
    "SCRIPT_DIR = Path(os.getcwd()).parent\n",
    "sys.path.append(os.path.dirname(SCRIPT_DIR))"
   ]
  },
  {
   "cell_type": "code",
   "execution_count": null,
   "metadata": {},
   "outputs": [],
   "source": [
    "import numpy as np\n",
    "import matplotlib.pyplot as plt\n",
    "\n",
    "from python.fluorophores import FlMoving\n",
    "from python.fluorophores import FlMoveBleach\n",
    "from python.simulators import SimSequencefile"
   ]
  },
  {
   "cell_type": "code",
   "execution_count": null,
   "metadata": {},
   "outputs": [],
   "source": [
    "sim = SimSequencefile()"
   ]
  },
  {
   "cell_type": "code",
   "execution_count": null,
   "metadata": {},
   "outputs": [],
   "source": [
    "fname = os.path.join(SCRIPT_DIR, \"examples\", \"Tracking_2D.json\")\n",
    "fname2 = os.path.join(SCRIPT_DIR, \"settings\", \"PSFvectorial2D.json\") # use a PSF that is defined via a json file\n",
    "sim.loadsequence(fname, fname2)\n",
    "sim.makepatterns()"
   ]
  },
  {
   "cell_type": "markdown",
   "metadata": {},
   "source": [
    "## Make diffusing, bleaching fluorophores"
   ]
  },
  {
   "cell_type": "code",
   "execution_count": null,
   "metadata": {},
   "outputs": [],
   "source": [
    "fig = plt.figure()\n",
    "ax = fig.add_subplot(221)\n",
    "\n",
    "sim.posgalvo = [0, 0, 0]\n",
    "sim.posEOD = [0, 0, 0]\n",
    "sim.time = 0\n",
    "sim.background = 0\n",
    "fl = FlMoveBleach()\n",
    "fl.photonbudget = 100000\n",
    "updatetime = 0.01  # ms\n",
    "D = 0.5  # um^2/s\n",
    "fl.makediffusion(D, updatetime)\n",
    "# diffusion coefficient, update time args.startpos,dim, numpoints, buondarybox\n",
    "sim.fluorophores = fl\n",
    "\n",
    "out = sim.runSequence(repetitions=1)\n",
    "sim.plotpositions(out, xvalues=\"time\")\n",
    "\n"
   ]
  },
  {
   "cell_type": "code",
   "execution_count": null,
   "metadata": {},
   "outputs": [],
   "source": [
    "ax = fig.add_subplot(222)\n",
    "ax.plot(out.loc.xnm, out.loc.ynm, color='k')\n",
    "ax.plot(out.loc.xfl1,out.loc.yfl1, color='r')\n",
    "ax.plot(out.loc.xgalvo+out.loc.xeod, out.loc.ygalvo+out.loc.yeod, color='g')\n",
    "ax.legend(['estimated','fluorophore','galvo+EOD'])\n",
    "ax.set_aspect('equal')\n",
    "ax.set_xlabel(\"x (nm)\")\n",
    "ax.set_ylabel(\"y (nm)\")\n",
    "ax.set_title(\"diffusion\")"
   ]
  },
  {
   "cell_type": "markdown",
   "metadata": {},
   "source": [
    "## Make stepping fluorophore"
   ]
  },
  {
   "cell_type": "code",
   "execution_count": null,
   "metadata": {},
   "outputs": [],
   "source": [
    "sim.posgalvo = [0, 0, 0]\n",
    "sim.posEOD = [0, 0, 0]\n",
    "sim.time = 0\n",
    "fl2 = FlMoveBleach()\n",
    "fl2.photonbudget = 5000\n",
    "fl2.brightness = 200\n",
    "updatetime = 0.01  # us\n",
    "stepsize = 16  # nm\n",
    "dwelltime = 28  # ms\n",
    "fl2.makesteps(stepsize, dwelltime, updatetime, angle=0, startpos=[50,0,0])\n",
    "\n",
    "sim.fluorophores = fl2\n",
    "sim.posgalvo = [0, 0, 0]\n",
    "sim.posEOD = [0, 0, 0]\n",
    "sim.time = 0\n",
    "out=sim.runSequence(repetitions=1)"
   ]
  },
  {
   "cell_type": "code",
   "execution_count": null,
   "metadata": {},
   "outputs": [],
   "source": [
    "fig.add_subplot(223)\n",
    "sim.plotpositions(out, xvalues=\"time\")\n",
    "ax.set_title(\"stepping\")"
   ]
  },
  {
   "cell_type": "code",
   "execution_count": null,
   "metadata": {},
   "outputs": [],
   "source": [
    "fig.tight_layout()"
   ]
  },
  {
   "cell_type": "markdown",
   "metadata": {},
   "source": [
    "## Instabilities: vibrations"
   ]
  },
  {
   "cell_type": "code",
   "execution_count": null,
   "metadata": {},
   "outputs": [],
   "source": [
    "fl3 = FlMoving(brightness=50000) # collect more photons\n",
    "fl3.posmode = 'function'\n",
    "\n",
    "frequencies = [0.05, 0.1, 0.2, 0.5, 1, 2, 5, 10]  # kHz\n",
    "\n",
    "amplitude = 5 # nm\n",
    "\n",
    "stdx = np.zeros(len(frequencies))\n",
    "stdxrel = np.zeros(len(frequencies))\n",
    "\n",
    "for k in range(len(frequencies)):\n",
    "    posfl = [0, 0, 0]\n",
    "    fl3.posfunction = [lambda t: amplitude*np.sin(frequencies[k]*t) + posfl[0],\n",
    "                       lambda t: 0*t+posfl[1],\n",
    "                       lambda t: 0*t+posfl[2]]\n",
    "    sim.fluorophores = fl3\n",
    "    sim.posgalvo = [0, 0, 0]\n",
    "    sim.posEOD = [0, 0, 0]\n",
    "    sim.time = 0\n",
    "    out = sim.runSequence(repetitions=10)\n",
    "    filter = (out.loc.itr==max(out.loc.itr)) & (out.loc.vld==1)\n",
    "    sr = sim.summarize_results(out, display=False, filter=filter)\n",
    "    stdx[k] = sr.stdraw[0]\n",
    "    stdxrel[k] = sr.stdraw[0]/sr.sCRB[0]\n"
   ]
  },
  {
   "cell_type": "code",
   "execution_count": null,
   "metadata": {},
   "outputs": [],
   "source": [
    "fig = plt.figure()\n",
    "ax = fig.add_subplot(121)\n",
    "ax.semilogx(frequencies,stdxrel)\n",
    "ax.set_xlabel('frequncy (kHz)')\n",
    "ax.set_ylabel('std(x)/sCRB(x)')\n",
    "ax.set_title(\"vibrations: frequency\")"
   ]
  },
  {
   "cell_type": "code",
   "execution_count": null,
   "metadata": {},
   "outputs": [],
   "source": [
    "frequency=0.1\n",
    "amplitudes = range(0,12,2)\n",
    "stdxa = np.zeros(len(amplitudes))\n",
    "stdxrela = np.zeros(len(amplitudes))\n",
    "for k in range(len(amplitudes)):\n",
    "    posfl = [0, 0, 0]\n",
    "    fl3.posfunction = [lambda t: amplitudes[k]*np.sin(frequency*t)+posfl[0],\n",
    "                       lambda t: 0*t + posfl[1],\n",
    "                       lambda t: 0*t + posfl[2]]\n",
    "    sim.fluorophores = fl3\n",
    "    sim.posgalvo = [0, 0, 0]\n",
    "    sim.posEOD = [0, 0, 0]\n",
    "    sim.time = 0\n",
    "    out=sim.runSequence(repetitions=10)\n",
    "    filter = (out.loc.itr==max(out.loc.itr)) & (out.loc.vld==1)\n",
    "    sr = sim.summarize_results(out, display=False, filter=filter)\n",
    "    stdxa[k] = sr.stdraw[0]\n",
    "    stdxrela[k] = sr.stdraw[0]/sr.sCRB[0]"
   ]
  },
  {
   "cell_type": "code",
   "execution_count": null,
   "metadata": {},
   "outputs": [],
   "source": [
    "ax = fig.add_subplot(122)\n",
    "ax.plot(amplitudes,stdxrela)\n",
    "ax.set_xlabel('amplitude (nm)')\n",
    "ax.set_ylabel('std(x)/sCRB(x)')\n",
    "ax.set_title(\"vibrations: amplitude\")"
   ]
  },
  {
   "cell_type": "code",
   "execution_count": null,
   "metadata": {},
   "outputs": [],
   "source": [
    "fig.tight_layout()"
   ]
  },
  {
   "cell_type": "code",
   "execution_count": null,
   "metadata": {},
   "outputs": [],
   "source": []
  }
 ],
 "metadata": {
  "kernelspec": {
   "display_name": "expansion",
   "language": "python",
   "name": "expansion"
  },
  "language_info": {
   "codemirror_mode": {
    "name": "ipython",
    "version": 3
   },
   "file_extension": ".py",
   "mimetype": "text/x-python",
   "name": "python",
   "nbconvert_exporter": "python",
   "pygments_lexer": "ipython3",
   "version": "3.11.10"
  }
 },
 "nbformat": 4,
 "nbformat_minor": 2
}
