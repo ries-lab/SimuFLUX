{
 "cells": [
  {
   "cell_type": "code",
   "execution_count": 1,
   "metadata": {},
   "outputs": [],
   "source": [
    "%matplotlib widget\n",
    "\n",
    "import sys\n",
    "import os\n",
    "from pathlib import Path\n",
    "\n",
    "SCRIPT_DIR = Path(os.getcwd()).parent\n",
    "sys.path.append(os.path.dirname(SCRIPT_DIR))"
   ]
  },
  {
   "cell_type": "code",
   "execution_count": 2,
   "metadata": {},
   "outputs": [],
   "source": [
    "import matplotlib.pyplot as plt\n",
    "\n",
    "from python.fluorophores import FlMoveBleach\n",
    "from python.simulators import SimSequencefile"
   ]
  },
  {
   "cell_type": "code",
   "execution_count": 3,
   "metadata": {},
   "outputs": [],
   "source": [
    "sim = SimSequencefile()"
   ]
  },
  {
   "cell_type": "code",
   "execution_count": 4,
   "metadata": {},
   "outputs": [
    {
     "name": "stdout",
     "output_type": "stream",
     "text": [
      "pinhole94900, flat0, vortex0, "
     ]
    }
   ],
   "source": [
    "fname = os.path.join(SCRIPT_DIR, \"examples\", \"Tracking_2D.json\")\n",
    "fname2 = os.path.join(SCRIPT_DIR, \"settings\", \"PSFvectorial2D.json\") # use a PSF that is defined via a json file\n",
    "sim.loadsequence(fname, fname2)\n",
    "sim.makepatterns()"
   ]
  },
  {
   "cell_type": "code",
   "execution_count": 5,
   "metadata": {},
   "outputs": [
    {
     "data": {
      "application/vnd.jupyter.widget-view+json": {
       "model_id": "ea69bc7e477043a98c7597b2cbe3b4db",
       "version_major": 2,
       "version_minor": 0
      },
      "image/png": "[encoded data removed]",
      "text/html": [
       "\n",
       "            <div style=\"display: inline-block;\">\n",
       "                <div class=\"jupyter-widgets widget-label\" style=\"text-align: center;\">\n",
       "                    Figure\n",
       "                </div>\n",
       "                <img src='data:image/png;base64,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' width=640.0/>\n",
       "            </div>\n",
       "        "
      ],
      "text/plain": [
       "Canvas(toolbar=Toolbar(toolitems=[('Home', 'Reset original view', 'home', 'home'), ('Back', 'Back to previous …"
      ]
     },
     "metadata": {},
     "output_type": "display_data"
    }
   ],
   "source": [
    "## make diffusing, bleaching fluorophores\n",
    "fig = plt.figure()\n",
    "ax = fig.add_subplot(221)\n",
    "\n",
    "sim.posgalvo = [0, 0, 0]\n",
    "sim.posEOD = [0, 0, 0]\n",
    "sim.time = 0\n",
    "sim.background = 0\n",
    "fl = FlMoveBleach()\n",
    "fl.photonbudget = 100000\n",
    "updatetime = 0.01  # ms\n",
    "D = 0.5  # um^2/s\n",
    "fl.makediffusion(D, updatetime)\n",
    "# diffusion coefficient, update time args.startpos,dim, numpoints, buondarybox\n",
    "sim.fluorophores = fl\n"
   ]
  },
  {
   "cell_type": "code",
   "execution_count": null,
   "metadata": {},
   "outputs": [
    {
     "name": "stdout",
     "output_type": "stream",
     "text": [
      "         198898 function calls in 0.206 seconds\n",
      "\n",
      "   Ordered by: cumulative time\n",
      "\n",
      "   ncalls  tottime  percall  cumtime  percall filename:lineno(function)\n",
      "        2    0.000    0.000    0.206    0.103 /Users/zachcm/miniforge3/envs/expansion/lib/python3.11/site-packages/IPython/core/interactiveshell.py:3541(run_code)\n",
      "        2    0.000    0.000    0.206    0.103 {built-in method builtins.exec}\n",
      "        1    0.000    0.000    0.206    0.206 /var/folders/kd/wrptvww96j9_ltf5ds0590ww0000gn/T/ipykernel_96578/4126470633.py:1(<module>)\n",
      "        1    0.000    0.000    0.206    0.206 /Users/zachcm/Code/SimulFLUX/python/simulators/sim_sequencefile.py:311(runSequence)\n",
      "        1    0.009    0.009    0.206    0.206 /Users/zachcm/Code/SimulFLUX/python/simulators/sim_sequencefile.py:105(runSequenceintern)\n",
      "      282    0.032    0.000    0.184    0.001 /Users/zachcm/Code/SimulFLUX/python/simulators/simulator.py:226(patternscan)\n",
      "     1693    0.007    0.000    0.119    0.000 /Users/zachcm/Code/SimulFLUX/python/psfs/psf_vectorial.py:133(intensity)\n",
      "     3386    0.009    0.000    0.107    0.000 /Users/zachcm/miniforge3/envs/expansion/lib/python3.11/site-packages/scipy/interpolate/_rgi.py:334(__call__)\n",
      "     3386    0.008    0.000    0.046    0.000 /Users/zachcm/miniforge3/envs/expansion/lib/python3.11/site-packages/scipy/interpolate/_rgi.py:443(_prepare_xi)\n",
      "     3386    0.033    0.000    0.042    0.000 /Users/zachcm/miniforge3/envs/expansion/lib/python3.11/site-packages/scipy/interpolate/_ndbspline.py:114(__call__)\n",
      "     3386    0.027    0.000    0.028    0.000 /Users/zachcm/miniforge3/envs/expansion/lib/python3.11/site-packages/scipy/interpolate/_rgi.py:585(_find_out_of_bounds)\n",
      "     8919    0.006    0.000    0.018    0.000 /Users/zachcm/miniforge3/envs/expansion/lib/python3.11/site-packages/numpy/_core/fromnumeric.py:89(_wrapreduction_any_all)\n",
      "     6772    0.003    0.000    0.016    0.000 /Users/zachcm/miniforge3/envs/expansion/lib/python3.11/site-packages/numpy/_core/fromnumeric.py:2400(any)\n",
      "     1693    0.012    0.000    0.013    0.000 /Users/zachcm/Code/SimulFLUX/python/fluorophores/FlMoving.py:13(position)\n",
      "    12646    0.013    0.000    0.013    0.000 {method 'reduce' of 'numpy.ufunc' objects}\n",
      "     1693    0.007    0.000    0.011    0.000 /Users/zachcm/Code/SimulFLUX/python/fluorophores/FlBleach.py:10(intensity)\n",
      "     3159    0.002    0.000    0.009    0.000 /Users/zachcm/miniforge3/envs/expansion/lib/python3.11/site-packages/numpy/_core/fromnumeric.py:2255(sum)\n",
      "     3163    0.002    0.000    0.007    0.000 /Users/zachcm/miniforge3/envs/expansion/lib/python3.11/site-packages/numpy/_core/fromnumeric.py:69(_wrapreduction)\n",
      "     1693    0.004    0.000    0.005    0.000 /Users/zachcm/Code/SimulFLUX/python/psfs/psf_vectorial.py:45(genkey)\n",
      "     2147    0.001    0.000    0.005    0.000 /Users/zachcm/miniforge3/envs/expansion/lib/python3.11/site-packages/numpy/_core/fromnumeric.py:2513(all)\n",
      "    17110    0.004    0.000    0.004    0.000 {method 'reshape' of 'numpy.ndarray' objects}\n",
      "     7647    0.003    0.000    0.003    0.000 {built-in method numpy.zeros}\n",
      "     8919    0.003    0.000    0.003    0.000 /Users/zachcm/miniforge3/envs/expansion/lib/python3.11/site-packages/numpy/_core/fromnumeric.py:91(<dictcomp>)\n",
      "      179    0.001    0.000    0.002    0.000 /Users/zachcm/Code/SimulFLUX/python/estimators/est_donut2d.py:3(est_donut2d)\n",
      "    10158    0.002    0.000    0.002    0.000 {built-in method numpy.asarray}\n",
      "      282    0.001    0.000    0.002    0.000 /Users/zachcm/Code/SimulFLUX/python/tools/sumstruct.py:5(sumstruct)\n",
      "     6772    0.002    0.000    0.002    0.000 {method 'view' of 'numpy.ndarray' objects}\n",
      "    12982    0.001    0.000    0.001    0.000 {built-in method builtins.isinstance}\n",
      "     3386    0.001    0.000    0.001    0.000 /Users/zachcm/miniforge3/envs/expansion/lib/python3.11/site-packages/scipy/interpolate/_ndbspline.py:175(<listcomp>)\n",
      "     2618    0.001    0.000    0.001    0.000 {built-in method numpy.array}\n",
      "     3163    0.001    0.000    0.001    0.000 /Users/zachcm/miniforge3/envs/expansion/lib/python3.11/site-packages/numpy/_core/fromnumeric.py:70(<dictcomp>)\n",
      "        1    0.000    0.000    0.001    0.001 /Users/zachcm/Code/SimulFLUX/python/simulators/simulator.py:107(initlocs)\n",
      "        1    0.000    0.000    0.001    0.001 /Users/zachcm/Code/SimulFLUX/python/simulators/simulator.py:108(<dictcomp>)\n",
      "     3386    0.001    0.000    0.001    0.000 {built-in method numpy.empty}\n",
      "      564    0.000    0.000    0.001    0.000 {method 'sum' of 'numpy.ndarray' objects}\n",
      "        2    0.000    0.000    0.001    0.000 /Users/zachcm/miniforge3/envs/expansion/lib/python3.11/warnings.py:97(_showwarnmsg)\n",
      "        2    0.000    0.000    0.001    0.000 /Users/zachcm/miniforge3/envs/expansion/lib/python3.11/warnings.py:20(_showwarnmsg_impl)\n",
      "      180    0.001    0.000    0.001    0.000 /Users/zachcm/Code/SimulFLUX/python/tools/replace_in_list.py:1(replace_in_list)\n",
      "    12084    0.001    0.000    0.001    0.000 {method 'items' of 'dict' objects}\n",
      "      463    0.000    0.000    0.001    0.000 <string>:2(__init__)\n",
      "      564    0.000    0.000    0.001    0.000 /Users/zachcm/miniforge3/envs/expansion/lib/python3.11/site-packages/numpy/_core/_methods.py:50(_sum)\n",
      "        2    0.000    0.000    0.001    0.000 /Users/zachcm/miniforge3/envs/expansion/lib/python3.11/warnings.py:118(_formatwarnmsg)\n",
      "        2    0.000    0.000    0.001    0.000 /Users/zachcm/miniforge3/envs/expansion/lib/python3.11/warnings.py:35(_formatwarnmsg_impl)\n",
      "    10110    0.001    0.000    0.001    0.000 {built-in method builtins.len}\n",
      "        2    0.000    0.000    0.001    0.000 /Users/zachcm/miniforge3/envs/expansion/lib/python3.11/linecache.py:26(getline)\n",
      "        2    0.000    0.000    0.001    0.000 /Users/zachcm/miniforge3/envs/expansion/lib/python3.11/linecache.py:36(getlines)\n",
      "        1    0.000    0.000    0.001    0.001 /Users/zachcm/miniforge3/envs/expansion/lib/python3.11/linecache.py:80(updatecache)\n",
      "     6772    0.001    0.000    0.001    0.000 /Users/zachcm/miniforge3/envs/expansion/lib/python3.11/site-packages/numpy/_core/fromnumeric.py:2395(_any_dispatcher)\n",
      "     1693    0.001    0.000    0.001    0.000 /Users/zachcm/Code/SimulFLUX/python/psfs/psf_vectorial.py:58(<listcomp>)\n",
      "      282    0.001    0.000    0.001    0.000 /Users/zachcm/Code/SimulFLUX/python/estimators/backgroundsubtractor.py:1(backgroundsubtractor)\n",
      "      282    0.000    0.000    0.001    0.000 /Users/zachcm/miniforge3/envs/expansion/lib/python3.11/site-packages/numpy/_core/numeric.py:1918(isscalar)\n",
      "     1870    0.000    0.000    0.000    0.000 {method 'copy' of 'numpy.ndarray' objects}\n",
      "     3386    0.000    0.000    0.000    0.000 {method 'ravel' of 'numpy.ndarray' objects}\n",
      "      463    0.000    0.000    0.000    0.000 /Users/zachcm/Code/SimulFLUX/python/simulators/simulator.py:53(<lambda>)\n",
      "        1    0.000    0.000    0.000    0.000 /Users/zachcm/miniforge3/envs/expansion/lib/python3.11/tokenize.py:392(open)\n",
      "      282    0.000    0.000    0.000    0.000 /Users/zachcm/Code/SimulFLUX/python/fluorophores/Fluorophore.py:52(getproperties)\n",
      "        1    0.000    0.000    0.000    0.000 /Users/zachcm/miniforge3/envs/expansion/lib/python3.11/tokenize.py:299(detect_encoding)\n",
      "        1    0.000    0.000    0.000    0.000 /Users/zachcm/miniforge3/envs/expansion/lib/python3.11/tokenize.py:323(read_or_stop)\n",
      "        1    0.000    0.000    0.000    0.000 {method 'readline' of '_io.BufferedReader' objects}\n",
      "        2    0.000    0.000    0.000    0.000 /Users/zachcm/miniforge3/envs/expansion/lib/python3.11/site-packages/numpy/_core/shape_base.py:219(vstack)\n",
      "     3833    0.000    0.000    0.000    0.000 {built-in method builtins.getattr}\n",
      "     3159    0.000    0.000    0.000    0.000 /Users/zachcm/miniforge3/envs/expansion/lib/python3.11/site-packages/numpy/_core/fromnumeric.py:2250(_sum_dispatcher)\n",
      "     3386    0.000    0.000    0.000    0.000 {built-in method numpy.ascontiguousarray}\n",
      "        1    0.000    0.000    0.000    0.000 {method 'readlines' of '_io._IOBase' objects}\n",
      "     2147    0.000    0.000    0.000    0.000 /Users/zachcm/miniforge3/envs/expansion/lib/python3.11/site-packages/numpy/_core/fromnumeric.py:2508(_all_dispatcher)\n",
      "     1975    0.000    0.000    0.000    0.000 /Users/zachcm/Code/SimulFLUX/python/fluorophores/Fluorophore.py:15(pos)\n",
      "        2    0.000    0.000    0.000    0.000 /Users/zachcm/miniforge3/envs/expansion/lib/python3.11/site-packages/numpy/_core/shape_base.py:81(atleast_2d)\n",
      "     1693    0.000    0.000    0.000    0.000 {method 'join' of 'str' objects}\n",
      "      282    0.000    0.000    0.000    0.000 <frozen abc>:117(__instancecheck__)\n",
      "     1533    0.000    0.000    0.000    0.000 /Users/zachcm/Code/SimulFLUX/python/simulators/simulator.py:147(posgalvo)\n",
      "     1618    0.000    0.000    0.000    0.000 {built-in method builtins.hasattr}\n",
      "      282    0.000    0.000    0.000    0.000 <string>:1(<lambda>)\n",
      "     1010    0.000    0.000    0.000    0.000 {built-in method builtins.setattr}\n",
      "     1182    0.000    0.000    0.000    0.000 /Users/zachcm/Code/SimulFLUX/python/simulators/simulator.py:158(posEOD)\n",
      "     1264    0.000    0.000    0.000    0.000 {method 'append' of 'list' objects}\n",
      "        2    0.000    0.000    0.000    0.000 /Users/zachcm/miniforge3/envs/expansion/lib/python3.11/site-packages/ipykernel/iostream.py:655(write)\n",
      "      282    0.000    0.000    0.000    0.000 {built-in method _abc._abc_instancecheck}\n",
      "      177    0.000    0.000    0.000    0.000 /Users/zachcm/Code/SimulFLUX/python/simulators/simulator.py:151(posgalvo)\n",
      "      180    0.000    0.000    0.000    0.000 /Users/zachcm/Code/SimulFLUX/python/simulators/simulator.py:162(posEOD)\n",
      "      540    0.000    0.000    0.000    0.000 {method 'squeeze' of 'numpy.ndarray' objects}\n",
      "        2    0.000    0.000    0.000    0.000 /Users/zachcm/miniforge3/envs/expansion/lib/python3.11/site-packages/ipykernel/iostream.py:577(_schedule_flush)\n",
      "        1    0.000    0.000    0.000    0.000 /Users/zachcm/miniforge3/envs/expansion/lib/python3.11/site-packages/ipykernel/iostream.py:259(schedule)\n",
      "        2    0.000    0.000    0.000    0.000 /Users/zachcm/miniforge3/envs/expansion/lib/python3.11/codeop.py:120(__call__)\n",
      "        2    0.000    0.000    0.000    0.000 {built-in method builtins.compile}\n",
      "      282    0.000    0.000    0.000    0.000 {built-in method __new__ of type object at 0x105131608}\n",
      "        1    0.000    0.000    0.000    0.000 {built-in method io.open}\n",
      "      360    0.000    0.000    0.000    0.000 {built-in method numpy.asanyarray}\n",
      "        1    0.000    0.000    0.000    0.000 /Users/zachcm/miniforge3/envs/expansion/lib/python3.11/site-packages/zmq/sugar/socket.py:626(send)\n",
      "        1    0.000    0.000    0.000    0.000 /Users/zachcm/Code/SimulFLUX/python/simulators/sim_sequencefile.py:282(<listcomp>)\n",
      "        4    0.000    0.000    0.000    0.000 /Users/zachcm/miniforge3/envs/expansion/lib/python3.11/site-packages/numpy/_core/fromnumeric.py:2781(max)\n",
      "      282    0.000    0.000    0.000    0.000 /Users/zachcm/Code/SimulFLUX/python/fluorophores/Fluorophore.py:49(updateonoff)\n",
      "        1    0.000    0.000    0.000    0.000 {built-in method posix.stat}\n",
      "        1    0.000    0.000    0.000    0.000 /Users/zachcm/Code/SimulFLUX/python/estimators/est_gauss2d.py:3(est_gauss2d)\n",
      "        1    0.000    0.000    0.000    0.000 /Users/zachcm/Code/SimulFLUX/python/simulators/simulator.py:429(appendout)\n",
      "        1    0.000    0.000    0.000    0.000 /Users/zachcm/Code/SimulFLUX/python/simulators/sim_sequencefile.py:283(<listcomp>)\n",
      "        1    0.000    0.000    0.000    0.000 /Users/zachcm/miniforge3/envs/expansion/lib/python3.11/tokenize.py:329(find_cookie)\n",
      "        2    0.000    0.000    0.000    0.000 /Users/zachcm/miniforge3/envs/expansion/lib/python3.11/site-packages/traitlets/traitlets.py:676(__get__)\n",
      "      180    0.000    0.000    0.000    0.000 {built-in method builtins.globals}\n",
      "        1    0.000    0.000    0.000    0.000 /Users/zachcm/Code/SimulFLUX/python/simulators/sim_sequencefile.py:284(<listcomp>)\n",
      "        5    0.000    0.000    0.000    0.000 <frozen codecs>:319(decode)\n",
      "        1    0.000    0.000    0.000    0.000 {method '__exit__' of '_io._IOBase' objects}\n",
      "        2    0.000    0.000    0.000    0.000 /Users/zachcm/miniforge3/envs/expansion/lib/python3.11/site-packages/numpy/_core/shape_base.py:215(_vhstack_dispatcher)\n",
      "      102    0.000    0.000    0.000    0.000 {method 'keys' of 'dict' objects}\n",
      "        2    0.000    0.000    0.000    0.000 /Users/zachcm/miniforge3/envs/expansion/lib/python3.11/contextlib.py:132(__enter__)\n",
      "        2    0.000    0.000    0.000    0.000 /Users/zachcm/miniforge3/envs/expansion/lib/python3.11/site-packages/traitlets/traitlets.py:629(get)\n",
      "        4    0.000    0.000    0.000    0.000 {built-in method builtins.next}\n",
      "        2    0.000    0.000    0.000    0.000 /Users/zachcm/miniforge3/envs/expansion/lib/python3.11/site-packages/numpy/_core/shape_base.py:207(_arrays_for_stack_dispatcher)\n",
      "        2    0.000    0.000    0.000    0.000 /Users/zachcm/miniforge3/envs/expansion/lib/python3.11/contextlib.py:299(helper)\n",
      "        1    0.000    0.000    0.000    0.000 /Users/zachcm/miniforge3/envs/expansion/lib/python3.11/threading.py:1192(is_alive)\n",
      "        1    0.000    0.000    0.000    0.000 <frozen codecs>:309(__init__)\n",
      "        2    0.000    0.000    0.000    0.000 /Users/zachcm/miniforge3/envs/expansion/lib/python3.11/warnings.py:404(__init__)\n",
      "        2    0.000    0.000    0.000    0.000 /Users/zachcm/miniforge3/envs/expansion/lib/python3.11/site-packages/IPython/core/interactiveshell.py:3493(compare)\n",
      "        2    0.000    0.000    0.000    0.000 /Users/zachcm/miniforge3/envs/expansion/lib/python3.11/contextlib.py:104(__init__)\n",
      "        5    0.000    0.000    0.000    0.000 {built-in method _codecs.utf_8_decode}\n",
      "        2    0.000    0.000    0.000    0.000 /Users/zachcm/miniforge3/envs/expansion/lib/python3.11/contextlib.py:141(__exit__)\n",
      "        2    0.000    0.000    0.000    0.000 {method 'match' of 're.Pattern' objects}\n",
      "        2    0.000    0.000    0.000    0.000 /Users/zachcm/miniforge3/envs/expansion/lib/python3.11/site-packages/ipykernel/iostream.py:550(_is_master_process)\n",
      "        2    0.000    0.000    0.000    0.000 /Users/zachcm/miniforge3/envs/expansion/lib/python3.11/site-packages/ipykernel/iostream.py:505(parent_header)\n",
      "        4    0.000    0.000    0.000    0.000 /Users/zachcm/miniforge3/envs/expansion/lib/python3.11/site-packages/IPython/core/compilerop.py:180(extra_flags)\n",
      "        1    0.000    0.000    0.000    0.000 {method 'astype' of 'numpy.generic' objects}\n",
      "        1    0.000    0.000    0.000    0.000 /Users/zachcm/miniforge3/envs/expansion/lib/python3.11/threading.py:1125(_wait_for_tstate_lock)\n",
      "        1    0.000    0.000    0.000    0.000 /Users/zachcm/miniforge3/envs/expansion/lib/python3.11/site-packages/ipykernel/iostream.py:138(_event_pipe)\n",
      "        1    0.000    0.000    0.000    0.000 {method 'seek' of '_io.BufferedReader' objects}\n",
      "        1    0.000    0.000    0.000    0.000 {method 'startswith' of 'bytes' objects}\n",
      "        2    0.000    0.000    0.000    0.000 /Users/zachcm/miniforge3/envs/expansion/lib/python3.11/site-packages/IPython/core/interactiveshell.py:1277(user_global_ns)\n",
      "        6    0.000    0.000    0.000    0.000 /Users/zachcm/miniforge3/envs/expansion/lib/python3.11/site-packages/numpy/_core/multiarray.py:361(where)\n",
      "        1    0.000    0.000    0.000    0.000 {method 'decode' of 'bytes' objects}\n",
      "        1    0.000    0.000    0.000    0.000 {method 'startswith' of 'str' objects}\n",
      "        1    0.000    0.000    0.000    0.000 {method 'acquire' of '_thread.lock' objects}\n",
      "        2    0.000    0.000    0.000    0.000 {method 'strip' of 'str' objects}\n",
      "        2    0.000    0.000    0.000    0.000 {method 'write' of '_io.StringIO' objects}\n",
      "        1    0.000    0.000    0.000    0.000 {method 'endswith' of 'str' objects}\n",
      "        2    0.000    0.000    0.000    0.000 {method 'get' of '_contextvars.ContextVar' objects}\n",
      "        1    0.000    0.000    0.000    0.000 /Users/zachcm/miniforge3/envs/expansion/lib/python3.11/site-packages/dateutil/tz/tz.py:74(utcoffset)\n",
      "        4    0.000    0.000    0.000    0.000 /Users/zachcm/miniforge3/envs/expansion/lib/python3.11/site-packages/numpy/_core/fromnumeric.py:2776(_max_dispatcher)\n",
      "        4    0.000    0.000    0.000    0.000 /Users/zachcm/miniforge3/envs/expansion/lib/python3.11/typing.py:2287(cast)\n",
      "        2    0.000    0.000    0.000    0.000 {method '__exit__' of '_thread.RLock' objects}\n",
      "        1    0.000    0.000    0.000    0.000 <frozen codecs>:260(__init__)\n",
      "        4    0.000    0.000    0.000    0.000 {method 'get' of 'dict' objects}\n",
      "        2    0.000    0.000    0.000    0.000 {built-in method posix.getpid}\n",
      "        2    0.000    0.000    0.000    0.000 /Users/zachcm/miniforge3/envs/expansion/lib/python3.11/site-packages/numpy/_core/shape_base.py:77(_atleast_2d_dispatcher)\n",
      "        1    0.000    0.000    0.000    0.000 {method 'disable' of '_lsprof.Profiler' objects}\n",
      "        2    0.000    0.000    0.000    0.000 /Users/zachcm/miniforge3/envs/expansion/lib/python3.11/site-packages/numpy/_core/multiarray.py:161(concatenate)\n",
      "        1    0.000    0.000    0.000    0.000 {method 'append' of 'collections.deque' objects}\n",
      "        1    0.000    0.000    0.000    0.000 /Users/zachcm/miniforge3/envs/expansion/lib/python3.11/threading.py:575(is_set)\n",
      "\n",
      "\n",
      "\n"
     ]
    },
    {
     "name": "stderr",
     "output_type": "stream",
     "text": [
      "/Users/zachcm/Code/SimulFLUX/python/simulators/sim_sequencefile.py:230: RuntimeWarning: divide by zero encountered in divide\n",
      "  loc.efo=loc.eco/(np.sum(scanout.par.pattern.pointdwelltime[:-1]))\n",
      "/Users/zachcm/Code/SimulFLUX/python/simulators/sim_sequencefile.py:230: RuntimeWarning: invalid value encountered in divide\n",
      "  loc.efo=loc.eco/(np.sum(scanout.par.pattern.pointdwelltime[:-1]))\n"
     ]
    }
   ],
   "source": [
    "import cProfile, pstats, io\n",
    "from pstats import SortKey\n",
    "pr = cProfile.Profile()\n",
    "pr.enable()\n",
    "out = sim.runSequence(repetitions=1)\n",
    "pr.disable()\n",
    "s = io.StringIO()\n",
    "sortby = SortKey.TIME\n",
    "ps = pstats.Stats(pr, stream=s).sort_stats(sortby)\n",
    "ps.print_stats()\n",
    "print(s.getvalue())"
   ]
  },
  {
   "cell_type": "code",
   "execution_count": 7,
   "metadata": {},
   "outputs": [],
   "source": [
    "sim.plotpositions(out, xvalues=\"time\")"
   ]
  }
 ],
 "metadata": {
  "kernelspec": {
   "display_name": "expansion",
   "language": "python",
   "name": "python3"
  },
  "language_info": {
   "codemirror_mode": {
    "name": "ipython",
    "version": 3
   },
   "file_extension": ".py",
   "mimetype": "text/x-python",
   "name": "python",
   "nbconvert_exporter": "python",
   "pygments_lexer": "ipython3",
   "version": "3.11.10"
  }
 },
 "nbformat": 4,
 "nbformat_minor": 2
}
