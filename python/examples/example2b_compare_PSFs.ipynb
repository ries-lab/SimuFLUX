{
 "cells": [
  {
   "cell_type": "code",
   "execution_count": null,
   "metadata": {},
   "outputs": [],
   "source": [
    "%matplotlib widget\n",
    "\n",
    "import sys\n",
    "import os\n",
    "from pathlib import Path\n",
    "\n",
    "SCRIPT_DIR = Path(os.getcwd()).parent\n",
    "sys.path.append(os.path.dirname(SCRIPT_DIR))"
   ]
  },
  {
   "cell_type": "code",
   "execution_count": null,
   "metadata": {},
   "outputs": [],
   "source": [
    "import numpy as np\n",
    "import matplotlib.pyplot as plt\n",
    "\n",
    "from python.fluorophores import FlStatic, FlCollection\n",
    "from python.psfs import PsfVectorial\n",
    "from python.estimators import est_qLSQiter2D\n",
    "from python.estimators import est_qLSQiter1D\n",
    "from python.simulators import Simulator"
   ]
  },
  {
   "cell_type": "markdown",
   "metadata": {},
   "source": [
    "## Vectorial PSF"
   ]
  },
  {
   "cell_type": "code",
   "execution_count": null,
   "metadata": {},
   "outputs": [],
   "source": [
    "psf_vec = PsfVectorial()\n",
    "psf_vec.setpinhole(AU=1)\n",
    "psf_vec.zerooffset=0.000\n",
    "sys_aberr = {}\n",
    "sys_aberr['Zr'] = np.zeros((1,3))\n",
    "sys_aberr['Zr'][0,0], sys_aberr['Zr'][0,1], sys_aberr['Zr'][0,2] = 4, 0, 0.0  # spherical aberrations \n",
    "sys_aberr['maskshift'] = [0,0]\n",
    "psf_vec.setpar(**sys_aberr)"
   ]
  },
  {
   "cell_type": "code",
   "execution_count": null,
   "metadata": {},
   "outputs": [],
   "source": [
    "fl = FlStatic(brightness=1000)  # define a static fluorophore\n",
    "fl.pos = [10, 0, 0]\n",
    "\n",
    "sim = Simulator(fluorophores=fl)\n",
    "\n",
    "numberOfLocalizations=5000"
   ]
  },
  {
   "cell_type": "code",
   "execution_count": null,
   "metadata": {},
   "outputs": [],
   "source": [
    "# define scan pattern\n",
    "L = 75\n",
    "zeroposx = np.atleast_2d(np.array([-1,1,0])*L/2)\n",
    "probecenter = True  # should we also probe the center?\n",
    "orbitpoints = 6\n",
    "laserpowerdonut = 10  # relative, increases brightness\n",
    "laserpowertophat = 80\n",
    "laserpowerpf = 8\n",
    "pointdwelltime = 0.1  # ms, measurement time in each point\n",
    "repetitions = 1  # how often to repeat the pattern scan\n",
    "sim.definePattern(\"donut\", psf_vec, \n",
    "                  phasemask=\"vortex\",\n",
    "                  makepattern=\"orbitscan\", \n",
    "                  orbitpoints=orbitpoints,\n",
    "                  probecenter=probecenter, \n",
    "                  orbitL=L, \n",
    "                  pointdwelltime=pointdwelltime, \n",
    "                  laserpower=laserpowerdonut, \n",
    "                  repetitions=repetitions)\n",
    "                  \n",
    "sim.definePattern(\"tophat_xy\", psf_vec, \n",
    "                  phasemask=\"tophat\",\n",
    "                  makepattern=\"orbitscan\", \n",
    "                  orbitpoints=orbitpoints,\n",
    "                  probecenter=probecenter, \n",
    "                  orbitL=L, \n",
    "                  pointdwelltime=pointdwelltime, \n",
    "                  laserpower=laserpowertophat, \n",
    "                  repetitions=repetitions,\n",
    "                  dim=(0,1))\n",
    "\n",
    "sim.definePattern(\"pf_x\", psf_vec, \n",
    "                  phasemask=\"halfmoonx\",\n",
    "                  zeropos = zeroposx,\n",
    "                  pointdwelltime=pointdwelltime, \n",
    "                  laserpower=laserpowerpf, \n",
    "                  repetitions=repetitions,\n",
    "                  dim=(0,))\n",
    "\n",
    "sim.definePattern(\"pf_y\", psf_vec, \n",
    "                  phasemask=\"halfmoony\",\n",
    "                  zeropos = zeroposx,\n",
    "                  pointdwelltime=pointdwelltime, \n",
    "                  laserpower=laserpowerpf, \n",
    "                  repetitions=repetitions,\n",
    "                  dim=(1,))"
   ]
  },
  {
   "cell_type": "code",
   "execution_count": null,
   "metadata": {},
   "outputs": [],
   "source": [
    "sim.defineComponent(\"estdonut\", \"estimator\", est_qLSQiter2D, parameters=[L, probecenter], dim=(0,1))\n",
    "sim.defineComponent(\"est_x\", \"estimator\", est_qLSQiter1D, parameters=[L], dim=(0,))\n",
    "sim.defineComponent(\"est_y\", \"estimator\", est_qLSQiter1D, parameters=[L], dim=(1,))"
   ]
  },
  {
   "cell_type": "markdown",
   "metadata": {},
   "source": [
    "## 2D donut"
   ]
  },
  {
   "cell_type": "code",
   "execution_count": null,
   "metadata": {},
   "outputs": [],
   "source": [
    "seq = [\"donut\", \"estdonut\"]\n",
    "out = sim.runSequence(seq, maxlocs=numberOfLocalizations)\n",
    "print(\"no aberration donut:\")\n",
    "sim.summarize_results(out)\n",
    "xs = np.arange(0, 70, 5)\n",
    "displaywhat=\"rmse\"\n",
    "plt.figure()\n",
    "_ = sim.scan_fov(seq, xs, clearfigure=True, tag=\"2D donut\", ax1=displaywhat, linestyle='k')"
   ]
  },
  {
   "cell_type": "markdown",
   "metadata": {},
   "source": [
    "## 3D donut"
   ]
  },
  {
   "cell_type": "code",
   "execution_count": null,
   "metadata": {},
   "outputs": [],
   "source": [
    "seqthnoab = [\"tophat_xy\", \"estdonut\"]\n",
    "out = sim.runSequence(seqthnoab, maxlocs=numberOfLocalizations)\n",
    "print('no aberration tophat:')\n",
    "sim.summarize_results(out)  # display summary of simulation\n",
    "_ = sim.scan_fov(seqthnoab, xs, tag=\"3D donut\", ax1=displaywhat, linestyle='r')"
   ]
  },
  {
   "cell_type": "markdown",
   "metadata": {},
   "source": [
    "## PhaseFlux"
   ]
  },
  {
   "cell_type": "code",
   "execution_count": null,
   "metadata": {},
   "outputs": [],
   "source": [
    "seqpf = [\"pf_x\", \"est_x\", \"pf_y\", \"est_y\"]\n",
    "out = sim.runSequence(seqpf, maxlocs=numberOfLocalizations)\n",
    "print('no aberration phaseflux:')\n",
    "sim.summarize_results(out)  # display summary of simulation\n",
    "_ = sim.scan_fov(seqpf, xs, tag=\"Half-moon\", ax1=displaywhat, linestyle='b')"
   ]
  },
  {
   "cell_type": "code",
   "execution_count": null,
   "metadata": {},
   "outputs": [],
   "source": [
    "psf2Ddonut, _ = psf_vec.imagestack(\"vortex\")\n",
    "psf3Ddonut, _ = psf_vec.imagestack(\"tophat\")\n",
    "psfPF, _ = psf_vec.imagestack(\"halfmoonx\")"
   ]
  },
  {
   "cell_type": "markdown",
   "metadata": {},
   "source": [
    "## Spherical Aberrations"
   ]
  },
  {
   "cell_type": "code",
   "execution_count": null,
   "metadata": {},
   "outputs": [],
   "source": [
    "psf_veca = PsfVectorial()\n",
    "psf_veca.setpinhole(AU=1)\n",
    "psf_veca.zerooffset=0.000\n",
    "sys_aberr = {}\n",
    "sys_aberr['Zr'] = np.zeros((1,3))\n",
    "sys_aberr['Zr'][0,0], sys_aberr['Zr'][0,1], sys_aberr['Zr'][0,2] = 4, 0, 0.15  # spherical aberrations \n",
    "sys_aberr['maskshift'] = [0,0]\n",
    "psf_veca.setpar(**sys_aberr)"
   ]
  },
  {
   "cell_type": "code",
   "execution_count": null,
   "metadata": {},
   "outputs": [],
   "source": [
    "sim.definePattern(\"donuta\", psf_veca, \n",
    "                  phasemask=\"vortex\",\n",
    "                  makepattern=\"orbitscan\", \n",
    "                  orbitpoints=orbitpoints,\n",
    "                  probecenter=probecenter, \n",
    "                  orbitL=L, \n",
    "                  pointdwelltime=pointdwelltime, \n",
    "                  laserpower=laserpowerdonut, \n",
    "                  repetitions=repetitions)\n",
    "                  \n",
    "sim.definePattern(\"tophat_xya\", psf_veca, \n",
    "                  phasemask=\"tophat\",\n",
    "                  makepattern=\"orbitscan\", \n",
    "                  orbitpoints=orbitpoints,\n",
    "                  probecenter=probecenter, \n",
    "                  orbitL=L, \n",
    "                  pointdwelltime=pointdwelltime, \n",
    "                  laserpower=laserpowertophat, \n",
    "                  repetitions=repetitions,\n",
    "                  dim=(0,1))\n",
    "\n",
    "sim.definePattern(\"pf_xa\", psf_veca, \n",
    "                  phasemask=\"halfmoonx\",\n",
    "                  zeropos = zeroposx,\n",
    "                  pointdwelltime=pointdwelltime, \n",
    "                  laserpower=laserpowerpf, \n",
    "                  repetitions=repetitions,\n",
    "                  dim=(0,))\n",
    "\n",
    "sim.definePattern(\"pf_ya\", psf_veca, \n",
    "                  phasemask=\"halfmoony\",\n",
    "                  zeropos = zeroposx,\n",
    "                  pointdwelltime=pointdwelltime, \n",
    "                  laserpower=laserpowerpf, \n",
    "                  repetitions=repetitions,\n",
    "                  dim=(1,))"
   ]
  },
  {
   "cell_type": "code",
   "execution_count": null,
   "metadata": {},
   "outputs": [],
   "source": [
    "seqdab = [\"donuta\", \"estdonut\"]\n",
    "out = sim.runSequence(seqdab, maxlocs=numberOfLocalizations)\n",
    "\n",
    "_ = sim.scan_fov(seqdab, xs, tag=\"2D donut spherical\", ax1=displaywhat, linestyle='k-.')"
   ]
  },
  {
   "cell_type": "code",
   "execution_count": null,
   "metadata": {},
   "outputs": [],
   "source": [
    "seqthab = [\"tophat_xya\", \"estdonut\"]\n",
    "out = sim.runSequence(seqthab, maxlocs=numberOfLocalizations)\n",
    "\n",
    "_ = sim.scan_fov(seqthab, xs, tag=\"3D donut spherical\", ax1=displaywhat, linestyle='r-.')"
   ]
  },
  {
   "cell_type": "code",
   "execution_count": null,
   "metadata": {},
   "outputs": [],
   "source": [
    "seqpfa = [\"pf_xa\", \"est_x\", \"pf_ya\", \"est_y\"]\n",
    "out = sim.runSequence(seqpfa, maxlocs=numberOfLocalizations)\n",
    "_ = sim.scan_fov(seqpfa, xs, tag=\"Half-moon spherical\", ax1=displaywhat, linestyle='b-.')"
   ]
  },
  {
   "cell_type": "code",
   "execution_count": null,
   "metadata": {},
   "outputs": [],
   "source": [
    "psf2Ddonuta, _ = psf_veca.imagestack(\"vortex\")\n",
    "psf3Ddonuta, _ = psf_veca.imagestack(\"tophat\")\n",
    "psfPFa, _ = psf_veca.imagestack(\"halfmoonx\")"
   ]
  },
  {
   "cell_type": "markdown",
   "metadata": {},
   "source": [
    "## Vertical coma aberration"
   ]
  },
  {
   "cell_type": "code",
   "execution_count": null,
   "metadata": {},
   "outputs": [],
   "source": [
    "psf_vecca = PsfVectorial()\n",
    "psf_vecca.setpinhole(AU=1)\n",
    "psf_vecca.zerooffset=0.000\n",
    "sys_aberr = {}\n",
    "\n",
    "# vertical coma aberrations \n",
    "# sys_aberr['Zr'] = np.zeros((1,3))\n",
    "# sys_aberr['Zr'][0,0], sys_aberr['Zr'][0,1], sys_aberr['Zr'][0,2] = 3, -1, 0.15\n",
    "\n",
    "# 45-degree coma aberrations \n",
    "sys_aberr['Zr'] = np.zeros((2,3))\n",
    "sys_aberr['Zr'][0,0], sys_aberr['Zr'][0,1], sys_aberr['Zr'][0,2] = 3, -1, 0.075\n",
    "sys_aberr['Zr'][1,0], sys_aberr['Zr'][1,1], sys_aberr['Zr'][1,2] = 3, 1, 0.075\n",
    "\n",
    "sys_aberr['maskshift'] = [0,0]\n",
    "psf_vecca.setpar(**sys_aberr)"
   ]
  },
  {
   "cell_type": "code",
   "execution_count": null,
   "metadata": {},
   "outputs": [],
   "source": [
    "sim.definePattern(\"donutca\", psf_vecca, \n",
    "                  phasemask=\"vortex\",\n",
    "                  makepattern=\"orbitscan\", \n",
    "                  orbitpoints=orbitpoints,\n",
    "                  probecenter=probecenter, \n",
    "                  orbitL=L, \n",
    "                  pointdwelltime=pointdwelltime, \n",
    "                  laserpower=laserpowerdonut, \n",
    "                  repetitions=repetitions)\n",
    "                  \n",
    "sim.definePattern(\"tophat_xyca\", psf_vecca, \n",
    "                  phasemask=\"tophat\",\n",
    "                  makepattern=\"orbitscan\", \n",
    "                  orbitpoints=orbitpoints,\n",
    "                  probecenter=probecenter, \n",
    "                  orbitL=L, \n",
    "                  pointdwelltime=pointdwelltime, \n",
    "                  laserpower=laserpowertophat, \n",
    "                  repetitions=repetitions,\n",
    "                  dim=(0,1))\n",
    "\n",
    "sim.definePattern(\"pf_xca\", psf_vecca, \n",
    "                  phasemask=\"halfmoonx\",\n",
    "                  zeropos = zeroposx,\n",
    "                  pointdwelltime=pointdwelltime, \n",
    "                  laserpower=laserpowerpf, \n",
    "                  repetitions=repetitions,\n",
    "                  dim=(0,))\n",
    "\n",
    "sim.definePattern(\"pf_yca\", psf_vecca, \n",
    "                  phasemask=\"halfmoony\",\n",
    "                  zeropos = zeroposx,\n",
    "                  pointdwelltime=pointdwelltime, \n",
    "                  laserpower=laserpowerpf, \n",
    "                  repetitions=repetitions,\n",
    "                  dim=(1,))"
   ]
  },
  {
   "cell_type": "code",
   "execution_count": null,
   "metadata": {},
   "outputs": [],
   "source": [
    "seqdcab = [\"donutca\", \"estdonut\"]\n",
    "out = sim.runSequence(seqdcab, maxlocs=numberOfLocalizations)\n",
    "\n",
    "_ = sim.scan_fov(seqdcab, xs, tag=\"2D donut coma\", ax1=displaywhat, linestyle='k--')"
   ]
  },
  {
   "cell_type": "code",
   "execution_count": null,
   "metadata": {},
   "outputs": [],
   "source": [
    "seqthcab = [\"tophat_xyca\", \"estdonut\"]\n",
    "out = sim.runSequence(seqthcab, maxlocs=numberOfLocalizations)\n",
    "\n",
    "_ = sim.scan_fov(seqthcab, xs, tag=\"3D donut coma\", ax1=displaywhat, linestyle='r--')"
   ]
  },
  {
   "cell_type": "code",
   "execution_count": null,
   "metadata": {},
   "outputs": [],
   "source": [
    "seqpfca = [\"pf_xca\", \"est_x\", \"pf_yca\", \"est_y\"]\n",
    "out = sim.runSequence(seqpfca, maxlocs=numberOfLocalizations)\n",
    "_ = sim.scan_fov(seqpfca, xs, tag=\"Half-moon coma\", ax1=displaywhat, linestyle='b--')"
   ]
  },
  {
   "cell_type": "code",
   "execution_count": null,
   "metadata": {},
   "outputs": [],
   "source": [
    "psf2Ddonutca, _ = psf_vecca.imagestack(\"vortex\")\n",
    "psf3Ddonutca, _ = psf_vecca.imagestack(\"tophat\")\n",
    "psfPFca, _ = psf_vecca.imagestack(\"halfmoonx\")"
   ]
  },
  {
   "cell_type": "markdown",
   "metadata": {},
   "source": [
    "## Oblique astigmatismmatism aberration"
   ]
  },
  {
   "cell_type": "code",
   "execution_count": null,
   "metadata": {},
   "outputs": [],
   "source": [
    "psf_vecaa = PsfVectorial()\n",
    "psf_vecaa.setpinhole(AU=1)\n",
    "psf_vecaa.zerooffset=0.000\n",
    "sys_aberr = {}\n",
    "\n",
    "# oblique astigmatismmatism aberrations \n",
    "# sys_aberr['Zr'] = np.zeros((1,3))\n",
    "# sys_aberr['Zr'][0,0], sys_aberr['Zr'][0,1], sys_aberr['Zr'][0,2] = 2, -2, 0.15\n",
    "\n",
    "# 45-degree astigmatismmatism aberrations \n",
    "sys_aberr['Zr'] = np.zeros((2,3))\n",
    "sys_aberr['Zr'][0,0], sys_aberr['Zr'][0,1], sys_aberr['Zr'][0,2] = 2, -2, 0.075\n",
    "sys_aberr['Zr'][1,0], sys_aberr['Zr'][1,1], sys_aberr['Zr'][1,2] = 2, 2, 0.075\n",
    "\n",
    "\n",
    "sys_aberr['maskshift'] = [0,0]\n",
    "psf_vecaa.setpar(**sys_aberr)"
   ]
  },
  {
   "cell_type": "code",
   "execution_count": null,
   "metadata": {},
   "outputs": [],
   "source": [
    "sim.definePattern(\"donutaa\", psf_vecaa, \n",
    "                  phasemask=\"vortex\",\n",
    "                  makepattern=\"orbitscan\", \n",
    "                  orbitpoints=orbitpoints,\n",
    "                  probecenter=probecenter, \n",
    "                  orbitL=L, \n",
    "                  pointdwelltime=pointdwelltime, \n",
    "                  laserpower=laserpowerdonut, \n",
    "                  repetitions=repetitions)\n",
    "                  \n",
    "sim.definePattern(\"tophat_xyaa\", psf_vecaa, \n",
    "                  phasemask=\"tophat\",\n",
    "                  makepattern=\"orbitscan\", \n",
    "                  orbitpoints=orbitpoints,\n",
    "                  probecenter=probecenter, \n",
    "                  orbitL=L, \n",
    "                  pointdwelltime=pointdwelltime, \n",
    "                  laserpower=laserpowertophat, \n",
    "                  repetitions=repetitions,\n",
    "                  dim=(0,1))\n",
    "\n",
    "sim.definePattern(\"pf_xaa\", psf_vecaa, \n",
    "                  phasemask=\"halfmoonx\",\n",
    "                  zeropos = zeroposx,\n",
    "                  pointdwelltime=pointdwelltime, \n",
    "                  laserpower=laserpowerpf, \n",
    "                  repetitions=repetitions,\n",
    "                  dim=(0,))\n",
    "\n",
    "sim.definePattern(\"pf_yaa\", psf_vecaa, \n",
    "                  phasemask=\"halfmoony\",\n",
    "                  zeropos = zeroposx,\n",
    "                  pointdwelltime=pointdwelltime, \n",
    "                  laserpower=laserpowerpf, \n",
    "                  repetitions=repetitions,\n",
    "                  dim=(1,))"
   ]
  },
  {
   "cell_type": "code",
   "execution_count": null,
   "metadata": {},
   "outputs": [],
   "source": [
    "seqdaab = [\"donutaa\", \"estdonut\"]\n",
    "out = sim.runSequence(seqdaab, maxlocs=numberOfLocalizations)\n",
    "\n",
    "_ = sim.scan_fov(seqdaab, xs, tag=\"2D donut astigmatism\", ax1=displaywhat, linestyle='k:')"
   ]
  },
  {
   "cell_type": "code",
   "execution_count": null,
   "metadata": {},
   "outputs": [],
   "source": [
    "seqthaab = [\"tophat_xyaa\", \"estdonut\"]\n",
    "out = sim.runSequence(seqthaab, maxlocs=numberOfLocalizations)\n",
    "\n",
    "_ = sim.scan_fov(seqthaab, xs, tag=\"3D donut astigmatism\", ax1=displaywhat, linestyle='r:')"
   ]
  },
  {
   "cell_type": "code",
   "execution_count": null,
   "metadata": {},
   "outputs": [],
   "source": [
    "seqpfaa = [\"pf_xaa\", \"est_x\", \"pf_yaa\", \"est_y\"]\n",
    "out = sim.runSequence(seqpfaa, maxlocs=numberOfLocalizations)\n",
    "_ = sim.scan_fov(seqpfaa, xs, tag=\"Half-moon astigmatism\", ax1=displaywhat, linestyle='b:')"
   ]
  },
  {
   "cell_type": "code",
   "execution_count": null,
   "metadata": {},
   "outputs": [],
   "source": [
    "psf2Ddonutaa, _ = psf_vecaa.imagestack(\"vortex\")\n",
    "psf3Ddonutaa, _ = psf_vecaa.imagestack(\"tophat\")\n",
    "psfPFaa, _ = psf_vecaa.imagestack(\"halfmoonx\")"
   ]
  },
  {
   "cell_type": "code",
   "execution_count": null,
   "metadata": {},
   "outputs": [],
   "source": [
    "# Fix plot and save\n",
    "axh = plt.gca()\n",
    "axh.set_ybound(lower=0)\n",
    "axh.set_xbound(lower=0)\n",
    "axf = plt.gcf()\n",
    "axf.tight_layout()\n",
    "axf.savefig(\"example2b_compare_PSFs_FOV.pdf\")"
   ]
  },
  {
   "cell_type": "markdown",
   "metadata": {},
   "source": [
    "## Multiple fluorophores"
   ]
  },
  {
   "cell_type": "code",
   "execution_count": null,
   "metadata": {},
   "outputs": [],
   "source": [
    "fc = FlCollection()\n",
    "fc.add(fl)\n",
    "fl2 = FlStatic()\n",
    "fl2.pos = [0, 0, 700]\n",
    "fc.add(fl2)\n",
    "fl3 = FlStatic()\n",
    "fl3.pos = [50, 350, 900]\n",
    "fc.add(fl3)\n",
    "sim.fluorophores = fc"
   ]
  },
  {
   "cell_type": "code",
   "execution_count": null,
   "metadata": {},
   "outputs": [],
   "source": [
    "seq = [\"donut\", \"estdonut\"]\n",
    "out = sim.runSequence(seq, maxlocs=numberOfLocalizations)\n",
    "print(\"fl donut:\")\n",
    "sim.summarize_results(out)\n",
    "_ = sim.scan_fov(seq, xs, tag=\"2D donut fl\", ax1=displaywhat, linestyle='k--')"
   ]
  },
  {
   "cell_type": "code",
   "execution_count": null,
   "metadata": {},
   "outputs": [],
   "source": [
    "seqthnoab = [\"tophat_xy\", \"estdonut\"]\n",
    "out = sim.runSequence(seqthnoab, maxlocs=numberOfLocalizations)\n",
    "print('fl tophat:')\n",
    "sim.summarize_results(out)  # display summary of simulation\n",
    "_ = sim.scan_fov(seqthnoab, xs, tag=\"3D donut fl\", ax1=displaywhat, linestyle='r--')"
   ]
  },
  {
   "cell_type": "code",
   "execution_count": null,
   "metadata": {},
   "outputs": [],
   "source": [
    "out = sim.runSequence(seqpf, maxlocs=numberOfLocalizations)\n",
    "print('fl phaseflux:')\n",
    "sim.summarize_results(out)  # display summary of simulation\n",
    "_ = sim.scan_fov(seqpf, xs, tag=\"Half-moon fl\", ax1=displaywhat, linestyle='b--')"
   ]
  },
  {
   "cell_type": "markdown",
   "metadata": {},
   "source": [
    "## Background"
   ]
  },
  {
   "cell_type": "code",
   "execution_count": null,
   "metadata": {},
   "outputs": [],
   "source": [
    "sim.fluorophores = fl\n",
    "sim.background = 3\n",
    "seq = [\"donut\", \"estdonut\"]\n",
    "out = sim.runSequence(seq, maxlocs=numberOfLocalizations)\n",
    "print(\"bg donut:\")\n",
    "sim.summarize_results(out)\n",
    "print(np.mean(out.bg_photons_gt))\n",
    "_ = sim.scan_fov(seq, xs, tag=\"bg donut:\", ax1=displaywhat, linestyle='k:')"
   ]
  },
  {
   "cell_type": "code",
   "execution_count": null,
   "metadata": {},
   "outputs": [],
   "source": [
    "seqthnoab = [\"tophat_xy\", \"estdonut\"]\n",
    "out = sim.runSequence(seqthnoab, maxlocs=numberOfLocalizations)\n",
    "print('bg tophat:')\n",
    "sim.summarize_results(out)  # display summary of simulation\n",
    "print(np.mean(out.bg_photons_gt))\n",
    "sim.scan_fov(seqthnoab, xs, tag=\"bg tophat:\", ax1=displaywhat, linestyle='r:')"
   ]
  },
  {
   "cell_type": "code",
   "execution_count": null,
   "metadata": {},
   "outputs": [],
   "source": [
    "out = sim.runSequence(seqpf, maxlocs=numberOfLocalizations)\n",
    "print('bg phaseflux:')\n",
    "sim.summarize_results(out)  # display summary of simulation\n",
    "print(np.mean(out.bg_photons_gt))\n",
    "sim.scan_fov(seqpf, xs, tag=\"Half-moon bg\", ax1=displaywhat, linestyle='b:')"
   ]
  },
  {
   "cell_type": "code",
   "execution_count": null,
   "metadata": {},
   "outputs": [],
   "source": [
    "plt.gca().set_ylim(0, L/2)"
   ]
  },
  {
   "cell_type": "markdown",
   "metadata": {},
   "source": [
    "# plot PSFs"
   ]
  },
  {
   "cell_type": "code",
   "execution_count": null,
   "metadata": {},
   "outputs": [],
   "source": [
    "from python.tools import colormaps\n",
    "\n",
    "midp = int(np.ceil(psf2Ddonut.shape[2]/2))\n",
    "\n",
    "pa2d=np.vstack([psf2Ddonut[:,:,midp], psf2Ddonuta[:,:,midp], psf2Ddonutca[:,:,midp], psf2Ddonutaa[:,:,midp]])\n",
    "pa3d=np.vstack([psf3Ddonut[:,:,midp], psf3Ddonuta[:,:,midp], psf3Ddonutca[:,:,midp], psf3Ddonutaa[:,:,midp]])\n",
    "papf=np.vstack([psfPF[:,:,midp], psfPFa[:,:,midp], psfPFca[:,:,midp], psfPFaa[:,:,midp]])\n",
    "\n",
    "fig, ax = plt.subplots()\n",
    "ax.imshow(np.hstack([pa2d/np.max(pa2d), pa3d/np.max(pa3d), papf/np.max(papf)]), cmap=colormaps.parula)\n",
    "ax.set_aspect('equal')\n",
    "ax.axis('off')\n",
    "\n",
    "fig.tight_layout()\n",
    "fig.savefig(\"abberations.pdf\")"
   ]
  },
  {
   "cell_type": "code",
   "execution_count": null,
   "metadata": {},
   "outputs": [],
   "source": []
  }
 ],
 "metadata": {
  "kernelspec": {
   "display_name": "expansion",
   "language": "python",
   "name": "expansion"
  },
  "language_info": {
   "codemirror_mode": {
    "name": "ipython",
    "version": 3
   },
   "file_extension": ".py",
   "mimetype": "text/x-python",
   "name": "python",
   "nbconvert_exporter": "python",
   "pygments_lexer": "ipython3",
   "version": "3.11.10"
  }
 },
 "nbformat": 4,
 "nbformat_minor": 2
}
