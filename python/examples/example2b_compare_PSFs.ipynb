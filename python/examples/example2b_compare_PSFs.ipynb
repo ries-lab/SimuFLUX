{
 "cells": [
  {
   "cell_type": "code",
   "execution_count": null,
   "metadata": {},
   "outputs": [],
   "source": [
    "%matplotlib widget\n",
    "\n",
    "import sys\n",
    "import os\n",
    "from pathlib import Path\n",
    "\n",
    "SCRIPT_DIR = Path(os.getcwd()).parent\n",
    "sys.path.append(os.path.dirname(SCRIPT_DIR))"
   ]
  },
  {
   "cell_type": "code",
   "execution_count": null,
   "metadata": {},
   "outputs": [],
   "source": [
    "import numpy as np\n",
    "import matplotlib.pyplot as plt\n",
    "\n",
    "from python.fluorophores import FlStatic, FlCollection\n",
    "from python.psfs import PsfVectorial\n",
    "from python.estimators import est_quad2Diter\n",
    "from python.estimators import est_quadraticdirect1D\n",
    "from python.simulators import Simulator"
   ]
  },
  {
   "cell_type": "markdown",
   "metadata": {},
   "source": [
    "# Vectorial PSF"
   ]
  },
  {
   "cell_type": "code",
   "execution_count": null,
   "metadata": {},
   "outputs": [],
   "source": [
    "psf_vec = PsfVectorial()\n",
    "psf_vec.setpinhole(AU=1)\n",
    "psf_vec.zerooffset=0.000\n",
    "sys_aberr = {}\n",
    "sys_aberr['Zr'] = np.zeros((1,3))\n",
    "sys_aberr['Zr'][0,0], sys_aberr['Zr'][0,1], sys_aberr['Zr'][0,2] = 4, 0, 0.0  # spherical aberrations \n",
    "sys_aberr['maskshift'] = [0,0]\n",
    "psf_vec.setpar(**sys_aberr)"
   ]
  },
  {
   "cell_type": "code",
   "execution_count": null,
   "metadata": {},
   "outputs": [],
   "source": [
    "fl = FlStatic(brightness=1000)  # define a static fluorophore\n",
    "fl.pos = [10, 0, 0]\n",
    "\n",
    "sim = Simulator(fluorophores=fl)\n",
    "\n",
    "numberOfLocalizations=1000"
   ]
  },
  {
   "cell_type": "code",
   "execution_count": null,
   "metadata": {},
   "outputs": [],
   "source": [
    "# define scan pattern\n",
    "L = 75\n",
    "zeroposx = np.atleast_2d(np.array([-1,1,0])*L/2)\n",
    "probecenter = True  # should we also probe the center?\n",
    "orbitpoints = 6\n",
    "laserpowerdonut = 10  # relative, increases brightness\n",
    "laserpowertophat = 80\n",
    "laserpowerpf = 8\n",
    "pointdwelltime = 0.1  # ms, measurement time in each point\n",
    "repetitions = 1  # how often to repeat the pattern scan\n",
    "sim.definePattern(\"donut\", psf_vec, \n",
    "                  phasemask=\"vortex\",\n",
    "                  makepattern=\"orbitscan\", \n",
    "                  orbitpoints=orbitpoints,\n",
    "                  probecenter=probecenter, \n",
    "                  orbitL=L, \n",
    "                  pointdwelltime=pointdwelltime, \n",
    "                  laserpower=laserpowerdonut, \n",
    "                  repetitions=repetitions)\n",
    "                  \n",
    "sim.definePattern(\"tophat_xy\", psf_vec, \n",
    "                  phasemask=\"tophat\",\n",
    "                  makepattern=\"orbitscan\", \n",
    "                  orbitpoints=orbitpoints,\n",
    "                  probecenter=probecenter, \n",
    "                  orbitL=L, \n",
    "                  pointdwelltime=pointdwelltime, \n",
    "                  laserpower=laserpowertophat, \n",
    "                  repetitions=repetitions,\n",
    "                  dim=(0,1))\n",
    "\n",
    "sim.definePattern(\"pf_x\", psf_vec, \n",
    "                  phasemask=\"halfmoonx\",\n",
    "                  zeropos = zeroposx,\n",
    "                  pointdwelltime=pointdwelltime, \n",
    "                  laserpower=laserpowerpf, \n",
    "                  repetitions=repetitions,\n",
    "                  dim=(0,))\n",
    "\n",
    "sim.definePattern(\"pf_y\", psf_vec, \n",
    "                  phasemask=\"halfmoony\",\n",
    "                  zeropos = zeroposx,\n",
    "                  pointdwelltime=pointdwelltime, \n",
    "                  laserpower=laserpowerpf, \n",
    "                  repetitions=repetitions,\n",
    "                  dim=(1,))"
   ]
  },
  {
   "cell_type": "code",
   "execution_count": null,
   "metadata": {},
   "outputs": [],
   "source": [
    "sim.defineComponent(\"estdonut\", \"estimator\", est_quad2Diter, parameters=[L, probecenter], dim=(0,1))\n",
    "sim.defineComponent(\"est_x\", \"estimator\", est_quadraticdirect1D, parameters=[L], dim=(0,))\n",
    "sim.defineComponent(\"est_y\", \"estimator\", est_quadraticdirect1D, parameters=[L], dim=(1,))"
   ]
  },
  {
   "cell_type": "code",
   "execution_count": null,
   "metadata": {},
   "outputs": [],
   "source": [
    "seq = [\"donut\", \"estdonut\"]\n",
    "out = sim.runSequence(seq, maxlocs=numberOfLocalizations)\n",
    "print(\"no aberration donut:\")\n",
    "sim.summarize_results(out)\n",
    "xs = np.arange(0, 70, 5)\n",
    "displaywhat=\"rmse\"\n",
    "plt.figure()\n",
    "sim.scan_fov(seq, xs, clearfigure=True, tag=\"donut\", ax1=displaywhat, linestyle='k')"
   ]
  },
  {
   "cell_type": "code",
   "execution_count": null,
   "metadata": {},
   "outputs": [],
   "source": [
    "seqthnoab = [\"tophat_xy\", \"estdonut\"]\n",
    "out = sim.runSequence(seqthnoab, maxlocs=numberOfLocalizations)\n",
    "print('no aberration tophat:')\n",
    "sim.summarize_results(out)  # display summary of simulation\n",
    "sim.scan_fov(seqthnoab, xs, tag=\"tophat\", ax1=displaywhat, linestyle='r')"
   ]
  },
  {
   "cell_type": "code",
   "execution_count": null,
   "metadata": {},
   "outputs": [],
   "source": [
    "seqpf = [\"pf_x\", \"est_x\", \"pf_y\", \"est_y\"]\n",
    "out = sim.runSequence(seqpf, maxlocs=numberOfLocalizations)\n",
    "print('no aberration phaseflux:')\n",
    "sim.summarize_results(out)  # display summary of simulation\n",
    "sim.scan_fov(seqpf, xs, tag=\"phaseflux\", ax1=displaywhat, linestyle='b')"
   ]
  },
  {
   "cell_type": "code",
   "execution_count": null,
   "metadata": {},
   "outputs": [],
   "source": [
    "psf_veca = PsfVectorial()\n",
    "psf_veca.setpinhole(AU=1)\n",
    "psf_veca.zerooffset=0.000\n",
    "sys_aberr = {}\n",
    "sys_aberr['Zr'] = np.zeros((1,3))\n",
    "sys_aberr['Zr'][0,0], sys_aberr['Zr'][0,1], sys_aberr['Zr'][0,2] = 4, 0, 0.15  # spherical aberrations \n",
    "sys_aberr['maskshift'] = [0,0]\n",
    "psf_veca.setpar(**sys_aberr)"
   ]
  },
  {
   "cell_type": "code",
   "execution_count": null,
   "metadata": {},
   "outputs": [],
   "source": [
    "sim.definePattern(\"donuta\", psf_veca, \n",
    "                  phasemask=\"vortex\",\n",
    "                  makepattern=\"orbitscan\", \n",
    "                  orbitpoints=orbitpoints,\n",
    "                  probecenter=probecenter, \n",
    "                  orbitL=L, \n",
    "                  pointdwelltime=pointdwelltime, \n",
    "                  laserpower=laserpowerdonut, \n",
    "                  repetitions=repetitions)\n",
    "                  \n",
    "sim.definePattern(\"tophat_xya\", psf_veca, \n",
    "                  phasemask=\"tophat\",\n",
    "                  makepattern=\"orbitscan\", \n",
    "                  orbitpoints=orbitpoints,\n",
    "                  probecenter=probecenter, \n",
    "                  orbitL=L, \n",
    "                  pointdwelltime=pointdwelltime, \n",
    "                  laserpower=laserpowertophat, \n",
    "                  repetitions=repetitions,\n",
    "                  dim=(0,1))\n",
    "\n",
    "sim.definePattern(\"pf_xa\", psf_veca, \n",
    "                  phasemask=\"halfmoonx\",\n",
    "                  zeropos = zeroposx,\n",
    "                  pointdwelltime=pointdwelltime, \n",
    "                  laserpower=laserpowerpf, \n",
    "                  repetitions=repetitions,\n",
    "                  dim=(0,))\n",
    "\n",
    "sim.definePattern(\"pf_ya\", psf_veca, \n",
    "                  phasemask=\"halfmoony\",\n",
    "                  zeropos = zeroposx,\n",
    "                  pointdwelltime=pointdwelltime, \n",
    "                  laserpower=laserpowerpf, \n",
    "                  repetitions=repetitions,\n",
    "                  dim=(1,))"
   ]
  },
  {
   "cell_type": "code",
   "execution_count": null,
   "metadata": {},
   "outputs": [],
   "source": [
    "seqdab = [\"donuta\", \"estdonut\"]\n",
    "out = sim.runSequence(seqdab, maxlocs=numberOfLocalizations)\n",
    "\n",
    "sim.scan_fov(seqdab, xs, tag=\"donut ab\", ax1=displaywhat, linestyle='k-.')"
   ]
  },
  {
   "cell_type": "code",
   "execution_count": null,
   "metadata": {},
   "outputs": [],
   "source": [
    "seqthab = [\"tophat_xya\", \"estdonut\"]\n",
    "out = sim.runSequence(seqthab, maxlocs=numberOfLocalizations)\n",
    "\n",
    "sim.scan_fov(seqthab, xs, tag=\"tophat ab\", ax1=displaywhat, linestyle='r-.')"
   ]
  },
  {
   "cell_type": "code",
   "execution_count": null,
   "metadata": {},
   "outputs": [],
   "source": [
    "seqpfa = [\"pf_x\", \"est_x\", \"pf_y\", \"est_y\"]\n",
    "out = sim.runSequence(seqpfa, maxlocs=numberOfLocalizations)\n",
    "sim.scan_fov(seqpfa, xs, tag=\"phaseflux ab\", ax1=displaywhat, linestyle='b-.')"
   ]
  },
  {
   "cell_type": "markdown",
   "metadata": {},
   "source": [
    "## Multiple fluorophores"
   ]
  },
  {
   "cell_type": "code",
   "execution_count": null,
   "metadata": {},
   "outputs": [],
   "source": [
    "fc = FlCollection()\n",
    "fc.add(fl)\n",
    "fl2 = FlStatic()\n",
    "fl2.pos = [0, 0, 700]\n",
    "fc.add(fl2)\n",
    "fl3 = FlStatic()\n",
    "fl3.pos = [50, 350, 900]\n",
    "fc.add(fl3)\n",
    "sim.fluorophores = fc"
   ]
  },
  {
   "cell_type": "code",
   "execution_count": null,
   "metadata": {},
   "outputs": [],
   "source": [
    "seq = [\"donut\", \"estdonut\"]\n",
    "out = sim.runSequence(seq, maxlocs=numberOfLocalizations)\n",
    "print(\"fl donut:\")\n",
    "sim.summarize_results(out)\n",
    "sim.scan_fov(seq, xs, tag=\"donut fl\", ax1=displaywhat, linestyle='k--')"
   ]
  },
  {
   "cell_type": "code",
   "execution_count": null,
   "metadata": {},
   "outputs": [],
   "source": [
    "seqthnoab = [\"tophat_xy\", \"estdonut\"]\n",
    "out = sim.runSequence(seqthnoab, maxlocs=numberOfLocalizations)\n",
    "print('fl tophat:')\n",
    "sim.summarize_results(out)  # display summary of simulation\n",
    "sim.scan_fov(seqthnoab, xs, tag=\"tophat fl\", ax1=displaywhat, linestyle='r--')"
   ]
  },
  {
   "cell_type": "code",
   "execution_count": null,
   "metadata": {},
   "outputs": [],
   "source": [
    "out = sim.runSequence(seqpf, maxlocs=numberOfLocalizations)\n",
    "print('fl phaseflux:')\n",
    "sim.summarize_results(out)  # display summary of simulation\n",
    "sim.scan_fov(seqpf, xs, tag=\"phaseflux fl\", ax1=displaywhat, linestyle='b--')"
   ]
  },
  {
   "cell_type": "markdown",
   "metadata": {},
   "source": [
    "## Background"
   ]
  },
  {
   "cell_type": "code",
   "execution_count": null,
   "metadata": {},
   "outputs": [],
   "source": [
    "sim.fluorophores = fl\n",
    "sim.background = 3\n",
    "seq = [\"donut\", \"estdonut\"]\n",
    "out = sim.runSequence(seq, maxlocs=numberOfLocalizations)\n",
    "print(\"bg donut:\")\n",
    "sim.summarize_results(out)\n",
    "print(np.mean(out.bg_photons_gt))\n",
    "sim.scan_fov(seq, xs, tag=\"bg donut:\", ax1=displaywhat, linestyle='k:')"
   ]
  },
  {
   "cell_type": "code",
   "execution_count": null,
   "metadata": {},
   "outputs": [],
   "source": [
    "seqthnoab = [\"tophat_xy\", \"estdonut\"]\n",
    "out = sim.runSequence(seqthnoab, maxlocs=numberOfLocalizations)\n",
    "print('bg tophat:')\n",
    "sim.summarize_results(out)  # display summary of simulation\n",
    "print(np.mean(out.bg_photons_gt))\n",
    "sim.scan_fov(seqthnoab, xs, tag=\"bg tophat:\", ax1=displaywhat, linestyle='r:')"
   ]
  },
  {
   "cell_type": "code",
   "execution_count": null,
   "metadata": {},
   "outputs": [],
   "source": [
    "out = sim.runSequence(seqpf, maxlocs=numberOfLocalizations)\n",
    "print('bg phaseflux:')\n",
    "sim.summarize_results(out)  # display summary of simulation\n",
    "print(np.mean(out.bg_photons_gt))\n",
    "sim.scan_fov(seqpf, xs, tag=\"phaseflux bg\", ax1=displaywhat, linestyle='b:')"
   ]
  },
  {
   "cell_type": "code",
   "execution_count": null,
   "metadata": {},
   "outputs": [],
   "source": [
    "plt.gca().set_ylim(0, L/2)"
   ]
  }
 ],
 "metadata": {
  "kernelspec": {
   "display_name": "expansion",
   "language": "python",
   "name": "python3"
  },
  "language_info": {
   "codemirror_mode": {
    "name": "ipython",
    "version": 3
   },
   "file_extension": ".py",
   "mimetype": "text/x-python",
   "name": "python",
   "nbconvert_exporter": "python",
   "pygments_lexer": "ipython3",
   "version": "3.11.10"
  }
 },
 "nbformat": 4,
 "nbformat_minor": 2
}
