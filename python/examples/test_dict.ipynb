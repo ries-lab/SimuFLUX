{
 "cells": [
  {
   "cell_type": "code",
   "execution_count": 27,
   "metadata": {},
   "outputs": [],
   "source": [
    "DEFAULT_PARAMETERS = {'sys': {}, 'opt': {}, 'out': {}}\n",
    "DEFAULT_PARAMETERS['opt']['Et'] = 0  # Display Et during the calculation.\n",
    "DEFAULT_PARAMETERS['opt']['Ef'] = 0  # Display Ef during the calculation.\n",
    "DEFAULT_PARAMETERS['opt']['calbar'] = 0  # Display calculation progress bar.\n",
    "DEFAULT_PARAMETERS['opt']['mem'] = 50000\n",
    "DEFAULT_PARAMETERS['opt']['pixSize'] = 10e-9   # A pixel size of 5e-9 is recommended for fine calculation.\n",
    "DEFAULT_PARAMETERS['opt']['radiusCanvas'] = 0.7e-6  #  Lateral range.\n",
    "DEFAULT_PARAMETERS['opt']['depthCanvas'] = 0.8e-6  # Axial range. \n",
    "DEFAULT_PARAMETERS['opt']['polAngle'] = 0.0  # Linear polarization angle.\n",
    "DEFAULT_PARAMETERS['opt']['phaseImage'] = False   # Show the phase image at the back focal plane.\n",
    "DEFAULT_PARAMETERS['opt']['intImage'] = False\n",
    "\n",
    "DEFAULT_PARAMETERS['sys']['NA'] = 1.35\n",
    "DEFAULT_PARAMETERS['sys']['nm'] = 1.406\n",
    "DEFAULT_PARAMETERS['sys']['ns'] = 1.406\n",
    "DEFAULT_PARAMETERS['sys']['Mt'] = 100\n",
    "DEFAULT_PARAMETERS['sys']['wa'] = 7e-3\n",
    "DEFAULT_PARAMETERS['sys']['Na'] = 200 \n",
    "DEFAULT_PARAMETERS['sys']['phaseImage'] = DEFAULT_PARAMETERS['opt']['phaseImage']\n",
    "DEFAULT_PARAMETERS['sys']['intImage'] = DEFAULT_PARAMETERS['opt']['intImage']\n",
    "DEFAULT_PARAMETERS['sys']['wa'] = 7e-3 \n",
    "DEFAULT_PARAMETERS['sys']['rz'] = 0.8e-6  #  Axial range.\n",
    "DEFAULT_PARAMETERS['sys']['pl'] = 0  # Angle of the linear polarization.\n",
    "DEFAULT_PARAMETERS['sys']['beadradius'] = 0  # convolution with bead\n",
    "DEFAULT_PARAMETERS['sys']['maskshift'] = [0, 0]"
   ]
  },
  {
   "cell_type": "code",
   "execution_count": 28,
   "metadata": {},
   "outputs": [],
   "source": [
    "kwargs = {'opt': {'Et': 3}, 'sys': {'NA': 1.1, 'newkey': 'hey'}, 'out': 'poop', 'newkey': 'yeah'}"
   ]
  },
  {
   "cell_type": "code",
   "execution_count": 33,
   "metadata": {},
   "outputs": [
    {
     "data": {
      "text/plain": [
       "{'newkey'}"
      ]
     },
     "execution_count": 33,
     "metadata": {},
     "output_type": "execute_result"
    }
   ],
   "source": [
    "DEFAULT_PARAMETERS.keys() ^ kwargs.keys()"
   ]
  },
  {
   "cell_type": "code",
   "execution_count": 22,
   "metadata": {},
   "outputs": [],
   "source": [
    "DEFAULT_PARAMETERS |= kwargs"
   ]
  },
  {
   "cell_type": "code",
   "execution_count": 24,
   "metadata": {},
   "outputs": [
    {
     "data": {
      "text/plain": [
       "{'sys': {'NA': 1.1, 'newkey': 'hey'},\n",
       " 'opt': {'Et': 3},\n",
       " 'out': 'poop',\n",
       " 'newkey': 'yeah'}"
      ]
     },
     "execution_count": 24,
     "metadata": {},
     "output_type": "execute_result"
    }
   ],
   "source": [
    "DEFAULT_PARAMETERS"
   ]
  },
  {
   "cell_type": "code",
   "execution_count": null,
   "metadata": {},
   "outputs": [],
   "source": []
  }
 ],
 "metadata": {
  "kernelspec": {
   "display_name": "expansion",
   "language": "python",
   "name": "python3"
  },
  "language_info": {
   "codemirror_mode": {
    "name": "ipython",
    "version": 3
   },
   "file_extension": ".py",
   "mimetype": "text/x-python",
   "name": "python",
   "nbconvert_exporter": "python",
   "pygments_lexer": "ipython3",
   "version": "3.11.10"
  }
 },
 "nbformat": 4,
 "nbformat_minor": 2
}
