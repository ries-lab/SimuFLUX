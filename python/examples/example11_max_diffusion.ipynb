{
 "cells": [
  {
   "cell_type": "code",
   "execution_count": null,
   "metadata": {},
   "outputs": [],
   "source": [
    "## RUN THIS CELL IF AND ONLY IF THIS IS OPEN IN GOOGLE COLAB\n",
    "!git clone https://github.com/ries-lab/SimuFLUX.git\n",
    "%cd SimuFLUX/python/examples"
   ]
  },
  {
   "cell_type": "code",
   "execution_count": null,
   "metadata": {},
   "outputs": [],
   "source": [
    "%matplotlib widget\n",
    "\n",
    "import sys\n",
    "import os\n",
    "from pathlib import Path\n",
    "\n",
    "SCRIPT_DIR = Path(os.getcwd()).parent\n",
    "sys.path.append(os.path.dirname(SCRIPT_DIR))"
   ]
  },
  {
   "cell_type": "code",
   "execution_count": null,
   "metadata": {},
   "outputs": [],
   "source": [
    "import numpy as np\n",
    "import matplotlib.pyplot as plt\n",
    "from scipy import special\n",
    "from scipy import optimize\n",
    "\n",
    "from python.fluorophores import FlMoveBleach\n",
    "from python.simulators import SimSequencefile"
   ]
  },
  {
   "cell_type": "code",
   "execution_count": null,
   "metadata": {},
   "outputs": [],
   "source": [
    "## Functions we will need, can be ignored\n",
    "def getmsd(x,y,time,maxd,dt):\n",
    "    x = x.squeeze()\n",
    "    y = y.squeeze()\n",
    "    time = time.squeeze()\n",
    "    \n",
    "    timeint = np.arange(np.min(time), np.max(time)+dt, dt)\n",
    "    # timeint = np.linspace(np.min(time), np.max(time), (np.max(time)-np.min(time))/dt)\n",
    "    xint = np.interp(timeint, time, x)\n",
    "    yint = np.interp(timeint, time, y)\n",
    "    msd = np.zeros(maxd)\n",
    "    for di in range(maxd):\n",
    "        try:\n",
    "            msd[di] = np.mean((xint[:-di]-xint[di:])**2+(yint[:-di]-yint[di:])**2)\n",
    "        except ValueError:\n",
    "            msd[di] = 0\n",
    "\n",
    "    return msd, dt\n",
    "\n",
    "def msdfit(msd,dt,linec):\n",
    "    msdt = np.arange(0, len(msd)*dt+dt, dt)\n",
    "    ax = plt.gca()\n",
    "    ax.plot(msdt[1:]/1e3,msd/1e6,linec)\n",
    "    fp = np.polyfit(msdt[1:], msd, deg=1)\n",
    "    fpf = np.poly1d(fp)\n",
    "    ax.plot(msdt/1e3,fpf(msdt)/1e6,linec+\"--\")\n",
    "    Dfit = fp[0]/1000/4  # um^2/s\n",
    "    off = np.sqrt(fp[1])\n",
    "    ax.set_xlabel('time (s)')\n",
    "    ax.set_ylabel('MSD ($\\mu$m^2)')\n",
    "\n",
    "    return Dfit, off, msdt\n",
    "\n",
    "\n",
    "def maxDiffusion(sim, laserpower, repetitions, Ds=None, dname=None, fig=None):\n",
    "    if Ds is None:\n",
    "        Ds = np.hstack([0, 0.1, 0.2, np.arange(0.25, 8.25, 0.25)])\n",
    "    if dname is None:\n",
    "        dname = \"data\"\n",
    "    if fig is None:\n",
    "        fig = plt.gcf()\n",
    "\n",
    "    if isinstance(Ds, list):\n",
    "        Ds = np.array(Ds)\n",
    "\n",
    "    Ds = Ds.squeeze()\n",
    "    print(Ds.shape)\n",
    "\n",
    "    rmse = np.zeros((len(Ds), repetitions, 3))\n",
    "    efo = np.zeros((len(Ds), repetitions))\n",
    "    indlosta = np.zeros((len(Ds), repetitions))\n",
    "\n",
    "    maxerr = 100\n",
    "\n",
    "    for d in range(len(Ds)):\n",
    "        for k in range(repetitions):\n",
    "            sim.posgalvo = [0, 0, 0]\n",
    "            sim.posEOD = [0, 0, 0]\n",
    "            sim.time = 0\n",
    "\n",
    "            fl = FlMoveBleach()\n",
    "            fl.photonbudget = np.inf\n",
    "            fl.brightness = 1000*laserpower\n",
    "\n",
    "            D = Ds[d]  # um^2/s\n",
    "            fl.makediffusion(D,0.003)\n",
    "            sim.fluorophores=fl\n",
    "            out = sim.runSequence(repetitions=1, resetfluorophores=True)\n",
    "            err = np.sqrt((out.loc.xnm-out.loc.xfl1)**2+(out.loc.ynm-out.loc.yfl1)**2).squeeze()\n",
    "            print(err.shape)\n",
    "            try:\n",
    "                indlost = np.where(err<maxerr)[0][-1]\n",
    "                filter = (out.loc.itr==np.max(out.loc.itr)).squeeze()\n",
    "                filter[(indlost+1):] = False\n",
    "                sr=sim.summarize_results(out,display=False,filter=filter)\n",
    "                rmse[d,k,:] = sr.rmse\n",
    "                efo[d,k] = np.nanmean(out.loc.efo[filter])\n",
    "            except IndexError:\n",
    "                indlost = 0\n",
    "                rmse[d,k,:] = np.nan*np.ones(3)\n",
    "                efo[d,k] = np.nan\n",
    "            indlosta[d,k] = indlost\n",
    "\n",
    "    isconverged = indlosta > (sim.sequence['locLimit']-10)  # safe margin\n",
    "    print(f\"isconverged: {isconverged.shape}\")\n",
    "    fconverged = np.sum(isconverged,axis=1).squeeze()/repetitions\n",
    "\n",
    "    try:\n",
    "        startind = np.where(fconverged>0.5)[0][-1]\n",
    "    except IndexError:\n",
    "        startind = 0\n",
    "    startD = Ds[startind]\n",
    "    def fitfun(x, D, alpha):\n",
    "        return 0.5-special.erf(alpha*(x-D))/2  # sigmoidal\n",
    "    popt, _ = optimize.curve_fit(fitfun, Ds, fconverged, p0=[startD,1])\n",
    "    fig, ax = plt.subplots(1,1)\n",
    "    ax.scatter(Ds, fconverged)\n",
    "    ax.legend()\n",
    "    print(f\"Ds: {Ds.shape}, fconverged: {fconverged.shape}\")\n",
    "    print(f\"fit popt: {popt}\")\n",
    "    Dmax = popt[0]\n",
    "\n",
    "    indconv = np.where(Ds<=Dmax)[0][-1]\n",
    "    rmsem = np.nanmean(rmse,axis=1).squeeze()\n",
    "    efoD0 = np.nanmean(efo[0,:])\n",
    "    rmseDmax = np.nanmean(rmsem[indconv,:3])\n",
    "\n",
    "    if np.any(np.array(rmseDmax.shape)!=1):\n",
    "        rmseDmax = np.nan\n",
    "\n",
    "    ax = fig.add_subplot(1,3,1)\n",
    "\n",
    "    hp = ax.plot(Ds, fconverged, label=dname)\n",
    "    ax.set_ylabel(\"fraction tracked\")\n",
    "    ax.set_xlabel('Diffusion coefficient um^2/s')\n",
    "    ax.set_title(f\"Dmax: {Dmax:.2f} $\\mu$m2/s\")\n",
    "    ax.plot(Ds,fitfun(Ds,*popt), color=hp[0].get_color(), linewidth=1, label=f\"{dname}fit\")\n",
    "    ax.legend()\n",
    "\n",
    "    ax = fig.add_subplot(1,3,2)\n",
    "    ax.plot(Ds,np.nanmean(efo,axis=1),color=hp[0].get_color(),label=dname)\n",
    "    ax.set_xlabel('Diffusion coefficient um^2/s')\n",
    "    ax.set_ylabel(\"efo kHz\")\n",
    "    ax.legend()\n",
    "\n",
    "    ax = fig.add_subplot(1,3,3)\n",
    "\n",
    "    ax.plot(Ds,np.nanmean(rmsem[:,:3],axis=1),color=hp[0].get_color(),label=dname)\n",
    "    ax.set_ylabel(\"RMSE of converged (nm)\")\n",
    "    ax.set_xlabel('Diffusion coefficient um^2/s')\n",
    "    ax.legend()\n",
    "    \n",
    "    return Dmax, efoD0, rmseDmax\n"
   ]
  },
  {
   "cell_type": "code",
   "execution_count": null,
   "metadata": {},
   "outputs": [],
   "source": [
    "sim = SimSequencefile()"
   ]
  },
  {
   "cell_type": "code",
   "execution_count": null,
   "metadata": {},
   "outputs": [],
   "source": [
    "fname = os.path.join(SCRIPT_DIR, \"examples\", \"Tracking_2D.json\")\n",
    "fname2 = os.path.join(SCRIPT_DIR, \"settings\", \"PSFvectorial2D.json\") # use a PSF that is defined via a json file\n",
    "sim.loadsequence(fname, fname2)"
   ]
  },
  {
   "cell_type": "code",
   "execution_count": null,
   "metadata": {},
   "outputs": [],
   "source": [
    "sim.sequence['locLimit'] = 100  # only track for 1000 localizations\n",
    "sim.makepatterns()\n",
    "defaultsequence = sim.sequence\n",
    "defaultdeadtimes = sim.deadtimes\n",
    "defaultestimators = sim.estimators"
   ]
  },
  {
   "cell_type": "code",
   "execution_count": null,
   "metadata": {},
   "outputs": [],
   "source": [
    "laserpower = 1\n",
    "updatetime = 0.0025 # ms\n",
    "repetitions = 20\n",
    "maxerr = 100"
   ]
  },
  {
   "cell_type": "markdown",
   "metadata": {},
   "source": [
    "## Plot Example Track"
   ]
  },
  {
   "cell_type": "code",
   "execution_count": null,
   "metadata": {},
   "outputs": [],
   "source": [
    "D = 3.0\n",
    "sim.posgalvo = [0, 0, 0]\n",
    "sim.posEOD = [0, 0, 0]\n",
    "fl=FlMoveBleach()\n",
    "fl.photonbudget = np.inf\n",
    "fl.brightness = 1000*laserpower\n",
    "fl.makediffusion(D,updatetime)\n",
    "sim.fluorophores = fl\n",
    "out=sim.runSequence(repetitions=1, resetfluorophores=True)\n",
    "err = np.sqrt((out.loc.xnm-out.loc.xfl1)**2+(out.loc.ynm-out.loc.yfl1)**2)\n",
    "indlost = np.where(err<maxerr)[1]"
   ]
  },
  {
   "cell_type": "code",
   "execution_count": null,
   "metadata": {},
   "outputs": [],
   "source": [
    "fig = plt.figure()\n",
    "ax = plt.subplot(221)\n",
    "ax.plot(out.loc.loccounter, out.loc.xnm)\n",
    "ax.plot(out.loc.loccounter,out.loc.xfl1)\n",
    "ax.plot(out.loc.loccounter, out.loc.ynm)\n",
    "ax.plot(out.loc.loccounter, out.loc.yfl1)\n",
    "ax.plot([indlost,indlost],[np.min(out.loc.ynm),np.max(out.loc.ynm)])\n",
    "ax.set_xlabel('time (localizations)')\n",
    "ax.set_ylabel('x position (nm)')\n",
    "ax.legend(['x estimated position','x fluorophore position','y estimated position','y fluorophore position'])"
   ]
  },
  {
   "cell_type": "code",
   "execution_count": null,
   "metadata": {},
   "outputs": [],
   "source": [
    "ax = plt.subplot(222)\n",
    "ax.plot(out.loc.xnm[:-1], out.loc.ynm[:-1])\n",
    "tfl = np.arange(0, out.loc.time[-1]+np.min(np.diff(out.loc.time,axis=0)), np.min(np.diff(out.loc.time,axis=0)))\n",
    "ax.plot(np.interp(tfl,fl.pos[:,0],fl.pos[:,1]),np.interp(tfl,fl.pos[:,0],fl.pos[:,2]))\n",
    "ax.set_xlabel('x position (nm)')\n",
    "ax.set_ylabel('y position (nm)')\n",
    "ax.set_aspect('equal')"
   ]
  },
  {
   "cell_type": "markdown",
   "metadata": {},
   "source": [
    "## investigate what happens if fluorophore gets lost"
   ]
  },
  {
   "cell_type": "code",
   "execution_count": null,
   "metadata": {},
   "outputs": [],
   "source": [
    "D = 3.0\n",
    "numtracks = 300\n",
    "lenwin = 10\n",
    "averagejump = np.zeros(lenwin)\n",
    "averageerr = np.zeros(lenwin)\n",
    "nj = 0\n",
    "for k in range(numtracks):\n",
    "    sim.posgalvo = [0, 0, 0]\n",
    "    sim.posEOD = [0, 0, 0]\n",
    "    sim.time=0\n",
    "    fl = FlMoveBleach()\n",
    "    fl.photonbudget = np.inf\n",
    "    fl.brightness = 1000*laserpower\n",
    "    fl.makediffusion(D, updatetime)\n",
    "    sim.fluorophores = fl\n",
    "    out=sim.runSequence(repetitions=1, resetfluorophores=True)\n",
    "    \n",
    "    err = np.sqrt((out.loc.xnm-out.loc.xfl1)**2+(out.loc.ynm-out.loc.yfl1)**2)\n",
    "    jx = np.vstack([np.diff(out.loc.xfl1, axis=0),0])\n",
    "    jy = np.vstack([np.diff(out.loc.yfl1, axis=0),0])\n",
    "    jump = np.sqrt(jx**2+jy**2)\n",
    "    \n",
    "    indlost = np.where(err<maxerr)[0][-1]\n",
    "    try:\n",
    "        averagejump += jump[(indlost-lenwin+3):(indlost+3)].squeeze()\n",
    "        averageerr += err[(indlost-lenwin+3):(indlost+3)].squeeze()\n",
    "        nj += 1\n",
    "    except ValueError:\n",
    "        pass"
   ]
  },
  {
   "cell_type": "code",
   "execution_count": null,
   "metadata": {},
   "outputs": [],
   "source": [
    "ax = plt.subplot(2,2,3)\n",
    "nx = np.arange(0,len(averageerr)).T-7\n",
    "ax.plot(nx,averagejump/nj)\n",
    "ax.plot(nx,averageerr/nj)\n",
    "ax.set_xlabel('time (localization)')\n",
    "ax.set_ylabel('jump, localization error (nm)')\n",
    "ax.legend(['average jump', 'average error'])"
   ]
  },
  {
   "cell_type": "markdown",
   "metadata": {},
   "source": [
    "## MSD analysis"
   ]
  },
  {
   "cell_type": "code",
   "execution_count": null,
   "metadata": {},
   "outputs": [],
   "source": [
    "tlast = 0\n",
    "D = 3.0\n",
    "# plot example track\n",
    "msdwin, msdwinr = 10, 1000\n",
    "msdmf = np.zeros(msdwin)\n",
    "msdfl = np.zeros(msdwin)\n",
    "msdflr = np.zeros(msdwinr)\n",
    "imsd, ir = 0, 0\n",
    "repetitionsmsd = 100\n",
    "dtmsd, dtmsdr = None, None\n",
    "for k in range(repetitionsmsd):\n",
    "    sim.posgalvo = [0, 0, 0]\n",
    "    sim.posEOD = [0, 0, 0]\n",
    "    sim.time = 0\n",
    "    fl = FlMoveBleach()\n",
    "    fl.photonbudget = np.inf\n",
    "    fl.brightness = 1000*laserpower\n",
    "    fl.makediffusion(D,updatetime)\n",
    "    sim.fluorophores = fl\n",
    "    out = sim.runSequence(repetitions=1, resetfluorophores=True)\n",
    "    err = np.sqrt((out.loc.xnm-out.loc.xfl1)**2+(out.loc.ynm-out.loc.yfl1)**2)\n",
    "    indlost = np.where(err<maxerr)[0][-1]\n",
    "    \n",
    "    msdhfr, dtmsdr = getmsd(fl.pos[:,1],fl.pos[:,2],fl.pos[:,0],msdwinr,fl.pos[1,0]-fl.pos[0,0])\n",
    "    msdflr = msdflr+msdhfr\n",
    "    ir = ir+1\n",
    "    \n",
    "    if indlost > 50:\n",
    "        time = out.loc.time[:indlost]\n",
    "        if dtmsd is None:\n",
    "            dtmsd = np.min(np.diff(time, axis=0))\n",
    "        xfl = np.interp(time, fl.pos[:,0],fl.pos[:,1])  # should be nearest\n",
    "        yfl = np.interp(time, fl.pos[:,0],fl.pos[:,2])\n",
    "        msdhf, dtmsd = getmsd(xfl,yfl,time,msdwin,dtmsd)\n",
    "        \n",
    "        msdhm, dtmsd = getmsd(out.loc.xnm[:indlost],out.loc.ynm[:indlost],time,msdwin,dtmsd)\n",
    "        if not (any(np.isnan(msdhm)) or any(np.isnan(msdfl))):\n",
    "            msdfl += msdhf\n",
    "            msdmf += msdhm\n",
    "            imsd += 1\n",
    "\n",
    "msdfl=msdfl/imsd\n",
    "msdmf=msdmf/imsd\n",
    "msdflr=msdflr/ir"
   ]
  },
  {
   "cell_type": "code",
   "execution_count": null,
   "metadata": {},
   "outputs": [],
   "source": [
    "ax = plt.subplot(224)\n",
    "Dflr, offflr, _ = msdfit(msdflr,dtmsdr,'m')\n",
    "Dfl, offfl, _ = msdfit(msdfl,dtmsd,'r')\n",
    "Dmf, offmf, msdt = msdfit(msdmf,dtmsd,'b')\n",
    "ax.set_xlim([0, msdt[-1]/1e3])\n",
    "\n",
    "\n",
    "ax.legend([\"fluorophore all\",f\"D={Dflr:.2f} µm2/s\",\"fluorophore tracked\",f\"D={Dfl:.2f} µm2/s\",\"Minflux\",f\"D={Dmf:.2f} µm2/s\"])"
   ]
  },
  {
   "cell_type": "code",
   "execution_count": null,
   "metadata": {},
   "outputs": [],
   "source": [
    "fig.tight_layout()"
   ]
  },
  {
   "cell_type": "markdown",
   "metadata": {},
   "source": [
    "## investigate maximum diffusion coefficient for various conditions"
   ]
  },
  {
   "cell_type": "code",
   "execution_count": null,
   "metadata": {},
   "outputs": [],
   "source": []
  },
  {
   "cell_type": "code",
   "execution_count": null,
   "metadata": {},
   "outputs": [],
   "source": [
    "sim.sequence=defaultsequence # reset\n",
    "sim.makepatterns()\n",
    "Dtest = np.hstack([0,0.1, 0.2, np.arange(0.25, 7.25, 0.25)])\n",
    "# Dtest = [0, 1]\n",
    "\n",
    "laserpowers = np.hstack([0.05, 0.1, np.arange(0.2, 1.0, 0.2), np.arange(1,5.5,0.5)])\n",
    "\n",
    "Dmaxl = np.zeros_like(laserpowers)\n",
    "efoD0l = np.zeros_like(laserpowers)\n",
    "rmseDmaxl = np.zeros_like(laserpowers)\n",
    "\n",
    "fig = plt.figure()\n",
    "for k in range(len(laserpowers)):\n",
    "    Dmaxl[k], efoD0l[k], rmseDmaxl[k] = maxDiffusion(sim, laserpowers[k], repetitions, Dtest, str(laserpowers[k]))\n",
    "\n",
    "fig.suptitle('laserpowers')"
   ]
  },
  {
   "cell_type": "code",
   "execution_count": null,
   "metadata": {},
   "outputs": [],
   "source": []
  }
 ],
 "metadata": {
  "kernelspec": {
   "display_name": "expansion",
   "language": "python",
   "name": "expansion"
  },
  "language_info": {
   "codemirror_mode": {
    "name": "ipython",
    "version": 3
   },
   "file_extension": ".py",
   "mimetype": "text/x-python",
   "name": "python",
   "nbconvert_exporter": "python",
   "pygments_lexer": "ipython3",
   "version": "3.11.10"
  }
 },
 "nbformat": 4,
 "nbformat_minor": 2
}
