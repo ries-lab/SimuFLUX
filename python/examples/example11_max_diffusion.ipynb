{
 "cells": [
  {
   "cell_type": "code",
   "execution_count": null,
   "metadata": {},
   "outputs": [],
   "source": [
    "%matplotlib widget\n",
    "\n",
    "import sys\n",
    "import os\n",
    "import copy\n",
    "from pathlib import Path\n",
    "\n",
    "SCRIPT_DIR = Path(os.getcwd()).parent\n",
    "sys.path.append(os.path.dirname(SCRIPT_DIR))"
   ]
  },
  {
   "cell_type": "code",
   "execution_count": null,
   "metadata": {},
   "outputs": [],
   "source": [
    "import numpy as np\n",
    "import matplotlib.pyplot as plt\n",
    "from scipy import special\n",
    "from scipy import optimize\n",
    "\n",
    "from python.fluorophores import FlMoveBleach\n",
    "from python.simulators import SimSequencefile"
   ]
  },
  {
   "cell_type": "markdown",
   "metadata": {},
   "source": [
    "## Helper functions we will need, can be ignored by user. Simply run the cell below and continue."
   ]
  },
  {
   "cell_type": "code",
   "execution_count": null,
   "metadata": {},
   "outputs": [],
   "source": [
    "def getmsd(x,y,time,maxd,dt):\n",
    "    x = x.squeeze()\n",
    "    y = y.squeeze()\n",
    "    time = time.squeeze()\n",
    "    \n",
    "    timeint = np.arange(np.min(time), np.max(time)+dt, dt)\n",
    "    # timeint = np.linspace(np.min(time), np.max(time), (np.max(time)-np.min(time))/dt)\n",
    "    xint = np.interp(timeint, time, x)\n",
    "    yint = np.interp(timeint, time, y)\n",
    "    msd = np.zeros(maxd)\n",
    "    for di in range(maxd):\n",
    "        try:\n",
    "            msd[di] = np.mean((xint[:-di]-xint[di:])**2+(yint[:-di]-yint[di:])**2)\n",
    "        except ValueError:\n",
    "            msd[di] = 0\n",
    "\n",
    "    return msd, dt\n",
    "\n",
    "def msdfit(msd,dt,linec):\n",
    "    msdt = np.arange(0, len(msd)*dt+dt, dt)\n",
    "    ax = plt.gca()\n",
    "    ax.plot(msdt[1:]/1e3,msd/1e6,linec)\n",
    "    fp = np.polyfit(msdt[1:], msd, deg=1)\n",
    "    fpf = np.poly1d(fp)\n",
    "    ax.plot(msdt/1e3,fpf(msdt)/1e6,linec+\"--\")\n",
    "    Dfit = fp[0]/1000/4  # um^2/s\n",
    "    off = np.sqrt(fp[1])\n",
    "    ax.set_xlabel('time (s)')\n",
    "    ax.set_ylabel('MSD ($\\mu$m^2)')\n",
    "\n",
    "    return Dfit, off, msdt\n",
    "\n",
    "\n",
    "def maxDiffusion(sim, laserpower, repetitions, Ds=None, dname=None, fig=None):\n",
    "    if Ds is None:\n",
    "        Ds = np.hstack([0, 0.1, 0.2, np.arange(0.25, 8.25, 0.25)])\n",
    "    if dname is None:\n",
    "        dname = \"data\"\n",
    "    if fig is None:\n",
    "        fig = plt.gcf()\n",
    "\n",
    "    if isinstance(Ds, list):\n",
    "        Ds = np.array(Ds)\n",
    "\n",
    "    # Ds = Ds.squeeze()\n",
    "    # print(f\"Ds.shape: {Ds.shape} len(Ds): {len(Ds)}\")\n",
    "\n",
    "    rmse = np.zeros((len(Ds), repetitions, 3))\n",
    "    efo = np.zeros((len(Ds), repetitions))\n",
    "    indlosta = np.zeros((len(Ds), repetitions))\n",
    "\n",
    "    maxerr = 100\n",
    "\n",
    "    for d in range(len(Ds)):\n",
    "        for k in range(repetitions):\n",
    "            sim.posgalvo = [0, 0, 0]\n",
    "            sim.posEOD = [0, 0, 0]\n",
    "            sim.time = 0\n",
    "\n",
    "            fl = FlMoveBleach()\n",
    "            fl.photonbudget = np.inf\n",
    "            fl.brightness = 1000*laserpower\n",
    "\n",
    "            D = Ds[d]  # um^2/s\n",
    "            fl.makediffusion(D,0.003)\n",
    "            sim.fluorophores = fl\n",
    "            out = sim.runSequence(repetitions=1, resetfluorophores=True)\n",
    "            err = np.sqrt((out.loc.xnm-out.loc.xfl1)**2+(out.loc.ynm-out.loc.yfl1)**2)\n",
    "            # print(\"err.shape\", err.shape, \"min\", err.min(), \"media\", np.median(err), \"mean\", err.mean(), \"max\", err.max())\n",
    "            try:\n",
    "                # print(err)\n",
    "                indlost = np.where(err<maxerr)[0][-1]\n",
    "                filter = (out.loc.itr==np.max(out.loc.itr))\n",
    "                # print(\"filter.shape\", filter.shape)\n",
    "                filter[indlost:] = False\n",
    "                sr=sim.summarize_results(out,display=False,filter=filter)\n",
    "                rmse[d,k,:] = sr.rmse.squeeze()\n",
    "                efo[d,k] = np.nanmean(out.loc.efo[filter])\n",
    "            except IndexError:\n",
    "                indlost = 0\n",
    "                rmse[d,k,:] = np.nan\n",
    "                efo[d,k] = np.nan\n",
    "            indlosta[d,k] = indlost\n",
    "\n",
    "    isconverged = indlosta > (sim.sequence['locLimit']-10)  # safe margin\n",
    "    # print(\"indlosta\")\n",
    "    # print(indlosta)\n",
    "    # print(\"sim.sequence['locLimit']\", sim.sequence['locLimit'])\n",
    "    # print(f\"isconverged: {isconverged.shape}\")\n",
    "    # print(isconverged)\n",
    "    fconverged = np.sum(isconverged,axis=1).squeeze()/repetitions\n",
    "    # print(f\"fconverged: {isconverged.shape}\")\n",
    "    # print(fconverged)\n",
    "\n",
    "    try:\n",
    "        startind = np.where(fconverged>0.5)[0][-1]\n",
    "    except IndexError:\n",
    "        startind = 0\n",
    "    startD = Ds[startind]\n",
    "\n",
    "    def sigmoid(x, D, alpha):\n",
    "        return 0.5-special.erf(alpha*(x-D))/2  # sigmoidal\n",
    "    \n",
    "    def sigmoid_diff(p0, x, y):\n",
    "        return sigmoid(x, *p0) - y\n",
    "    \n",
    "    p0 = [startD, 1]\n",
    "    # popt, _ = optimize.curve_fit(sigmoid, Ds, fconverged, p0=p0)\n",
    "    res = optimize.least_squares(sigmoid_diff, p0, args=(Ds, fconverged))\n",
    "    popt = res.x\n",
    "\n",
    "    # fig, ax = plt.subplots(1,1)\n",
    "    # ax.scatter(Ds, fconverged)\n",
    "    # ax.legend()\n",
    "    # print(f\"Ds: {Ds.shape}, fconverged: {fconverged.shape}\")\n",
    "    # print(f\"fit popt: {popt}\")\n",
    "    Dmax = popt[0]\n",
    "\n",
    "    rmsem = np.nanmean(rmse,axis=1).squeeze()\n",
    "    efoD0 = np.nanmean(efo[0,:])\n",
    "    try:\n",
    "        indconv = np.where(Ds<=Dmax)[0][-1]\n",
    "        rmseDmax = np.nanmean(rmsem[indconv,:2])\n",
    "\n",
    "        if np.any(np.array(rmseDmax.shape)!=1):\n",
    "            rmseDmax = np.nan\n",
    "    except IndexError:\n",
    "        rmseDmax = np.nan\n",
    "\n",
    "    if len(fig.get_axes()) < 1:\n",
    "        ax = fig.add_subplot(1,3,1)\n",
    "    else:\n",
    "        ax = fig.get_axes()[0]\n",
    "\n",
    "    hp = ax.plot(Ds, fconverged, label=dname)\n",
    "    # ax.set_xlim(left=0)\n",
    "    # ax.set_ylim(bottom=0)\n",
    "    ax.set_ylabel(\"fraction tracked\")\n",
    "    ax.set_xlabel('Diffusion coefficient $\\mu$m$^2$/s')\n",
    "    ax.set_title(f\"Dmax: {Dmax:.2f} $\\mu$m$^2$/s\")\n",
    "    ax.plot(Ds,sigmoid(Ds,*popt), color=hp[0].get_color(), linewidth=1, label=f\"{dname}fit\")\n",
    "    ax.legend()\n",
    "\n",
    "    if len(fig.get_axes()) < 2:\n",
    "        ax = fig.add_subplot(1,3,2)\n",
    "    else:\n",
    "        ax = fig.get_axes()[1]\n",
    "    ax.plot(Ds,np.nanmean(efo,axis=1),color=hp[0].get_color(),label=dname)\n",
    "    # ax.set_xlim(left=0)\n",
    "    # ax.set_ylim(bottom=0)\n",
    "    ax.set_xlabel('Diffusion coefficient $\\mu$m$^2$/s')\n",
    "    ax.set_ylabel(\"efo kHz\")\n",
    "    ax.legend()\n",
    "\n",
    "    if len(fig.get_axes()) < 3:\n",
    "        ax = fig.add_subplot(1,3,3)\n",
    "    else:\n",
    "        ax = fig.get_axes()[2]\n",
    "    \n",
    "    ax.plot(Ds,np.nanmean(rmsem[:,:2],axis=1),color=hp[0].get_color(),label=dname)\n",
    "    # ax.set_xlim(left=0)\n",
    "    # ax.set_ylim(bottom=0)\n",
    "    ax.set_ylabel(\"RMSE of converged (nm)\")\n",
    "    ax.set_xlabel('Diffusion coefficient $\\mu$m$^2$/s')\n",
    "    ax.legend()\n",
    "    \n",
    "    return Dmax, efoD0, rmseDmax\n"
   ]
  },
  {
   "cell_type": "markdown",
   "metadata": {},
   "source": [
    "## Start simulation by loading the simulator class"
   ]
  },
  {
   "cell_type": "code",
   "execution_count": null,
   "metadata": {},
   "outputs": [],
   "source": [
    "sim = SimSequencefile()"
   ]
  },
  {
   "cell_type": "code",
   "execution_count": null,
   "metadata": {},
   "outputs": [],
   "source": [
    "fname = os.path.join(SCRIPT_DIR, \"examples\", \"Tracking_2D.json\")\n",
    "fname2 = os.path.join(SCRIPT_DIR, \"settings\", \"PSFvectorial2D.json\") # use a PSF that is defined via a json file\n",
    "sim.loadsequence(fname, fname2)"
   ]
  },
  {
   "cell_type": "code",
   "execution_count": null,
   "metadata": {},
   "outputs": [],
   "source": [
    "sim.sequence['locLimit'] = 100\n",
    "sim.makepatterns()\n",
    "defaultsequence = copy.deepcopy(sim.sequence)\n",
    "defaultdeadtimes = copy.deepcopy(sim.deadtimes)\n",
    "defaultestimators = copy.deepcopy(sim.estimators)"
   ]
  },
  {
   "cell_type": "code",
   "execution_count": null,
   "metadata": {},
   "outputs": [],
   "source": [
    "laserpower = 1\n",
    "updatetime = 0.0025 # ms\n",
    "repetitions = 20\n",
    "maxerr = 100"
   ]
  },
  {
   "cell_type": "markdown",
   "metadata": {},
   "source": [
    "## Plot Example Track"
   ]
  },
  {
   "cell_type": "code",
   "execution_count": null,
   "metadata": {},
   "outputs": [],
   "source": [
    "D = 3.0\n",
    "sim.posgalvo = [0, 0, 0]\n",
    "sim.posEOD = [0, 0, 0]\n",
    "sim.time = 0\n",
    "fl=FlMoveBleach()\n",
    "fl.photonbudget = np.inf\n",
    "fl.brightness = 1000*laserpower\n",
    "fl.makediffusion(D,updatetime)\n",
    "sim.fluorophores = fl\n",
    "out=sim.runSequence(repetitions=1, resetfluorophores=True)\n",
    "err = np.sqrt((out.loc.xnm-out.loc.xfl1)**2+(out.loc.ynm-out.loc.yfl1)**2)\n",
    "indlost = np.where(err<maxerr)[0][-1]"
   ]
  },
  {
   "cell_type": "code",
   "execution_count": null,
   "metadata": {},
   "outputs": [],
   "source": [
    "fig = plt.figure()\n",
    "ax = plt.subplot(221)\n",
    "ax.plot(out.loc.loccounter, out.loc.xnm)\n",
    "ax.plot(out.loc.loccounter,out.loc.xfl1)\n",
    "ax.plot(out.loc.loccounter, out.loc.ynm)\n",
    "ax.plot(out.loc.loccounter, out.loc.yfl1)\n",
    "ax.plot([indlost,indlost],[np.min(out.loc.ynm),np.max(out.loc.ynm)])\n",
    "ax.set_xlabel('time (localizations)')\n",
    "ax.set_ylabel('x position (nm)')\n",
    "ax.legend(['x estimated position','x fluorophore position','y estimated position','y fluorophore position'])"
   ]
  },
  {
   "cell_type": "code",
   "execution_count": null,
   "metadata": {},
   "outputs": [],
   "source": [
    "ax = plt.subplot(222)\n",
    "ax.plot(out.loc.xnm[:-1], out.loc.ynm[:-1])\n",
    "mindiff = np.min(np.diff(out.loc.time,axis=0))\n",
    "tfl = np.arange(0, out.loc.time[-1]+mindiff, mindiff)\n",
    "ax.plot(np.interp(tfl,fl.pos[:,0],fl.pos[:,1]),np.interp(tfl,fl.pos[:,0],fl.pos[:,2]))\n",
    "ax.set_xlabel('x position (nm)')\n",
    "ax.set_ylabel('y position (nm)')\n",
    "ax.set_aspect('equal')"
   ]
  },
  {
   "cell_type": "markdown",
   "metadata": {},
   "source": [
    "## investigate what happens if fluorophore gets lost"
   ]
  },
  {
   "cell_type": "code",
   "execution_count": null,
   "metadata": {},
   "outputs": [],
   "source": [
    "D = 3.0\n",
    "numtracks = 300\n",
    "lenwin = 10\n",
    "averagejump = np.zeros(lenwin)\n",
    "averageerr = np.zeros(lenwin)\n",
    "nj = 0\n",
    "for k in range(numtracks):\n",
    "    sim.posgalvo = [0, 0, 0]\n",
    "    sim.posEOD = [0, 0, 0]\n",
    "    sim.time=0\n",
    "    fl = FlMoveBleach()\n",
    "    fl.photonbudget = np.inf\n",
    "    fl.brightness = 1000*laserpower\n",
    "    fl.makediffusion(D, updatetime)\n",
    "    sim.fluorophores = fl\n",
    "    out=sim.runSequence(repetitions=1, resetfluorophores=True)\n",
    "    \n",
    "    err = np.sqrt((out.loc.xnm-out.loc.xfl1)**2+(out.loc.ynm-out.loc.yfl1)**2)\n",
    "    jx = np.vstack([np.diff(out.loc.xfl1, axis=0),0])\n",
    "    jy = np.vstack([np.diff(out.loc.yfl1, axis=0),0])\n",
    "    jump = np.sqrt(jx**2+jy**2)\n",
    "    \n",
    "    indlost = np.where(err<maxerr)[0][-1]\n",
    "    try:\n",
    "        averagejump += jump[(indlost-lenwin+3):(indlost+3)].squeeze()\n",
    "        averageerr += err[(indlost-lenwin+3):(indlost+3)].squeeze()\n",
    "        nj += 1\n",
    "    except ValueError:\n",
    "        pass"
   ]
  },
  {
   "cell_type": "code",
   "execution_count": null,
   "metadata": {},
   "outputs": [],
   "source": [
    "ax = plt.subplot(2,2,3)\n",
    "nx = np.arange(0,len(averageerr)).T-7\n",
    "ax.plot(nx,averagejump/nj)\n",
    "ax.plot(nx,averageerr/nj)\n",
    "ax.set_xlabel('time (localization)')\n",
    "ax.set_ylabel('jump, localization error (nm)')\n",
    "ax.legend(['average jump', 'average error'])"
   ]
  },
  {
   "cell_type": "markdown",
   "metadata": {},
   "source": [
    "## MSD analysis"
   ]
  },
  {
   "cell_type": "code",
   "execution_count": null,
   "metadata": {},
   "outputs": [],
   "source": [
    "tlast = 0\n",
    "D = 3.0\n",
    "# plot example track\n",
    "msdwin, msdwinr = 10, 1000\n",
    "msdmf = np.zeros(msdwin)\n",
    "msdfl = np.zeros(msdwin)\n",
    "msdflr = np.zeros(msdwinr)\n",
    "imsd, ir = 0, 0\n",
    "repetitionsmsd = 100\n",
    "dtmsd, dtmsdr = None, None\n",
    "for k in range(repetitionsmsd):\n",
    "    sim.posgalvo = [0, 0, 0]\n",
    "    sim.posEOD = [0, 0, 0]\n",
    "    sim.time = 0\n",
    "    fl = FlMoveBleach()\n",
    "    fl.photonbudget = np.inf\n",
    "    fl.brightness = 1000*laserpower\n",
    "    fl.makediffusion(D,updatetime)\n",
    "    sim.fluorophores = fl\n",
    "    out = sim.runSequence(repetitions=1, resetfluorophores=True)\n",
    "    err = np.sqrt((out.loc.xnm-out.loc.xfl1)**2+(out.loc.ynm-out.loc.yfl1)**2)\n",
    "    indlost = np.where(err<maxerr)[0][-1]\n",
    "    \n",
    "    msdhfr, dtmsdr = getmsd(fl.pos[:,1],fl.pos[:,2],fl.pos[:,0],msdwinr,fl.pos[1,0]-fl.pos[0,0])\n",
    "    msdflr += msdhfr\n",
    "    ir += 1\n",
    "    \n",
    "    if indlost > 50:\n",
    "        time = out.loc.time[:indlost]\n",
    "        if dtmsd is None:\n",
    "            dtmsd = np.min(np.diff(time, axis=0))\n",
    "        xfl = np.interp(time, fl.pos[:,0],fl.pos[:,1])  # should be nearest\n",
    "        yfl = np.interp(time, fl.pos[:,0],fl.pos[:,2])\n",
    "        msdhf, dtmsd = getmsd(xfl,yfl,time,msdwin,dtmsd)\n",
    "        \n",
    "        msdhm, dtmsd = getmsd(out.loc.xnm[:indlost],out.loc.ynm[:indlost],time,msdwin,dtmsd)\n",
    "        if not (any(np.isnan(msdhm) | any(np.isnan(msdfl)))):\n",
    "            msdfl += msdhf\n",
    "            msdmf += msdhm\n",
    "            imsd += 1\n",
    "\n",
    "msdfl=msdfl/imsd\n",
    "msdmf=msdmf/imsd\n",
    "msdflr=msdflr/ir"
   ]
  },
  {
   "cell_type": "code",
   "execution_count": null,
   "metadata": {},
   "outputs": [],
   "source": [
    "ax = plt.subplot(224)\n",
    "Dflr, offflr, _ = msdfit(msdflr,dtmsdr,'m')\n",
    "Dfl, offfl, _ = msdfit(msdfl,dtmsd,'r')\n",
    "Dmf, offmf, msdt = msdfit(msdmf,dtmsd,'b')\n",
    "ax.set_xlim([0, msdt[-1]/1e3])\n",
    "\n",
    "\n",
    "ax.legend([\"fluorophore all\",f\"D={Dflr:.2f} µm2/s\",\"fluorophore tracked\",f\"D={Dfl:.2f} µm2/s\",\"Minflux\",f\"D={Dmf:.2f} µm2/s\"])"
   ]
  },
  {
   "cell_type": "code",
   "execution_count": null,
   "metadata": {},
   "outputs": [],
   "source": [
    "fig.tight_layout()"
   ]
  },
  {
   "cell_type": "markdown",
   "metadata": {},
   "source": [
    "## investigate maximum diffusion coefficient for various conditions"
   ]
  },
  {
   "cell_type": "code",
   "execution_count": null,
   "metadata": {},
   "outputs": [],
   "source": [
    "sim.sequence=copy.deepcopy(defaultsequence) # reset\n",
    "sim.makepatterns()\n",
    "Dtest = np.hstack([0,0.1, 0.2, np.arange(0.25, 7.25, 0.25)])\n",
    "\n",
    "laserpowers = np.hstack([0.05, 0.1, np.arange(0.2, 1.0, 0.2), np.arange(1,5.5,0.5)])\n",
    "\n",
    "Dmaxl = np.zeros_like(laserpowers)\n",
    "efoD0l = np.zeros_like(laserpowers)\n",
    "rmseDmaxl = np.zeros_like(laserpowers)\n",
    "\n",
    "fig = plt.figure(figsize=(10,10))\n",
    "for k in range(len(laserpowers)):\n",
    "    Dmaxl[k], efoD0l[k], rmseDmaxl[k] = maxDiffusion(sim, laserpowers[k], repetitions, Dtest, f\"{laserpowers[k]:.2f}\")\n",
    "fig.suptitle('laserpowers')\n",
    "fig.tight_layout()"
   ]
  },
  {
   "cell_type": "code",
   "execution_count": null,
   "metadata": {},
   "outputs": [],
   "source": [
    "figf = plt.figure(figsize=(10,10))\n",
    "\n",
    "axf1 = figf.add_subplot(3,4,1)\n",
    "axf1.plot(laserpowers,Dmaxl)\n",
    "axf1.set_xlabel('laserpower (a.u.)')\n",
    "axf1.set_ylabel('max Diffusion D µm^2/s')\n",
    "axf1.set_title('laserpower')\n",
    "# ax.text(0, 0.35, efoD0l)\n",
    "\n",
    "axf5 = figf.add_subplot(3,4,5)\n",
    "axf5.plot(laserpowers,rmseDmaxl)\n",
    "axf5.set_xlabel('laserpower (a.u.)')\n",
    "axf5.set_ylabel('rmse at Dmax (nm)')\n",
    "ax.set_title('laserpower')\n",
    "\n",
    "axf9 = figf.add_subplot(3,4,9)\n",
    "axf9.plot(laserpowers,efoD0l)\n",
    "axf9.set_ylabel('efo (kHz)')\n",
    "axf9.set_xlabel('laser power (a.u.)')\n",
    "axf9.set_title('laserpower')\n",
    "\n",
    "axf10 = figf.add_subplot(3,4,10)\n",
    "axf10.plot(efoD0l,rmseDmaxl)\n",
    "axf10.set_xlabel('efo (kHz)')\n",
    "axf10.set_ylabel('rmse at Dmax (nm)')\n",
    "axf10.set_title('laserpower')\n",
    "\n",
    "figf.tight_layout()"
   ]
  },
  {
   "cell_type": "markdown",
   "metadata": {},
   "source": [
    "## redo with no dead times and faster pattern dwell times"
   ]
  },
  {
   "cell_type": "code",
   "execution_count": null,
   "metadata": {},
   "outputs": [],
   "source": [
    "sim.sequence=copy.deepcopy(defaultsequence) # reset\n",
    "sim.deadtimes.point = 0\n",
    "sim.deadtimes.estimator = 0\n",
    "sim.sequence['Itr'][3]['patDwellTime'] = 2e-5  # 20 us\n",
    "sim.makepatterns()\n",
    "Dtestf = np.hstack([0, 0.1, 0.2, 0.3, np.arange(0.5, 20.5, 0.5)])\n",
    "\n",
    "Dmaxlf = np.zeros_like(laserpowers)\n",
    "efoD0lf = np.zeros_like(laserpowers)\n",
    "rmseDmaxlf = np.zeros_like(laserpowers)\n",
    "\n",
    "fig = plt.figure(figsize=(10,10))\n",
    "for k in range(len(laserpowers)):\n",
    "    Dmaxlf[k], efoD0lf[k], rmseDmaxlf[k] = maxDiffusion(sim, laserpowers[k], repetitions, Dtestf, f\"{laserpowers[k]:.2f}\")\n",
    "fig.suptitle('laserpowers')\n",
    "fig.tight_layout()\n",
    "\n",
    "sim.deadtimes=copy.deepcopy(defaultdeadtimes)  # back to default"
   ]
  },
  {
   "cell_type": "code",
   "execution_count": null,
   "metadata": {},
   "outputs": [],
   "source": [
    "axf1.plot(laserpowers,Dmaxlf)\n",
    "axf1.legend(['standard','no deadtime'])\n",
    "\n",
    "axf5.plot(laserpowers,rmseDmaxlf)\n",
    "axf5.legend(['standard','no deadtime'])\n",
    "\n",
    "axf9.plot(laserpowers,efoD0lf)\n",
    "\n",
    "axf10.plot(efoD0lf,rmseDmaxlf)\n",
    "\n",
    "figf.tight_layout()"
   ]
  },
  {
   "cell_type": "markdown",
   "metadata": {},
   "source": [
    "## L scan pattern size"
   ]
  },
  {
   "cell_type": "code",
   "execution_count": null,
   "metadata": {},
   "outputs": [],
   "source": [
    "sim.sequence=copy.deepcopy(defaultsequence) # reset\n",
    "Ldefault = sim.sequence['Itr'][3]['patGeoFactor']*360\n",
    "Ls = np.array([40, 75, 100, 150, 200, 250])\n",
    "laserpowerLnorm=laserpower*Ldefault**2/Ls**2\n",
    "\n",
    "DmaxL = np.zeros_like(Ls, dtype=float)\n",
    "efoD0L = np.zeros_like(Ls, dtype=float)\n",
    "rmseDmaxL = np.zeros_like(Ls, dtype=float)\n",
    "\n",
    "fig = plt.figure(figsize=(10,5))\n",
    "for k in range(len(Ls)):\n",
    "    sim.sequence['Itr'][3]['patGeoFactor'] = Ls[k]/360\n",
    "    sim.makepatterns()\n",
    "    DmaxL[k], efoD0L[k], rmseDmaxL[k] = maxDiffusion(sim, laserpowerLnorm[k], repetitions, Dtest, f\"{Ls[k]:.2f}\")\n",
    "fig.suptitle('L')\n",
    "# ax.text(0, 0.35, laserpowerLnorm)\n",
    "fig.tight_layout()\n"
   ]
  },
  {
   "cell_type": "code",
   "execution_count": null,
   "metadata": {},
   "outputs": [],
   "source": [
    "axf2 = figf.add_subplot(3,4,2)\n",
    "axf2.plot(Ls,DmaxL)\n",
    "axf2.set_xlabel('Scan pattern size L (nm)')\n",
    "axf2.set_ylabel('max Diffusion D $\\mu$m$^2$/s')\n",
    "axf2.set_title('L')\n",
    "\n",
    "axf6 = figf.add_subplot(3,4,6)\n",
    "axf6.plot(Ls,rmseDmaxL)\n",
    "axf6.set_xlabel('Scan pattern size L (nm)')\n",
    "axf6.set_ylabel('rmse at Dmax (nm)')\n",
    "axf6.set_title('L')"
   ]
  },
  {
   "cell_type": "markdown",
   "metadata": {},
   "source": [
    "## photon limit"
   ]
  },
  {
   "cell_type": "code",
   "execution_count": null,
   "metadata": {},
   "outputs": [],
   "source": [
    "sim.sequence=copy.deepcopy(defaultsequence) # reset\n",
    "\n",
    "photlim = [5, 10, 20, 30, 50, 100, 200]\n",
    "\n",
    "Dmaxpl = np.zeros_like(photlim, dtype=float)\n",
    "efoD0pl = np.zeros_like(photlim, dtype=float)\n",
    "rmseDmaxpl = np.zeros_like(photlim, dtype=float)\n",
    "\n",
    "fig = plt.figure(figsize=(10,5))\n",
    "for k in range(len(photlim)):\n",
    "    sim.sequence['Itr'][3]['phtLimit'] = photlim[k]\n",
    "    sim.makepatterns()\n",
    "    Dmaxpl[k], efoD0pl[k], rmseDmaxpl[k] = maxDiffusion(sim, laserpower, repetitions, Dtest, f\"{photlim[k]:.2f}\")\n",
    "fig.suptitle('photon limit')\n",
    "fig.tight_layout()"
   ]
  },
  {
   "cell_type": "code",
   "execution_count": null,
   "metadata": {},
   "outputs": [],
   "source": [
    "axf3 = figf.add_subplot(3,4,3)\n",
    "axf3.plot(photlim,Dmaxpl)\n",
    "axf3.set_xlabel('photon limit')\n",
    "axf3.set_ylabel('max Diffusion D µm^2/s')\n",
    "axf3.set_title('photon limit')\n",
    "\n",
    "axf7 = figf.add_subplot(3,4,7)\n",
    "axf7.plot(photlim,rmseDmaxpl)\n",
    "axf7.set_xlabel('photon limit')\n",
    "axf7.set_ylabel('rmse at Dmax (nm)')\n",
    "axf7.set_title('photon limit')"
   ]
  },
  {
   "cell_type": "markdown",
   "metadata": {},
   "source": [
    "## dwell time"
   ]
  },
  {
   "cell_type": "code",
   "execution_count": null,
   "metadata": {},
   "outputs": [],
   "source": [
    "sim.sequence=copy.deepcopy(defaultsequence) # reset\n",
    "\n",
    "dwelltimes=[10, 20, 50, 100, 200, 500, 1000] # us\n",
    "\n",
    "Dmaxdt = np.zeros_like(dwelltimes, dtype=float)\n",
    "efoD0dt = np.zeros_like(dwelltimes, dtype=float)\n",
    "rmseDmaxdt = np.zeros_like(dwelltimes, dtype=float)\n",
    "\n",
    "fig = plt.figure(figsize=(10,5))\n",
    "for k in range(len(dwelltimes)):\n",
    "    sim.sequence['Itr'][3]['patDwellTime'] = dwelltimes[k]*1e-6\n",
    "    sim.makepatterns()\n",
    "    Dmaxdt[k], efoD0dt[k], rmseDmaxdt[k] = maxDiffusion(sim, laserpower, repetitions, Dtest, f\"{dwelltimes[k]:.2f}\")\n",
    "fig.suptitle('pattern dwell time')\n",
    "fig.tight_layout()"
   ]
  },
  {
   "cell_type": "code",
   "execution_count": null,
   "metadata": {},
   "outputs": [],
   "source": [
    "axf4 = figf.add_subplot(3,4,4)\n",
    "axf4.plot(dwelltimes,Dmaxdt)\n",
    "axf4.set_xlabel('pattern dwell time $\\mu$s')\n",
    "axf4.set_ylabel('max Diffusion D $\\mu$m$^2$/s')\n",
    "axf4.set_title('pattern dwell time')\n",
    "\n",
    "axf8 = figf.add_subplot(3,4,8)\n",
    "axf8.plot(dwelltimes,rmseDmaxdt)\n",
    "axf8.set_xlabel('pattern dwell time $\\mu$s')\n",
    "axf8.set_ylabel('rmse at Dmax (nm)')\n",
    "axf8.set_title('pattern dwell time')"
   ]
  },
  {
   "cell_type": "markdown",
   "metadata": {},
   "source": [
    "## redo with fast instrument"
   ]
  },
  {
   "cell_type": "code",
   "execution_count": null,
   "metadata": {},
   "outputs": [],
   "source": [
    "sim.sequence=copy.deepcopy(defaultsequence) # reset\n",
    "sim.deadtimes.point = 0\n",
    "sim.deadtimes.estimator = 0\n",
    "\n",
    "Dmaxdtf = np.zeros_like(dwelltimes, dtype=float)\n",
    "efoD0dtf = np.zeros_like(dwelltimes, dtype=float)\n",
    "rmseDmaxdtf = np.zeros_like(dwelltimes, dtype=float)\n",
    "\n",
    "fig = plt.figure(figsize=(10,5))\n",
    "for k in range(len(dwelltimes)):\n",
    "    sim.sequence['Itr'][3]['patDwellTime'] = dwelltimes[k]*1e-6\n",
    "    sim.makepatterns()\n",
    "    Dmaxdtf[k], efoD0dtf[k], rmseDmaxdtf[k] = maxDiffusion(sim, laserpower, repetitions, Dtest, f\"{dwelltimes[k]:.2f}\")\n",
    "sim.deadtimes=copy.deepcopy(defaultdeadtimes) # back to default\n",
    "fig.suptitle('pattern dwell time fast')\n",
    "fig.tight_layout()"
   ]
  },
  {
   "cell_type": "code",
   "execution_count": null,
   "metadata": {},
   "outputs": [],
   "source": [
    "axf4.plot(dwelltimes,Dmaxdtf)\n",
    "axf4.legend(['normal','fast'])\n",
    "\n",
    "axf8.plot(dwelltimes,rmseDmaxdtf)"
   ]
  },
  {
   "cell_type": "markdown",
   "metadata": {},
   "source": [
    "## damping factor"
   ]
  },
  {
   "cell_type": "code",
   "execution_count": null,
   "metadata": {},
   "outputs": [],
   "source": [
    "sim.sequence=copy.deepcopy(defaultsequence) # reset\n",
    "\n",
    "dampingfs=[0, 0.2, 0.5, 1, 2, 5, 10]\n",
    "\n",
    "Dmaxdamp = np.zeros_like(dampingfs, dtype=float)\n",
    "efoD0damp = np.zeros_like(dampingfs, dtype=float)\n",
    "rmseDmaxdamp = np.zeros_like(dampingfs, dtype=float)\n",
    "\n",
    "fig = plt.figure(figsize=(10,5))\n",
    "for k in range(len(dampingfs)):\n",
    "    sim.sequence['damping'] = dampingfs[k]\n",
    "    sim.makepatterns()\n",
    "    Dmaxdamp[k], efoD0damp[k], rmseDmaxdamp[k] = maxDiffusion(sim, laserpower, repetitions, Dtest, f\"{dampingfs[k]:.2f}\")\n",
    "fig.suptitle('damping factor')\n",
    "fig.tight_layout()"
   ]
  },
  {
   "cell_type": "code",
   "execution_count": null,
   "metadata": {},
   "outputs": [],
   "source": [
    "axf11 = figf.add_subplot(3,4,11)\n",
    "axf11.plot(dampingfs,Dmaxdamp)\n",
    "axf11.set_xlabel('pattern dwell time µs')\n",
    "axf11.set_ylabel('max Diffusion D µm^2/s')\n",
    "axf11.set_title('damping factor')\n",
    "\n",
    "axf12 = figf.add_subplot(3,4,12)\n",
    "axf12.plot(dampingfs,rmseDmaxdamp)\n",
    "axf12.set_xlabel('pattern dwell time µs')\n",
    "axf12.set_ylabel('rmse at Dmax (nm)')\n",
    "axf12.set_title('damping factor')"
   ]
  },
  {
   "cell_type": "markdown",
   "metadata": {},
   "source": [
    "## compare different scan patterns"
   ]
  },
  {
   "cell_type": "code",
   "execution_count": null,
   "metadata": {},
   "outputs": [],
   "source": [
    "sim.sequence=copy.deepcopy(defaultsequence)\n",
    "sim.makepatterns()\n",
    "repetitions = 100\n",
    "fig = plt.figure(figsize=(10,5))\n",
    "\n",
    "# reference\n",
    "Dmaxp6, efop6, _ = maxDiffusion(sim, laserpower,repetitions,None,\"hexagon\")\n",
    "\n",
    "# 3 instead of 6 probing positions\n",
    "sim.sequence['Itr'][3]['Mode']['pattern'] = 'triangle'\n",
    "sim.makepatterns()\n",
    "Dmaxp3, efop3, _ = maxDiffusion(sim, laserpower,repetitions,None,\"triangle\")\n",
    "\n",
    "# 4 instead of 6 probing positions\n",
    "sim.sequence['Itr'][3]['Mode']['pattern'] = 'square'\n",
    "sim.makepatterns()\n",
    "Dmaxp4, efop4, _ = maxDiffusion(sim, laserpower,repetitions,None,\"square\")\n",
    "\n",
    "fig.suptitle(\"scan patterns\")\n",
    "\n",
    "fig.tight_layout()"
   ]
  },
  {
   "cell_type": "code",
   "execution_count": null,
   "metadata": {},
   "outputs": [],
   "source": [
    "fig = plt.figure(figsize=(10,5))\n",
    "repetitions=100\n",
    "# standard\n",
    "sim.sequence=copy.deepcopy(defaultsequence)\n",
    "sim.makepatterns()\n",
    "Dmaxp6, efop6, _ = maxDiffusion(sim, laserpower,repetitions,None,\"standard\")\n",
    "\n",
    "# optimized\n",
    "Lm=150\n",
    "Ldefault=102\n",
    "sim.sequence=copy.deepcopy(defaultsequence)\n",
    "sim.sequence['Itr'][3]['patDwellTime'] = 5e-5  #50 us\n",
    "sim.sequence['Itr'][3]['Mode']['pattern'] = 'square'\n",
    "sim.sequence['Itr'][3]['patGeoFactor'] = Lm/360\n",
    "laserpowerLnorm = laserpower*Ldefault**2/Lm**2\n",
    "sim.sequence['Itr'][3]['phtLimit'] = 10\n",
    "sim.makepatterns()\n",
    "Dmaxopt, efoopt, _ = maxDiffusion(sim, laserpowerLnorm,repetitions,None,\"optimized\")\n",
    "fig.suptitle(f\"D_s={Dmaxp6:.3f}, D_o={Dmaxopt:.3f}\")\n",
    "\n",
    "fig.tight_layout()"
   ]
  },
  {
   "cell_type": "markdown",
   "metadata": {},
   "source": [
    "## better estimator"
   ]
  },
  {
   "cell_type": "code",
   "execution_count": null,
   "metadata": {},
   "outputs": [],
   "source": [
    "fig = plt.figure(figsize=(10,5))\n",
    "# standard\n",
    "sim.sequence=copy.deepcopy(defaultsequence)\n",
    "sim.makepatterns()\n",
    "Dmaxp6b,efop6b, _ = maxDiffusion(sim, laserpower,repetitions,None,\"standard\")\n",
    "\n",
    "sim.sequence=copy.deepcopy(defaultsequence)\n",
    "sim.estimators[3]['function']='est_qLSQiter2D'\n",
    "sim.estimators[3]['par'][2] = False  # no ccr check\n",
    "sim.estimators[3]['par'][0] = None\n",
    "sim.makepatterns()\n",
    "\n",
    "D0est, efoest, _ = maxDiffusion(sim, laserpower,repetitions,None,\"iterLSQ\")\n",
    "sim.estimators = copy.deepcopy(defaultestimators)\n",
    "\n",
    "fig.tight_layout()"
   ]
  },
  {
   "cell_type": "code",
   "execution_count": null,
   "metadata": {},
   "outputs": [],
   "source": []
  }
 ],
 "metadata": {
  "kernelspec": {
   "display_name": "expansion",
   "language": "python",
   "name": "expansion"
  },
  "language_info": {
   "codemirror_mode": {
    "name": "ipython",
    "version": 3
   },
   "file_extension": ".py",
   "mimetype": "text/x-python",
   "name": "python",
   "nbconvert_exporter": "python",
   "pygments_lexer": "ipython3",
   "version": "3.11.10"
  }
 },
 "nbformat": 4,
 "nbformat_minor": 2
}
