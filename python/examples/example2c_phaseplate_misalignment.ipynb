{
 "cells": [
  {
   "cell_type": "code",
   "execution_count": null,
   "metadata": {},
   "outputs": [],
   "source": [
    "%matplotlib widget\n",
    "\n",
    "import sys\n",
    "import os\n",
    "from pathlib import Path\n",
    "\n",
    "SCRIPT_DIR = Path(os.getcwd()).parent\n",
    "sys.path.append(os.path.dirname(SCRIPT_DIR))"
   ]
  },
  {
   "cell_type": "code",
   "execution_count": null,
   "metadata": {},
   "outputs": [],
   "source": [
    "import numpy as np\n",
    "import matplotlib.pyplot as plt\n",
    "from matplotlib.gridspec import GridSpec\n",
    "\n",
    "from python.fluorophores import FlStatic\n",
    "from python.psfs import PsfVectorial\n",
    "from python.estimators import est_quad2Diter\n",
    "from python.simulators import Simulator"
   ]
  },
  {
   "cell_type": "code",
   "execution_count": null,
   "metadata": {},
   "outputs": [],
   "source": [
    "psf_vecpp = PsfVectorial()\n",
    "psf_vecpp.setpinhole(AU=1)\n",
    "phaseplateposmm = np.arange(6)/10  # mm\n",
    "zpos = [-200, -100, 0, 100, 200,]\n",
    "phaseplateposrel = phaseplateposmm/2.5  # pupil diameter assumed to be 5 mm; \n",
    "stdx = np.zeros((len(phaseplateposrel),len(zpos),3))\n",
    "crb1 = np.zeros((len(phaseplateposrel),len(zpos),3))\n",
    "biasx = np.zeros((len(phaseplateposrel),len(zpos),3))\n",
    "rmsex = np.zeros((len(phaseplateposrel),len(zpos),3))\n",
    "phot = np.zeros((len(phaseplateposrel),len(zpos),1))"
   ]
  },
  {
   "cell_type": "code",
   "execution_count": null,
   "metadata": {},
   "outputs": [],
   "source": [
    "fl = FlStatic(brightness=1000)  # define a static fluorophore\n",
    "fl.pos = [10, 0, 0]\n",
    "\n",
    "sim = Simulator(fluorophores=fl)\n",
    "\n",
    "numberOfLocalizations=1000\n",
    "\n",
    "# define scan pattern\n",
    "L = 75\n",
    "zeroposx = np.atleast_2d(np.array([-1,1,0])*L/2)\n",
    "probecenter = True  # should we also probe the center?\n",
    "orbitpoints = 6\n",
    "laserpower = 10  # relative, increases brightness\n",
    "pointdwelltime = 0.1  # ms, measurement time in each point\n",
    "repetitions = 1  # how often to repeat the pattern scan\n",
    "\n",
    "sim.defineComponent(\"estdonut\", \"estimator\", est_quad2Diter, parameters=[L, probecenter], dim=(0,1))"
   ]
  },
  {
   "cell_type": "code",
   "execution_count": null,
   "metadata": {},
   "outputs": [],
   "source": [
    "psfall = []\n",
    "stdx = np.zeros((len(phaseplateposrel), len(zpos), 3))\n",
    "crb1 = np.zeros((len(phaseplateposrel), len(zpos), 3))\n",
    "biasx = np.zeros((len(phaseplateposrel), len(zpos), 3))\n",
    "rmsex = np.zeros((len(phaseplateposrel), len(zpos), 3))\n",
    "phot = np.zeros((len(phaseplateposrel), len(zpos)))\n",
    "for k in range(len(phaseplateposrel)):\n",
    "    sys_mis = {}\n",
    "    sys_mis['maskshift'] = [phaseplateposrel[k], 0]  # radius of pupil function is 1\n",
    "    psf_vecpp.setpar(**sys_mis)\n",
    "    sim.definePattern(\"donut_misaligned\", psf_vecpp, \n",
    "                      phasemask=\"vortex\", \n",
    "                      makepattern=\"orbitscan\", \n",
    "                      orbitpoints=orbitpoints, \n",
    "                      probecenter=probecenter,\n",
    "                      orbitL=L,\n",
    "                      pointdwelltime=pointdwelltime,\n",
    "                      laserpower=laserpower,\n",
    "                      repetitions=repetitions)\n",
    "    stack, gridv = psf_vecpp.imagestack(\"vortex\")\n",
    "    psfall.append(stack)\n",
    "    for z in range(len(zpos)):\n",
    "        sim.fluorophores.pos = [0, 0, zpos[z]]\n",
    "        seq = [\"donut_misaligned\", \"estdonut\"]\n",
    "        out = sim.runSequence(seq)\n",
    "        sr = sim.summarize_results(out)\n",
    "        stdx[k,z,:] = sr.std\n",
    "        crb1[k,z,:] = sr.sCRB1\n",
    "        biasx[k,z,:] = sr.bias\n",
    "        rmsex[k,z,:] = sr.rmse\n",
    "        phot[k,z] = sr.phot\n",
    "\n",
    "stdxrel=stdx/crb1[0,:,:]*np.sqrt(phot)[...,None]  # normalized to perfectly aligned phaseplate and photon numbers\n",
    "rmserel=rmsex/crb1[0,:,:]*np.sqrt(phot)[...,None]  # normalized to perfectly aligned phaseplate and photon numbers\n",
    "\n",
    "psfall = np.stack(psfall,axis=3)  # to array"
   ]
  },
  {
   "cell_type": "code",
   "execution_count": null,
   "metadata": {},
   "outputs": [],
   "source": [
    "fig = plt.figure()\n",
    "gs = GridSpec(3, 3, figure=fig)\n",
    "\n",
    "ax = fig.add_subplot(gs[0,0])              \n",
    "ax.plot(phaseplateposmm, stdxrel[:,0,0], phaseplateposmm, stdxrel[:,0,1],'--')\n",
    "ax.set_xlabel('misalignment of phase plate (mm)')\n",
    "ax.set_ylabel('std / CRB aligned')\n",
    "ax.set_title(\"Standard deviation\")\n",
    "ax.legend([\"x\",\"y\"])\n",
    "\n",
    "ax = fig.add_subplot(gs[0,2])\n",
    "ax.plot(zpos, biasx[:,:,0].T, zpos, biasx[:,:,1].T,'--')\n",
    "ax.set_xlabel('z position (nm)')\n",
    "ax.set_ylabel('bias (nm)')\n",
    "ax.legend(phaseplateposmm)\n",
    "ax.set_title(\"Bias\")\n",
    "\n",
    "ax = fig.add_subplot(gs[0,1])\n",
    "ax.plot(phaseplateposmm, rmserel[:,:,0], phaseplateposmm, rmserel[:,:,1],'--')\n",
    "ax.set_xlabel('misalignment of phase plate (mm)')\n",
    "ax.set_ylabel('rmse / CRB aligned')\n",
    "ax.set_title(\"Root mean square error (rmse)\")\n",
    "ax.legend(zpos)"
   ]
  },
  {
   "cell_type": "code",
   "execution_count": null,
   "metadata": {},
   "outputs": [],
   "source": [
    "\n",
    "for z in range(len(zpos)):\n",
    "    if z==0:\n",
    "        indz = np.where(gridv[2] >= zpos[z])[0][0].astype(int)\n",
    "        psfz = psfall[:,:,indz,-1]\n",
    "    else:\n",
    "        indzp = indz\n",
    "        indz = np.zeros(z+1, dtype=int)\n",
    "        indz[:z] = indzp\n",
    "        indz[z] = np.where(gridv[2] >= zpos[z])[0][0].astype(int)\n",
    "        psfz=np.hstack([psfz, psfall[:,:,indz[z],-1]])\n",
    "\n",
    "ax = fig.add_subplot(gs[1,:])\n",
    "ax.imshow(psfz)\n",
    "ax.set_title('z pos')"
   ]
  },
  {
   "cell_type": "code",
   "execution_count": null,
   "metadata": {},
   "outputs": [],
   "source": [
    "indz0 = np.where(gridv[2] >= 0)[0][0].astype(int)\n",
    "for k in range(len(phaseplateposmm)):\n",
    "    if k==0:\n",
    "        psfx = psfall[:,:,indz0,k]\n",
    "    else:\n",
    "        psfx = np.hstack([psfx,psfall[:,:,indz0,k]])\n",
    "ax = fig.add_subplot(gs[2,:])\n",
    "ax.imshow(psfx)\n",
    "ax.set_title('misalignment')\n"
   ]
  }
 ],
 "metadata": {
  "kernelspec": {
   "display_name": "expansion",
   "language": "python",
   "name": "python3"
  },
  "language_info": {
   "codemirror_mode": {
    "name": "ipython",
    "version": 3
   },
   "file_extension": ".py",
   "mimetype": "text/x-python",
   "name": "python",
   "nbconvert_exporter": "python",
   "pygments_lexer": "ipython3",
   "version": "3.11.10"
  }
 },
 "nbformat": 4,
 "nbformat_minor": 2
}
