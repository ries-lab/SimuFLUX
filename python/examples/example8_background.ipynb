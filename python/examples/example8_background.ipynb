{
 "cells": [
  {
   "cell_type": "code",
   "execution_count": null,
   "metadata": {},
   "outputs": [],
   "source": [
    "%matplotlib widget\n",
    "\n",
    "import sys\n",
    "import os\n",
    "from pathlib import Path\n",
    "\n",
    "SCRIPT_DIR = Path(os.getcwd()).parent\n",
    "sys.path.append(os.path.dirname(SCRIPT_DIR))"
   ]
  },
  {
   "cell_type": "code",
   "execution_count": null,
   "metadata": {},
   "outputs": [],
   "source": [
    "import numpy as np\n",
    "import matplotlib.pyplot as plt\n",
    "\n",
    "from python.fluorophores import FlStatic\n",
    "from python.fluorophores import FlCollection\n",
    "from python.psfs import PsfVectorial\n",
    "from python.estimators import est_qLSQiter2D\n",
    "from python.estimators import backgroundsubtractor\n",
    "from python.simulators import Simulator"
   ]
  },
  {
   "cell_type": "markdown",
   "metadata": {},
   "source": [
    "## Investigate the effect of background\n",
    "Causes: imperfect zero, autofluorescence background, nearby fluorophore\n",
    "XXX background handling of estimator wrong, this makes this not well\n",
    "interpretable. Use bg calibration and background in estimator"
   ]
  },
  {
   "cell_type": "code",
   "execution_count": null,
   "metadata": {},
   "outputs": [],
   "source": [
    "psf_vec = PsfVectorial()\n",
    "psf_vec.setpinhole(AU=1)"
   ]
  },
  {
   "cell_type": "code",
   "execution_count": null,
   "metadata": {},
   "outputs": [],
   "source": [
    "sim = Simulator()\n",
    "laserpower = 10\n",
    "numberOfLocalizations = 1000\n",
    "L = 75\n",
    "probecenter = True\n",
    "estimatebackground = True\n",
    "sim.definePattern(\"donut\", psf_vec,\n",
    "                  phasemask=\"vortex\", \n",
    "                  makepattern=\"orbitscan\", \n",
    "                  orbitpoints=4, \n",
    "                  probecenter=probecenter,\n",
    "                  orbitL=L,\n",
    "                  laserpower=laserpower,\n",
    "                  pointdwelltime=0.1)\n",
    "sim.defineComponent(\"estdonut\", \"estimator\", est_qLSQiter2D, parameters=[L, probecenter], dim=(0,1))\n",
    "sim.defineComponent(\"bg\", \"background\", backgroundsubtractor, parameters=[\"background_estimated\"])\n",
    "seq = [\"donut\", \"bg\", \"estdonut\"]\n",
    "fltestpos = [10, 0, 0]\n",
    "fl1 = FlStatic()\n",
    "fl1.pos = fltestpos\n",
    "sim.fluorophores = fl1\n"
   ]
  },
  {
   "cell_type": "code",
   "execution_count": null,
   "metadata": {},
   "outputs": [],
   "source": [
    "plt.figure()"
   ]
  },
  {
   "cell_type": "code",
   "execution_count": null,
   "metadata": {},
   "outputs": [],
   "source": [
    "# no background\n",
    "sim.background_estimated = 0\n",
    "fl1.pos = fltestpos\n",
    "psf_vec.zerooffset = 0\n",
    "out = sim.runSequence(seq, maxlocs=numberOfLocalizations)\n",
    "print(\"no background\")\n",
    "sim.summarize_results(out)"
   ]
  },
  {
   "cell_type": "markdown",
   "metadata": {},
   "source": [
    "# imperfect zero"
   ]
  },
  {
   "cell_type": "code",
   "execution_count": null,
   "metadata": {},
   "outputs": [],
   "source": [
    "\n",
    "psf_vec.zerooffset=0.01\n",
    "# estimate background by scanning centered fluorophore\n",
    "fl1.pos = [0, 0, 0]\n",
    "sim.background_estimated = 0\n",
    "outtest = sim.runSequence(seq, maxlocs=numberOfLocalizations)\n",
    "bgphot = np.mean(outtest.raw[:,-1])\n",
    "bgzeroscan = bgphot/outtest.par[0].pointdwelltime\n",
    "bgestdirect=fl1.brightness*psf_vec.zerooffset*laserpower*psf_vec.PSFs[\"pinhole63300\"].interp([0, 0, 0])   # illustration how zero offset is converted into background\n",
    "sim.background_estimated=bgzeroscan\n",
    "fl1.pos=fltestpos\n",
    "out=sim.runSequence(seq, maxlocs=numberOfLocalizations)\n",
    "print(\"zerooffset: \")\n",
    "sim.summarize_results(out)"
   ]
  },
  {
   "cell_type": "markdown",
   "metadata": {},
   "source": [
    "## Autofluorescence background"
   ]
  },
  {
   "cell_type": "code",
   "execution_count": null,
   "metadata": {},
   "outputs": [],
   "source": [
    "psf_vec.zerooffset = 0.0\n",
    "sim.background = 30\n",
    "sim.background_estimated = sim.background*laserpower  # in general, the GT background is not known but needs to be calibrated \n",
    "out = sim.runSequence(seq, maxlocs=numberOfLocalizations)\n",
    "print(\"fluorescence background: \")\n",
    "sim.summarize_results(out)"
   ]
  },
  {
   "cell_type": "markdown",
   "metadata": {},
   "source": [
    "## nearby fluorophore"
   ]
  },
  {
   "cell_type": "code",
   "execution_count": null,
   "metadata": {},
   "outputs": [],
   "source": [
    "fl2 = FlStatic()\n",
    "fl2.pos = [50, 50, 400]\n",
    "\n",
    "fc = FlCollection()\n",
    "fc.add([fl1, fl2])\n",
    "psf_vec.zerooffset = 0\n",
    "sim.fluorophores = fc  # make a simulator and attach fluorophore\n",
    "sim.background_estimated = 0  # we don't know bg\n",
    "out = sim.runSequence(seq, maxlocs=numberOfLocalizations)\n",
    "print(\"nearby fluorophore: \")\n",
    "sim.summarize_results(out)"
   ]
  },
  {
   "cell_type": "code",
   "execution_count": null,
   "metadata": {},
   "outputs": [],
   "source": []
  }
 ],
 "metadata": {
  "kernelspec": {
   "display_name": "expansion",
   "language": "python",
   "name": "python3"
  },
  "language_info": {
   "codemirror_mode": {
    "name": "ipython",
    "version": 3
   },
   "file_extension": ".py",
   "mimetype": "text/x-python",
   "name": "python",
   "nbconvert_exporter": "python",
   "pygments_lexer": "ipython3",
   "version": "3.11.10"
  }
 },
 "nbformat": 4,
 "nbformat_minor": 2
}
