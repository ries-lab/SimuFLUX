{
 "cells": [
  {
   "cell_type": "code",
   "execution_count": null,
   "metadata": {},
   "outputs": [],
   "source": [
    "%matplotlib widget\n",
    "\n",
    "import sys\n",
    "import os\n",
    "from pathlib import Path\n",
    "\n",
    "SCRIPT_DIR = Path(os.getcwd()).parent\n",
    "sys.path.append(os.path.dirname(SCRIPT_DIR))"
   ]
  },
  {
   "cell_type": "code",
   "execution_count": null,
   "metadata": {},
   "outputs": [],
   "source": [
    "import numpy as np\n",
    "import matplotlib.pyplot as plt\n",
    "\n",
    "from python.fluorophores import FlMoveBleach\n",
    "from python.simulators import SimSequencefile"
   ]
  },
  {
   "cell_type": "code",
   "execution_count": null,
   "metadata": {},
   "outputs": [],
   "source": [
    "sim = SimSequencefile()\n",
    "fname = os.path.join(SCRIPT_DIR, \"examples\", \"Tracking_2D.json\")\n",
    "fname2 = os.path.join(SCRIPT_DIR, \"settings\", \"PSFvectorial2D.json\") # use a PSF that is defined via a json file\n",
    "sim.loadsequence(fname, fname2)\n",
    "sim.sequence['locLimit'] = 200\n",
    "sim.sequence['Itr'][3]['phtLimit'] = 20\n",
    "sim.sequence['Itr'][3]['patGeoFactor'] = 0.5\n",
    "sim.makepatterns()"
   ]
  },
  {
   "cell_type": "markdown",
   "metadata": {},
   "source": [
    "## make diffusing, bleaching fluorophores\n"
   ]
  },
  {
   "cell_type": "code",
   "execution_count": null,
   "metadata": {},
   "outputs": [],
   "source": [
    "laserpower = 0.8 \n",
    "Ds = np.arange(11)*0.1+0.5\n",
    "repetitions = 5\n",
    "rmse = np.zeros((len(Ds),repetitions,3))\n",
    "efo = np.zeros((len(Ds),repetitions))\n",
    "\n",
    "for d in range(len(Ds)):\n",
    "    for k in range(repetitions):\n",
    "        sim.posgalvo = [0, 0, 0]\n",
    "        sim.posEOD = [0, 0, 0]\n",
    "        sim.time = 0\n",
    "\n",
    "        fl = FlMoveBleach()\n",
    "        fl.photonbudget = np.inf\n",
    "        fl.brightness = 1000*laserpower\n",
    "        updatetime = 0.01 # ms\n",
    "        D=Ds[d]  # um^2/s\n",
    "        fl.makediffusion(D, updatetime)\n",
    "        sim.fluorophores = fl\n",
    "        out = sim.runSequence(repetitions=1, resetfluorophores=True)\n",
    "        filter=out.loc.itr==max(out.loc.itr)\n",
    "        sr=sim.summarize_results(out,display=False, filter=filter)\n",
    "        rmse[d,k,:] = sr.rmse\n",
    "        efo[d,k] = np.mean(out.loc.efo[filter])\n",
    "\n",
    "rmsem = np.mean(rmse,axis=1).squeeze()\n",
    "indconverged = rmse<(rmse[0,0,0]*3)\n",
    "fconverged =  np.sum(indconverged,axis=1).squeeze()/repetitions\n",
    "rmsec=rmse\n",
    "rmsec[~indconverged] = np.nan\n",
    "rmsecm = np.nanmean(rmsec, axis=1)"
   ]
  },
  {
   "cell_type": "code",
   "execution_count": null,
   "metadata": {},
   "outputs": [],
   "source": [
    "fig = plt.figure()\n",
    "ax = fig.add_subplot(131)\n",
    "ax.plot(Ds, np.mean(fconverged[:,:2],axis=1))\n",
    "ax.set_ylabel(\"fraction tracked\")\n",
    "ax.set_xlabel('Diffusion coefficient um^2/s')\n",
    "\n",
    "ax = fig.add_subplot(132)\n",
    "ax.plot(Ds,np.mean(efo,axis=1))\n",
    "ax.set_xlabel('Diffusion coefficient um^2/s')\n",
    "ax.set_ylabel(\"efo kHz\")\n",
    "\n",
    "ax = fig.add_subplot(133)\n",
    "ax.plot(Ds, np.mean(rmsecm[:,:2],axis=1))\n",
    "ax.set_ylabel(\"RMSE of converged (nm)\")\n",
    "ax.set_xlabel('Diffusion coefficient um^2/s')\n",
    "\n",
    "fig.tight_layout()"
   ]
  }
 ],
 "metadata": {
  "kernelspec": {
   "display_name": "expansion",
   "language": "python",
   "name": "expansion"
  },
  "language_info": {
   "codemirror_mode": {
    "name": "ipython",
    "version": 3
   },
   "file_extension": ".py",
   "mimetype": "text/x-python",
   "name": "python",
   "nbconvert_exporter": "python",
   "pygments_lexer": "ipython3",
   "version": "3.11.10"
  }
 },
 "nbformat": 4,
 "nbformat_minor": 2
}
