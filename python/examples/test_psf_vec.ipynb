{
 "cells": [
  {
   "cell_type": "code",
   "execution_count": 1,
   "metadata": {},
   "outputs": [],
   "source": [
    "%matplotlib widget\n",
    "\n",
    "# import matplotlib.pyplot as plt\n",
    "import sys\n",
    "import os\n",
    "from pathlib import Path\n",
    "\n",
    "SCRIPT_DIR = Path(os.getcwd()).parent\n",
    "sys.path.append(os.path.dirname(SCRIPT_DIR))"
   ]
  },
  {
   "cell_type": "code",
   "execution_count": 2,
   "metadata": {},
   "outputs": [],
   "source": [
    "import numpy as np\n",
    "from python.psfs import PsfDonut2D, PsfVectorial\n",
    "from python.mProfile import mProfile"
   ]
  },
  {
   "cell_type": "code",
   "execution_count": 3,
   "metadata": {},
   "outputs": [],
   "source": [
    "psf_donut = PsfDonut2D() \n",
    "psf_vec = PsfVectorial() "
   ]
  },
  {
   "cell_type": "code",
   "execution_count": null,
   "metadata": {},
   "outputs": [],
   "source": [
    "flposrel = np.array([10, 0, 0])\n",
    "patternpos = np.array([37.5, 0., 0.])\n",
    "phasemask = None\n",
    "L = 75  \n",
    "\n",
    "I_donut = psf_donut.intensity(flposrel,\n",
    "                        patternpos,\n",
    "                        phasemask,\n",
    "                        L)\n",
    "I_donut"
   ]
  },
  {
   "cell_type": "code",
   "execution_count": null,
   "metadata": {},
   "outputs": [],
   "source": [
    "mProfile.profileOn(['utilities.py', 'psf.py', 'psf_vectorial.py'])\n",
    "\n",
    "# import cProfile, pstats, io\n",
    "# from pstats import SortKey\n",
    "# pr = cProfile.Profile()\n",
    "# pr.enable()\n",
    "I_model = psf_vec.calculate_psf('vortex75', phasepattern='vortex', force=True)\n",
    "# pr.disable()\n",
    "# s = io.StringIO()\n",
    "# sortby = SortKey.TIME\n",
    "# ps = pstats.Stats(pr, stream=s).sort_stats(sortby)\n",
    "# ps.print_stats()\n",
    "# print(s.getvalue())\n",
    "\n",
    "mProfile.profileOff()\n",
    "mProfile.report()\n"
   ]
  },
  {
   "cell_type": "code",
   "execution_count": null,
   "metadata": {},
   "outputs": [],
   "source": [
    "from python.tools import imx\n",
    "\n",
    "imx(I_model.values.T)"
   ]
  },
  {
   "cell_type": "code",
   "execution_count": null,
   "metadata": {},
   "outputs": [],
   "source": [
    "psf_vec.dipole_field.shape"
   ]
  },
  {
   "cell_type": "code",
   "execution_count": null,
   "metadata": {},
   "outputs": [],
   "source": []
  }
 ],
 "metadata": {
  "kernelspec": {
   "display_name": "expansion",
   "language": "python",
   "name": "python3"
  },
  "language_info": {
   "codemirror_mode": {
    "name": "ipython",
    "version": 3
   },
   "file_extension": ".py",
   "mimetype": "text/x-python",
   "name": "python",
   "nbconvert_exporter": "python",
   "pygments_lexer": "ipython3",
   "version": "3.11.10"
  }
 },
 "nbformat": 4,
 "nbformat_minor": 4
}
