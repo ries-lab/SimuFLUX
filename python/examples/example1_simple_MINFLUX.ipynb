{
 "cells": [
  {
   "cell_type": "code",
   "execution_count": 1,
   "metadata": {},
   "outputs": [],
   "source": [
    "import sys\n",
    "import os\n",
    "from pathlib import Path\n",
    "\n",
    "SCRIPT_DIR = Path(os.getcwd()).parent\n",
    "sys.path.append(os.path.dirname(SCRIPT_DIR))"
   ]
  },
  {
   "cell_type": "code",
   "execution_count": 2,
   "metadata": {},
   "outputs": [],
   "source": [
    "from python.fluorophores import FlStatic\n",
    "from python.psfs import PsfDonut2D\n",
    "from python.estimators import est_donut2d\n",
    "from python.simulators import Simulator"
   ]
  },
  {
   "cell_type": "code",
   "execution_count": 3,
   "metadata": {},
   "outputs": [],
   "source": [
    "fl = FlStatic()  # define a static fluorophore\n",
    "fl.pos = [10, 0, 0]\n",
    "fl.brightness = 1000 # kHz if excited at the center of a Gaussian beam\n",
    "\n",
    "psf_donut = PsfDonut2D() # here you define a PSF. In this case, an analytical 2D donut PSF\n",
    "\n",
    "sim = Simulator(fl)\n",
    "\n",
    "numberOfLocalizations=1000"
   ]
  },
  {
   "cell_type": "code",
   "execution_count": 4,
   "metadata": {},
   "outputs": [],
   "source": [
    "# define scan pattern\n",
    "L = 75  # size of scan pattern\n",
    "orbitpoints = 6  # number of probing points in orbit\n",
    "probecenter = True  # should we also probe the center?\n",
    "laserpower = 5  # relative, increases brightness\n",
    "pointdwelltime = 0.1  # ms, measurement time in each point\n",
    "repetitions = 2 # how often to repeat the pattern scan\n",
    "sim.definePattern(\"donut\", psf_donut, \n",
    "                  makepattern=\"orbitscan\", \n",
    "                  orbitpoints=orbitpoints,\n",
    "                  probecenter=probecenter, \n",
    "                  orbitL=L, \n",
    "                  pointdwelltime=pointdwelltime, \n",
    "                  laserpower=laserpower, \n",
    "                  repetitions=repetitions)"
   ]
  },
  {
   "cell_type": "code",
   "execution_count": 5,
   "metadata": {},
   "outputs": [],
   "source": [
    "# we need an estimator. Define as component\n",
    "fwhm=360  # size of the donut, needed for proper estimation. \n",
    "sim.defineComponent(\"estdonut\", \"estimator\", est_donut2d, parameters=[sim.patterns[\"donut\"].pos, L, fwhm], dim=(0,1))"
   ]
  },
  {
   "cell_type": "code",
   "execution_count": 6,
   "metadata": {},
   "outputs": [
    {
     "name": "stdout",
     "output_type": "stream",
     "text": [
      "photch: 17.3, 25.8, 41.8, 49.4, 41.8, 25.7, 2.3, mean(phot): 204.2, signal phot: 204.2\n",
      "std:  1.83, 1.60, 0.00, rmse: 2.28, 1.60, 0.00, pos: 8.63, -0.01, 0.00, bias: -1.37, -0.01, 0.00\n",
      "locp: 1.86, 1.86, 0.00, sCRB: 1.83, 2.01, 0.00, sCRB*sqrt(phot): 26.1, 28.7, 0.0\n"
     ]
    }
   ],
   "source": [
    "# sequence: \n",
    "seq = [\"donut\", \"estdonut\"]\n",
    "out = sim.runSequence(seq, maxlocs=numberOfLocalizations)\n",
    "# args: maxlocs: number of times the pattern is scanned (one trace)\n",
    "#       repetitions: number of times the sequence is repeated\n",
    "# out.loc: localizations\n",
    "# out.fluorophores: position of fluorophores\n",
    "# out.raw: photon measurements\n",
    "\n",
    "summary = sim.summarize_results(out)  # display summary of simulation"
   ]
  },
  {
   "cell_type": "code",
   "execution_count": null,
   "metadata": {},
   "outputs": [],
   "source": []
  }
 ],
 "metadata": {
  "kernelspec": {
   "display_name": "expansion",
   "language": "python",
   "name": "python3"
  },
  "language_info": {
   "codemirror_mode": {
    "name": "ipython",
    "version": 3
   },
   "file_extension": ".py",
   "mimetype": "text/x-python",
   "name": "python",
   "nbconvert_exporter": "python",
   "pygments_lexer": "ipython3",
   "version": "3.11.10"
  }
 },
 "nbformat": 4,
 "nbformat_minor": 2
}
